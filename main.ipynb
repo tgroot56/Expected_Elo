{
 "cells": [
  {
   "cell_type": "markdown",
   "metadata": {},
   "source": [
    "### Fetch Data from FBRef API"
   ]
  },
  {
   "cell_type": "markdown",
   "metadata": {},
   "source": [
    "First get the API key"
   ]
  },
  {
   "cell_type": "code",
   "execution_count": 52,
   "metadata": {},
   "outputs": [],
   "source": [
    "from python.fbref import FBRAPIDataset\n",
    "import requests\n",
    "import time\n",
    "\n",
    "dataset = FBRAPIDataset()"
   ]
  },
  {
   "cell_type": "markdown",
   "metadata": {},
   "source": [
    "Get the country codes and league ids"
   ]
  },
  {
   "cell_type": "code",
   "execution_count": 53,
   "metadata": {},
   "outputs": [
    {
     "name": "stdout",
     "output_type": "stream",
     "text": [
      "Country IDs: ['ENG', 'FRA', 'GER', 'ITA', 'ESP'] league ids [9, 13, 11, 208, 12] season ids ['2018-2019', '2019-2020', '2020-2021', '2021-2022', '2022-2023', '2023-2024']\n"
     ]
    }
   ],
   "source": [
    "target_countries = ['England', 'Spain', 'Italy', 'France', 'Germany']\n",
    "target_leagues = ['Premier League', 'La Liga', 'Serie A', 'Ligue 1', 'Bundesliga']\n",
    "# target_countries = ['England']\n",
    "# target_leagues = ['Premier League']\n",
    "\n",
    "country_ids = dataset.get_country_ids(target_countries)\n",
    "league_ids = dataset.get_league_ids(target_leagues, country_ids)\n",
    "#season_ids = dataset.get_season_ids(league_ids) POSSIBLY USE THIS LATER, BUT FOR NOW WE ARE JUST USING 2018-2019 UNTIL 2023-2024\n",
    "season_ids = ['2018-2019', '2019-2020', '2020-2021', '2021-2022', '2022-2023', '2023-2024']\n",
    "\n",
    "print(\"Country IDs:\", country_ids, \"league ids\", league_ids, \"season ids\", season_ids)"
   ]
  },
  {
   "cell_type": "markdown",
   "metadata": {},
   "source": [
    "Fetch data for each league and season"
   ]
  },
  {
   "cell_type": "code",
   "execution_count": 54,
   "metadata": {},
   "outputs": [
    {
     "name": "stdout",
     "output_type": "stream",
     "text": [
      "Failed to fetch for league 208, season 2018-2019\n",
      "Failed to fetch for league 208, season 2019-2020\n",
      "Raw data saved to ./data\\raw_team_stats.json\n"
     ]
    }
   ],
   "source": [
    "# Loop over each combination of league and season\n",
    "import json\n",
    "import os\n",
    "\n",
    "stats = []\n",
    "for league_id in league_ids:\n",
    "    for season_id in season_ids:\n",
    "        stats.extend(dataset.fetch_team_stats(league_id, season_id))\n",
    "\n",
    "# Save raw data to a JSON file for future use in the ./data directory\n",
    "output_path = os.path.join('./data', \"raw_team_stats.json\")\n",
    "with open(output_path, \"w\") as f:\n",
    "    json.dump(stats, f, indent=2)\n",
    "\n",
    "print(f\"Raw data saved to {output_path}\")"
   ]
  },
  {
   "cell_type": "markdown",
   "metadata": {},
   "source": [
    "Flatten dictionary and save to csv file"
   ]
  },
  {
   "cell_type": "code",
   "execution_count": 55,
   "metadata": {},
   "outputs": [
    {
     "name": "stdout",
     "output_type": "stream",
     "text": [
      "Structured data saved to team_stats.csv\n"
     ]
    }
   ],
   "source": [
    "import pandas as pd\n",
    "\n",
    "with open(\"./data/raw_team_stats.json\", \"r\") as f:\n",
    "    raw_data = json.load(f)\n",
    "\n",
    "# Use the static method to flatten each record\n",
    "flattened_data = [FBRAPIDataset.flatten_dict(record) for record in raw_data]\n",
    "\n",
    "# Optionally, convert the flattened data to a DataFrame for easier inspection\n",
    "df_flat = pd.DataFrame(flattened_data)\n",
    "df_flat.to_csv(\"./data/team_stats.csv\", index=False)\n",
    "print(\"Structured data saved to team_stats.csv\")"
   ]
  },
  {
   "cell_type": "markdown",
   "metadata": {},
   "source": [
    "### Attach ELO ratings to csv files as target column"
   ]
  },
  {
   "cell_type": "code",
   "execution_count": 57,
   "metadata": {},
   "outputs": [
    {
     "name": "stdout",
     "output_type": "stream",
     "text": [
      "ELO Ratings DataFrame:\n",
      "  meta_data_team_name  season_id          Elo\n",
      "0             Arsenal  2018-2019  1870.875122\n",
      "1         Bournemouth  2018-2019  1694.885864\n",
      "2            Brighton  2018-2019  1620.250977\n",
      "3             Burnley  2018-2019  1685.654907\n",
      "4        Cardiff City  2018-2019          NaN\n",
      "Merged Dataset with Elo column:\n",
      "  meta_data_team_id meta_data_team_name  stats_stats_roster_size  \\\n",
      "0          18bb7c10             Arsenal                       28   \n",
      "1          4ba7cbea         Bournemouth                       28   \n",
      "2          d07537b9            Brighton                       21   \n",
      "3          943e8050             Burnley                       23   \n",
      "4          75fae011        Cardiff City                       25   \n",
      "\n",
      "   stats_stats_matches_played  stats_stats_ttl_gls  stats_stats_ttl_ast  \\\n",
      "0                          38                   69                   52   \n",
      "1                          38                   55                   43   \n",
      "2                          38                   35                   24   \n",
      "3                          38                   43                   32   \n",
      "4                          38                   33                   20   \n",
      "\n",
      "   stats_stats_ttl_non_pen_gls  stats_stats_ttl_xg  \\\n",
      "0                           65                60.1   \n",
      "1                           48                53.3   \n",
      "2                           30                35.3   \n",
      "3                           41                44.4   \n",
      "4                           30                42.4   \n",
      "\n",
      "   stats_stats_ttl_non_pen_xg  stats_stats_ttl_xag  ...  \\\n",
      "0                        56.0                 46.7  ...   \n",
      "1                        46.2                 38.8  ...   \n",
      "2                        30.7                 24.5  ...   \n",
      "3                        42.8                 31.2  ...   \n",
      "4                        39.2                 27.6  ...   \n",
      "\n",
      "   stats_misc_ttl_offside  stats_misc_ttl_pk_won  stats_misc_ttl_pk_conceded  \\\n",
      "0                      89                      4                           7   \n",
      "1                      57                      8                           5   \n",
      "2                      90                      5                          10   \n",
      "3                     106                      1                           3   \n",
      "4                      77                      2                           7   \n",
      "\n",
      "   stats_misc_ttl_og  stats_misc_ttl_ball_recov  stats_misc_ttl_air_dual_won  \\\n",
      "0                  1                       2000                          555   \n",
      "1                  3                       1910                          701   \n",
      "2                  0                       1979                          824   \n",
      "3                  4                       1955                         1016   \n",
      "4                  0                       1975                          966   \n",
      "\n",
      "   stats_misc_ttl_air_dual_lost  league_id  season_id          Elo  \n",
      "0                           637          9  2018-2019  1870.875122  \n",
      "1                           736          9  2018-2019  1694.885864  \n",
      "2                           780          9  2018-2019  1620.250977  \n",
      "3                          1025          9  2018-2019  1685.654907  \n",
      "4                           966          9  2018-2019          NaN  \n",
      "\n",
      "[5 rows x 169 columns]\n"
     ]
    }
   ],
   "source": [
    "import importlib\n",
    "import python.elo\n",
    "\n",
    "# Reload the module\n",
    "importlib.reload(python.elo)\n",
    "\n",
    "# Use the class directly from the module\n",
    "elo_dataset = python.elo.ELODataset(['2018-2019', '2019-2020', '2020-2021', '2021-2022', '2022-2023', '2023-2024'])\n",
    "\n",
    "# Load your team season stats CSV file\n",
    "team_stats = pd.read_csv(\"data/team_stats.csv\")\n",
    "\n",
    "# Retrieve Elo ratings based on the team_stats data.\n",
    "ratings_df = elo_dataset.get_ratings(team_stats)\n",
    "print(\"ELO Ratings DataFrame:\")\n",
    "print(ratings_df.head())\n",
    "\n",
    "# Merge the Elo ratings into the team_stats DataFrame.\n",
    "merged_team_stats = elo_dataset.merge_ratings(team_stats)\n",
    "print(\"Merged Dataset with Elo column:\")\n",
    "print(merged_team_stats.head())\n",
    "\n",
    "# Save the merged dataset to a CSV file.\n",
    "merged_team_stats.to_csv(\"data/team_stats_with_elo.csv\", index=False)\n"
   ]
  },
  {
   "cell_type": "markdown",
   "metadata": {},
   "source": [
    "### Normalize Data"
   ]
  },
  {
   "cell_type": "code",
   "execution_count": 58,
   "metadata": {},
   "outputs": [
    {
     "name": "stdout",
     "output_type": "stream",
     "text": [
      "  meta_data_team_id meta_data_team_name  league_id  season_id  \\\n",
      "0          18bb7c10             Arsenal          9  2018-2019   \n",
      "1          4ba7cbea         Bournemouth          9  2018-2019   \n",
      "2          d07537b9            Brighton          9  2018-2019   \n",
      "3          943e8050             Burnley          9  2018-2019   \n",
      "4          75fae011        Cardiff City          9  2018-2019   \n",
      "\n",
      "   stats_stats_roster_size  stats_stats_matches_played  stats_stats_ttl_gls  \\\n",
      "0                -0.207088                     0.44667             1.244576   \n",
      "1                -0.207088                     0.44667             0.399594   \n",
      "2                -2.167320                     0.44667            -0.807524   \n",
      "3                -1.607254                     0.44667            -0.324677   \n",
      "4                -1.047187                     0.44667            -0.928235   \n",
      "\n",
      "   stats_stats_ttl_ast  stats_stats_ttl_non_pen_gls  stats_stats_ttl_xg  ...  \\\n",
      "0             1.479016                     1.383993            0.896686  ...   \n",
      "1             0.778623                     0.289851            0.384738  ...   \n",
      "2            -0.699985                    -0.868652           -0.970419  ...   \n",
      "3            -0.077413                    -0.160678           -0.285312  ...   \n",
      "4            -1.011271                    -0.868652           -0.435885  ...   \n",
      "\n",
      "   stats_misc_ttl_fls_ag  stats_misc_ttl_fls_for  stats_misc_ttl_offside  \\\n",
      "0              -0.352876                0.422031                1.332712   \n",
      "1              -1.172507                0.254864               -0.509454   \n",
      "2               0.227695               -1.416812                1.390280   \n",
      "3              -0.944832               -0.760082                2.311363   \n",
      "4              -0.785459               -0.354104                0.641900   \n",
      "\n",
      "   stats_misc_ttl_pk_won  stats_misc_ttl_pk_conceded  stats_misc_ttl_og  \\\n",
      "0              -0.246186                    0.333611          -0.406593   \n",
      "1               1.314129                   -0.387846           1.219779   \n",
      "2               0.143893                    1.415797          -1.219779   \n",
      "3              -1.416422                   -1.109304           2.032965   \n",
      "4              -1.026343                    0.333611          -1.219779   \n",
      "\n",
      "   stats_misc_ttl_ball_recov  stats_misc_ttl_air_dual_won  \\\n",
      "0                   0.515705                     0.177937   \n",
      "1                   0.179512                     1.014733   \n",
      "2                   0.437260                     1.719706   \n",
      "3                   0.347608                     2.820151   \n",
      "4                   0.422318                     2.533576   \n",
      "\n",
      "   stats_misc_ttl_air_dual_lost          Elo  \n",
      "0                      0.631409  1870.875122  \n",
      "1                      1.184531  1694.885864  \n",
      "2                      1.430363  1620.250977  \n",
      "3                      2.799199  1685.654907  \n",
      "4                      2.469561  1696.034124  \n",
      "\n",
      "[5 rows x 169 columns]\n"
     ]
    }
   ],
   "source": [
    "import importlib\n",
    "import python.dataset\n",
    "\n",
    "# Force reload the module to get the latest changes\n",
    "importlib.reload(python.dataset)\n",
    "\n",
    "# Now import the function\n",
    "from python.dataset import load_and_normalize_data\n",
    "\n",
    "# Load and normalize the data\n",
    "normalized_data = load_and_normalize_data(\n",
    "    csv_path=\"data/team_stats_with_elo.csv\", \n",
    "    output_path=\"data/team_stats_with_elo_normalized.csv\"\n",
    ")\n",
    "\n",
    "# Display the first few rows to verify\n",
    "print(normalized_data.head())\n"
   ]
  },
  {
   "cell_type": "markdown",
   "metadata": {},
   "source": [
    "Split Data"
   ]
  },
  {
   "cell_type": "code",
   "execution_count": 59,
   "metadata": {},
   "outputs": [
    {
     "name": "stdout",
     "output_type": "stream",
     "text": [
      "Full dataset shape: (572, 169)\n",
      "Columns in data:\n",
      "['meta_data_team_id', 'meta_data_team_name', 'league_id', 'season_id', 'stats_stats_roster_size', 'stats_stats_matches_played', 'stats_stats_ttl_gls', 'stats_stats_ttl_ast', 'stats_stats_ttl_non_pen_gls', 'stats_stats_ttl_xg', 'stats_stats_ttl_non_pen_xg', 'stats_stats_ttl_xag', 'stats_stats_ttl_pk_made', 'stats_stats_ttl_pk_att', 'stats_stats_ttl_yellow_cards', 'stats_stats_ttl_red_cards', 'stats_stats_ttl_carries_prog', 'stats_stats_ttl_passes_prog', 'stats_stats_avg_gls', 'stats_stats_avg_ast', 'stats_stats_avg_non_pen_gls', 'stats_stats_avg_xg', 'stats_stats_avg_xag', 'stats_stats_avg_non_pen_xg', 'stats_keepers_ttl_gls_ag', 'stats_keepers_avg_gls_ag', 'stats_keepers_sot_ag', 'stats_keepers_ttl_saves', 'stats_keepers_save_pct', 'stats_keepers_clean_sheets', 'stats_keepers_clean_sheet_pct', 'stats_keepers_pk_att_ag', 'stats_keepers_pk_made_ag', 'stats_keepers_pk_saved', 'stats_keepers_pk_miss_ag', 'stats_keepers_pk_save_pct', 'stats_keepersadv_ttl_pk_att_ag', 'stats_keepersadv_ttl_fk_gls_ag', 'stats_keepersadv_ttl_ck_gls_ag', 'stats_keepersadv_ttl_og_ag', 'stats_keepersadv_ttl_psxg', 'stats_keepersadv_psxg_per_sot', 'stats_keepersadv_ttl_launched_pass_cmp', 'stats_keepersadv_ttl_launched_pass_att', 'stats_keepersadv_pct_launched_pass_cmp', 'stats_keepersadv_ttl_pass_att', 'stats_keepersadv_ttl_throws_att', 'stats_keepersadv_pct_passes_launched', 'stats_keepersadv_avg_pass_len', 'stats_keepersadv_ttl_gk_att', 'stats_keepersadv_pct_gk_launch', 'stats_keepersadv_avg_gk_len', 'stats_keepersadv_ttl_crosses_faced', 'stats_keepersadv_ttl_crosses_stopped', 'stats_keepersadv_pct_crosses_stopped', 'stats_keepersadv_ttl_def_action_outside_box', 'stats_keepersadv_avg_def_action_outside_box', 'stats_keepersadv_avg_dist_def_action_outside_box', 'stats_shooting_ttl_sh', 'stats_shooting_ttl_sot', 'stats_shooting_pct_sot', 'stats_shooting_avg_sh', 'stats_shooting_avg_sot', 'stats_shooting_gls_per_sh', 'stats_shooting_gls_per_sot', 'stats_shooting_avg_sh_dist', 'stats_shooting_ttl_fk_sh', 'stats_shooting_npxg_per_sh', 'stats_shooting_ttl_gls_xg_diff', 'stats_shooting_ttl_non_pen_gls_xg_diff', 'stats_passing_ttl_pass_cmp', 'stats_passing_pct_pass_cmp', 'stats_passing_pass_ttl_dist', 'stats_passing_ttl_pass_cmp_s', 'stats_passing_ttl_pass_att_s', 'stats_passing_pct_pass_cmp_s', 'stats_passing_ttl_pass_cmp_m', 'stats_passing_ttl_pass_att_m', 'stats_passing_pct_pass_cmp_m', 'stats_passing_ttl_pass_cmp_l', 'stats_passing_ttl_pass_att_l', 'stats_passing_pct_pass_cmp_l', 'stats_passing_ttl_xa', 'stats_passing_ttl_ast_xag_diff', 'stats_passing_ttl_pass_prog', 'stats_passing_pass_prog_ttl_dist', 'stats_passing_ttl_key_passes', 'stats_passing_ttl_pass_fthird', 'stats_passing_ttl_pass_opp_box', 'stats_passing_ttl_cross_opp_box', 'stats_passing_types_ttl_pass_live', 'stats_passing_types_ttl_pass_dead', 'stats_passing_types_ttl_pass_fk', 'stats_passing_types_ttl_through_balls', 'stats_passing_types_ttl_switches', 'stats_passing_types_ttl_crosses', 'stats_passing_types_ttl_pass_offside', 'stats_passing_types_ttl_pass_blocked', 'stats_passing_types_ttl_throw_ins', 'stats_passing_types_ttl_ck', 'stats_passing_types_ck_in_swinger', 'stats_passing_types_ck_out_swinger', 'stats_passing_types_ck_straight', 'stats_gca_ttl_sca', 'stats_gca_avg_sca', 'stats_gca_ttl_pass_live_sca', 'stats_gca_ttl_take_on_sca', 'stats_gca_ttl_sh_sca', 'stats_gca_ttl_fld_sca', 'stats_gca_ttl_def_sca', 'stats_gca_ttl_gca', 'stats_gca_avg_gca', 'stats_gca_ttl_pass_live_gca', 'stats_gca_ttl_pass_dead_gca', 'stats_gca_ttl_take_on_gca', 'stats_gca_ttl_sh_gca', 'stats_gca_ttl_fld_gca', 'stats_gca_ttl_def_gca', 'stats_defense_ttl_tkl', 'stats_defense_ttl_tkl_won', 'stats_defense_ttl_tkl_def_third', 'stats_defense_ttl_tkl_mid_third', 'stats_defense_ttl_tkl_att_third', 'stats_defense_ttl_tkl_drb', 'stats_defense_ttl_tkl_drb_att', 'stats_defense_pct_tkl_drb_suc', 'stats_defense_ttl_blocks', 'stats_defense_ttl_sh_blocked', 'stats_defense_ttl_int', 'stats_defense_ttl_tkl_plus_int', 'stats_defense_ttl_clearances', 'stats_defense_ttl_def_error', 'stats_possession_avg_poss', 'stats_possession_ttl_touches', 'stats_possession_ttl_touch_def_box', 'stats_possession_ttl_touch_def_third', 'stats_possession_ttl_touch_mid_third', 'stats_possession_ttl_touch_fthird', 'stats_possession_ttl_touch_opp_box', 'stats_possession_ttl_touch_live', 'stats_possession_ttl_take_on_att', 'stats_possession_ttl_take_on_suc', 'stats_possession_pct_take_on_suc', 'stats_possession_ttl_take_on_tkld', 'stats_possession_pct_take_on_tkld', 'stats_possession_ttl_carries', 'stats_possession_ttl_carries_dist', 'stats_possession_ttl_carries_prog_dist', 'stats_possession_ttl_carries_fthird', 'stats_possession_ttl_carries_opp_box', 'stats_possession_ttl_carries_miscontrolled', 'stats_possession_ttl_carries_dispossessed', 'stats_possession_ttl_pass_recvd', 'stats_possession_ttl_pass_prog_rcvd', 'stats_playingtime_avg_age', 'stats_playingtime_avg_min_starter', 'stats_playingtime_ttl_subs', 'stats_playingtime_avg_min_sub', 'stats_misc_ttl_second_yellow_cards', 'stats_misc_ttl_fls_ag', 'stats_misc_ttl_fls_for', 'stats_misc_ttl_offside', 'stats_misc_ttl_pk_won', 'stats_misc_ttl_pk_conceded', 'stats_misc_ttl_og', 'stats_misc_ttl_ball_recov', 'stats_misc_ttl_air_dual_won', 'stats_misc_ttl_air_dual_lost', 'Elo']\n",
      "\n",
      "Numeric feature columns (excluding Elo):\n",
      "['league_id', 'stats_stats_roster_size', 'stats_stats_matches_played', 'stats_stats_ttl_gls', 'stats_stats_ttl_ast', 'stats_stats_ttl_non_pen_gls', 'stats_stats_ttl_xg', 'stats_stats_ttl_non_pen_xg', 'stats_stats_ttl_xag', 'stats_stats_ttl_pk_made', 'stats_stats_ttl_pk_att', 'stats_stats_ttl_yellow_cards', 'stats_stats_ttl_red_cards', 'stats_stats_ttl_carries_prog', 'stats_stats_ttl_passes_prog', 'stats_stats_avg_gls', 'stats_stats_avg_ast', 'stats_stats_avg_non_pen_gls', 'stats_stats_avg_xg', 'stats_stats_avg_xag', 'stats_stats_avg_non_pen_xg', 'stats_keepers_ttl_gls_ag', 'stats_keepers_avg_gls_ag', 'stats_keepers_sot_ag', 'stats_keepers_ttl_saves', 'stats_keepers_save_pct', 'stats_keepers_clean_sheets', 'stats_keepers_clean_sheet_pct', 'stats_keepers_pk_att_ag', 'stats_keepers_pk_made_ag', 'stats_keepers_pk_saved', 'stats_keepers_pk_miss_ag', 'stats_keepers_pk_save_pct', 'stats_keepersadv_ttl_pk_att_ag', 'stats_keepersadv_ttl_fk_gls_ag', 'stats_keepersadv_ttl_ck_gls_ag', 'stats_keepersadv_ttl_og_ag', 'stats_keepersadv_ttl_psxg', 'stats_keepersadv_psxg_per_sot', 'stats_keepersadv_ttl_launched_pass_cmp', 'stats_keepersadv_ttl_launched_pass_att', 'stats_keepersadv_pct_launched_pass_cmp', 'stats_keepersadv_ttl_pass_att', 'stats_keepersadv_ttl_throws_att', 'stats_keepersadv_pct_passes_launched', 'stats_keepersadv_avg_pass_len', 'stats_keepersadv_ttl_gk_att', 'stats_keepersadv_pct_gk_launch', 'stats_keepersadv_avg_gk_len', 'stats_keepersadv_ttl_crosses_faced', 'stats_keepersadv_ttl_crosses_stopped', 'stats_keepersadv_pct_crosses_stopped', 'stats_keepersadv_ttl_def_action_outside_box', 'stats_keepersadv_avg_def_action_outside_box', 'stats_keepersadv_avg_dist_def_action_outside_box', 'stats_shooting_ttl_sh', 'stats_shooting_ttl_sot', 'stats_shooting_pct_sot', 'stats_shooting_avg_sh', 'stats_shooting_avg_sot', 'stats_shooting_gls_per_sh', 'stats_shooting_gls_per_sot', 'stats_shooting_avg_sh_dist', 'stats_shooting_ttl_fk_sh', 'stats_shooting_npxg_per_sh', 'stats_shooting_ttl_gls_xg_diff', 'stats_shooting_ttl_non_pen_gls_xg_diff', 'stats_passing_ttl_pass_cmp', 'stats_passing_pct_pass_cmp', 'stats_passing_pass_ttl_dist', 'stats_passing_ttl_pass_cmp_s', 'stats_passing_ttl_pass_att_s', 'stats_passing_pct_pass_cmp_s', 'stats_passing_ttl_pass_cmp_m', 'stats_passing_ttl_pass_att_m', 'stats_passing_pct_pass_cmp_m', 'stats_passing_ttl_pass_cmp_l', 'stats_passing_ttl_pass_att_l', 'stats_passing_pct_pass_cmp_l', 'stats_passing_ttl_xa', 'stats_passing_ttl_ast_xag_diff', 'stats_passing_ttl_pass_prog', 'stats_passing_pass_prog_ttl_dist', 'stats_passing_ttl_key_passes', 'stats_passing_ttl_pass_fthird', 'stats_passing_ttl_pass_opp_box', 'stats_passing_ttl_cross_opp_box', 'stats_passing_types_ttl_pass_live', 'stats_passing_types_ttl_pass_dead', 'stats_passing_types_ttl_pass_fk', 'stats_passing_types_ttl_through_balls', 'stats_passing_types_ttl_switches', 'stats_passing_types_ttl_crosses', 'stats_passing_types_ttl_pass_offside', 'stats_passing_types_ttl_pass_blocked', 'stats_passing_types_ttl_throw_ins', 'stats_passing_types_ttl_ck', 'stats_passing_types_ck_in_swinger', 'stats_passing_types_ck_out_swinger', 'stats_passing_types_ck_straight', 'stats_gca_ttl_sca', 'stats_gca_avg_sca', 'stats_gca_ttl_pass_live_sca', 'stats_gca_ttl_take_on_sca', 'stats_gca_ttl_sh_sca', 'stats_gca_ttl_fld_sca', 'stats_gca_ttl_def_sca', 'stats_gca_ttl_gca', 'stats_gca_avg_gca', 'stats_gca_ttl_pass_live_gca', 'stats_gca_ttl_pass_dead_gca', 'stats_gca_ttl_take_on_gca', 'stats_gca_ttl_sh_gca', 'stats_gca_ttl_fld_gca', 'stats_gca_ttl_def_gca', 'stats_defense_ttl_tkl', 'stats_defense_ttl_tkl_won', 'stats_defense_ttl_tkl_def_third', 'stats_defense_ttl_tkl_mid_third', 'stats_defense_ttl_tkl_att_third', 'stats_defense_ttl_tkl_drb', 'stats_defense_ttl_tkl_drb_att', 'stats_defense_pct_tkl_drb_suc', 'stats_defense_ttl_blocks', 'stats_defense_ttl_sh_blocked', 'stats_defense_ttl_int', 'stats_defense_ttl_tkl_plus_int', 'stats_defense_ttl_clearances', 'stats_defense_ttl_def_error', 'stats_possession_avg_poss', 'stats_possession_ttl_touches', 'stats_possession_ttl_touch_def_box', 'stats_possession_ttl_touch_def_third', 'stats_possession_ttl_touch_mid_third', 'stats_possession_ttl_touch_fthird', 'stats_possession_ttl_touch_opp_box', 'stats_possession_ttl_touch_live', 'stats_possession_ttl_take_on_att', 'stats_possession_ttl_take_on_suc', 'stats_possession_pct_take_on_suc', 'stats_possession_ttl_take_on_tkld', 'stats_possession_pct_take_on_tkld', 'stats_possession_ttl_carries', 'stats_possession_ttl_carries_dist', 'stats_possession_ttl_carries_prog_dist', 'stats_possession_ttl_carries_fthird', 'stats_possession_ttl_carries_opp_box', 'stats_possession_ttl_carries_miscontrolled', 'stats_possession_ttl_carries_dispossessed', 'stats_possession_ttl_pass_recvd', 'stats_possession_ttl_pass_prog_rcvd', 'stats_playingtime_avg_age', 'stats_playingtime_avg_min_starter', 'stats_playingtime_ttl_subs', 'stats_playingtime_avg_min_sub', 'stats_misc_ttl_second_yellow_cards', 'stats_misc_ttl_fls_ag', 'stats_misc_ttl_fls_for', 'stats_misc_ttl_offside', 'stats_misc_ttl_pk_won', 'stats_misc_ttl_pk_conceded', 'stats_misc_ttl_og', 'stats_misc_ttl_ball_recov', 'stats_misc_ttl_air_dual_won', 'stats_misc_ttl_air_dual_lost']\n",
      "\n",
      "Dataset split sizes:\n",
      "Training set shape: (400, 169)\n",
      "Validation set shape: (86, 169)\n",
      "Test set shape: (86, 169)\n",
      "\n",
      "Feature and target shapes:\n",
      "X_train: (400, 165) y_train: (400,)\n",
      "X_val: (86, 165) y_val: (86,)\n",
      "X_test: (86, 165) y_test: (86,)\n",
      "\n",
      "First few rows of X_train:\n",
      "     league_id  stats_stats_roster_size  stats_stats_matches_played  \\\n",
      "149         13                -0.207088                   -1.584294   \n",
      "124         13                -0.767154                    0.446670   \n",
      "428        208                -0.487121                   -1.990487   \n",
      "196         13                -0.207088                    0.446670   \n",
      "264         11                 0.352979                    0.446670   \n",
      "\n",
      "     stats_stats_ttl_gls  stats_stats_ttl_ast  stats_stats_ttl_non_pen_gls  \\\n",
      "149            -0.264321            -0.310878                    -0.225039   \n",
      "124            -1.169659            -0.933449                    -1.126098   \n",
      "428             1.244576             1.401194                     1.448354   \n",
      "196             1.968847             2.179409                     2.156328   \n",
      "264            -0.203965            -0.466521                    -0.418123   \n",
      "\n",
      "     stats_stats_ttl_xg  stats_stats_ttl_non_pen_xg  stats_stats_ttl_xag  \\\n",
      "149            0.053477                    0.185347            -0.053443   \n",
      "124           -0.631630                   -0.553429            -0.541308   \n",
      "428            0.076063                    0.274649             0.063644   \n",
      "196            1.099959                    1.313806             1.312577   \n",
      "264            0.173935                    0.014860             0.083159   \n",
      "\n",
      "     stats_stats_ttl_pk_made  ...  stats_misc_ttl_second_yellow_cards  \\\n",
      "149                -0.337285  ...                           -0.396472   \n",
      "124                -0.719319  ...                            1.819638   \n",
      "428                -0.719319  ...                           -1.135175   \n",
      "196                -0.337285  ...                           -0.396472   \n",
      "264                 1.190851  ...                            0.342231   \n",
      "\n",
      "     stats_misc_ttl_fls_ag  stats_misc_ttl_fls_for  stats_misc_ttl_offside  \\\n",
      "149              -1.218042               -0.891428               -1.257834   \n",
      "124               1.479908                0.278745               -0.394319   \n",
      "428              -2.219812               -1.739206               -0.912428   \n",
      "196              -0.102434               -0.509331               -0.394319   \n",
      "264               1.275000                0.839950                1.447847   \n",
      "\n",
      "     stats_misc_ttl_pk_won  stats_misc_ttl_pk_conceded  stats_misc_ttl_og  \\\n",
      "149              -0.636265                   -0.027118          -0.406593   \n",
      "124              -1.416422                   -1.109304          -0.406593   \n",
      "428              -0.636265                   -0.748575          -1.219779   \n",
      "196              -0.246186                   -0.027118          -0.406593   \n",
      "264               0.924050                    1.055068          -0.406593   \n",
      "\n",
      "     stats_misc_ttl_ball_recov  stats_misc_ttl_air_dual_won  \\\n",
      "149                  -1.430478                    -0.681786   \n",
      "124                   0.377492                     0.974613   \n",
      "428                  -1.150318                    -2.005759   \n",
      "196                   0.157099                     0.132085   \n",
      "264                   1.061084                     1.112168   \n",
      "\n",
      "     stats_misc_ttl_air_dual_lost  \n",
      "149                     -0.849169  \n",
      "124                      1.542104  \n",
      "428                     -2.100676  \n",
      "196                      0.055939  \n",
      "264                      1.447124  \n",
      "\n",
      "[5 rows x 165 columns]\n",
      "\n",
      "First few rows of y_train:\n",
      "149    1590.761108\n",
      "124    1488.907104\n",
      "428    1794.563477\n",
      "196    1719.700684\n",
      "264    1696.034124\n",
      "Name: Elo, dtype: float64\n",
      "\n",
      "First few rows of X_val:\n",
      "     league_id  stats_stats_roster_size  stats_stats_matches_played  \\\n",
      "386        208                -0.207088                   -2.802873   \n",
      "208         13                 0.072946                    0.446670   \n",
      "90           9                -0.207088                    0.446670   \n",
      "204         13                -0.207088                    0.446670   \n",
      "9            9                 0.633012                    0.446670   \n",
      "\n",
      "     stats_stats_ttl_gls  stats_stats_ttl_ast  stats_stats_ttl_non_pen_gls  \\\n",
      "386            -0.626456            -0.466521                    -0.611207   \n",
      "208             0.882441             0.934266                     0.869103   \n",
      "90              0.037459             0.233873                     0.161128   \n",
      "204            -0.264321            -0.544342                    -0.418123   \n",
      "9              -1.652506            -1.556021                    -1.512265   \n",
      "\n",
      "     stats_stats_ttl_xg  stats_stats_ttl_non_pen_xg  stats_stats_ttl_xag  \\\n",
      "386           -1.113463                   -1.259731            -1.048687   \n",
      "208            0.971972                    0.924122             1.117431   \n",
      "90             0.173935                    0.185347             0.463693   \n",
      "204           -0.051924                   -0.309876            -0.580337   \n",
      "9             -1.459781                   -1.251612            -1.341405   \n",
      "\n",
      "     stats_stats_ttl_pk_made  ...  stats_misc_ttl_second_yellow_cards  \\\n",
      "386                -0.337285  ...                           -0.396472   \n",
      "208                 0.426783  ...                           -0.396472   \n",
      "90                 -0.719319  ...                            0.342231   \n",
      "204                 0.808817  ...                            0.342231   \n",
      "9                  -1.483387  ...                           -0.396472   \n",
      "\n",
      "     stats_misc_ttl_fls_ag  stats_misc_ttl_fls_for  stats_misc_ttl_offside  \\\n",
      "386              -2.117358               -1.822790               -0.624589   \n",
      "208               0.648894                0.398150               -0.509454   \n",
      "90               -0.375644               -0.270520                0.987306   \n",
      "204              -0.193504                2.057885               -0.797292   \n",
      "9                -0.261806               -0.592914               -0.164048   \n",
      "\n",
      "     stats_misc_ttl_pk_won  stats_misc_ttl_pk_conceded  stats_misc_ttl_og  \\\n",
      "386               0.533971                    0.333611          -1.219779   \n",
      "208               0.143893                    1.776526           1.219779   \n",
      "90                0.143893                   -0.387846           2.846151   \n",
      "204               0.924050                    2.137254          -1.219779   \n",
      "9                -1.416422                    1.055068          -0.406593   \n",
      "\n",
      "     stats_misc_ttl_ball_recov  stats_misc_ttl_air_dual_won  \\\n",
      "386                  -2.700540                    -1.787962   \n",
      "208                   1.053613                    -0.412406   \n",
      "90                    0.564266                    -0.068517   \n",
      "204                   0.706214                    -0.653129   \n",
      "9                     0.751040                     1.834335   \n",
      "\n",
      "     stats_misc_ttl_air_dual_lost  \n",
      "386                     -2.022457  \n",
      "208                     -0.480421  \n",
      "90                       0.190029  \n",
      "204                     -0.541879  \n",
      "9                        1.581214  \n",
      "\n",
      "[5 rows x 165 columns]\n",
      "\n",
      "First few rows of y_val:\n",
      "386    1628.543213\n",
      "208    1708.247437\n",
      "90     1721.582153\n",
      "204    1578.861816\n",
      "9      1525.957031\n",
      "Name: Elo, dtype: float64\n",
      "\n",
      "First few rows of X_test:\n",
      "     league_id  stats_stats_roster_size  stats_stats_matches_played  \\\n",
      "268         11                 0.352979                     0.44667   \n",
      "89           9                 0.072946                     0.44667   \n",
      "319         11                -0.207088                     0.44667   \n",
      "79           9                -0.767154                     0.44667   \n",
      "108          9                -0.767154                     0.44667   \n",
      "\n",
      "     stats_stats_ttl_gls  stats_stats_ttl_ast  stats_stats_ttl_non_pen_gls  \\\n",
      "268             0.218526            -0.233056                    -0.160678   \n",
      "89             -0.203965            -0.155235                     0.032406   \n",
      "319             1.063509             0.467337                     1.126548   \n",
      "79             -0.807524            -0.855628                    -0.611207   \n",
      "108            -0.505744            -1.244735                    -0.353762   \n",
      "\n",
      "     stats_stats_ttl_xg  stats_stats_ttl_non_pen_xg  stats_stats_ttl_xag  \\\n",
      "268            0.490139                    0.006742            -0.102230   \n",
      "89            -0.066981                    0.120399            -0.180288   \n",
      "319            0.866571                    0.867294             0.893013   \n",
      "79            -0.804789                   -0.537192            -0.707182   \n",
      "108            0.437438                    0.664333             0.434421   \n",
      "\n",
      "     stats_stats_ttl_pk_made  ...  stats_misc_ttl_second_yellow_cards  \\\n",
      "268                 2.336952  ...                            0.342231   \n",
      "89                 -1.483387  ...                            0.342231   \n",
      "319                 0.044749  ...                           -0.396472   \n",
      "79                 -1.483387  ...                            0.342231   \n",
      "108                -1.101353  ...                           -0.396472   \n",
      "\n",
      "     stats_misc_ttl_fls_ag  stats_misc_ttl_fls_for  stats_misc_ttl_offside  \\\n",
      "268               0.295997                0.839950                0.066223   \n",
      "89                0.273230               -0.174996               -0.336751   \n",
      "319               0.250462                1.114582                0.814603   \n",
      "79               -0.876529               -1.010833               -0.279183   \n",
      "108               0.159392               -0.700379                1.332712   \n",
      "\n",
      "     stats_misc_ttl_pk_won  stats_misc_ttl_pk_conceded  stats_misc_ttl_og  \\\n",
      "268               2.094286                    2.497983           1.219779   \n",
      "89               -1.026343                   -0.027118          -0.406593   \n",
      "319               0.143893                   -0.387846           0.406593   \n",
      "79               -1.416422                    1.415797          -0.406593   \n",
      "108              -1.026343                    0.694340           1.219779   \n",
      "\n",
      "     stats_misc_ttl_ball_recov  stats_misc_ttl_air_dual_won  \\\n",
      "268                  -0.216449                    -0.211804   \n",
      "89                    1.285213                     0.355613   \n",
      "319                   1.139529                    -0.016934   \n",
      "79                    0.904194                    -0.360823   \n",
      "108                   0.403640                     0.871446   \n",
      "\n",
      "     stats_misc_ttl_air_dual_lost  \n",
      "268                     -0.161957  \n",
      "89                       0.463797  \n",
      "319                     -0.039041  \n",
      "79                      -0.189893  \n",
      "108                      0.296184  \n",
      "\n",
      "[5 rows x 165 columns]\n",
      "\n",
      "First few rows of y_test:\n",
      "268    1509.381958\n",
      "89     1655.529663\n",
      "319    1833.274902\n",
      "79     1725.118408\n",
      "108    1706.850830\n",
      "Name: Elo, dtype: float64\n"
     ]
    }
   ],
   "source": [
    "import pandas as pd\n",
    "import numpy as np\n",
    "from sklearn.model_selection import train_test_split\n",
    "\n",
    "\n",
    "# Quick info about the data\n",
    "print(\"Full dataset shape:\", normalized_data.shape)\n",
    "print(\"Columns in data:\")\n",
    "print(normalized_data.columns.tolist())\n",
    "\n",
    "# Identify all numeric columns and then select those for features (excluding the Elo target)\n",
    "numeric_cols = normalized_data.select_dtypes(exclude=['object']).columns.tolist()\n",
    "features = [col for col in numeric_cols if col != \"Elo\"]\n",
    "print(\"\\nNumeric feature columns (excluding Elo):\")\n",
    "print(features)\n",
    "\n",
    "# Split data into 70% train and 30% temporary set (for validation and test)\n",
    "train_data, temp_data = train_test_split(normalized_data, test_size=0.30, random_state=42, shuffle=True)\n",
    "\n",
    "# Further split the temporary set equally into 15% validation and 15% test sets\n",
    "val_data, test_data = train_test_split(temp_data, test_size=0.5, random_state=42, shuffle=True)\n",
    "\n",
    "print(\"\\nDataset split sizes:\")\n",
    "print(\"Training set shape:\", train_data.shape)\n",
    "print(\"Validation set shape:\", val_data.shape)\n",
    "print(\"Test set shape:\", test_data.shape)\n",
    "\n",
    "# Split each dataset into X (features) and y (target: Elo)\n",
    "x_train = train_data[features]\n",
    "y_train = train_data[\"Elo\"]\n",
    "\n",
    "x_val = val_data[features]\n",
    "y_val = val_data[\"Elo\"]\n",
    "\n",
    "x_test = test_data[features]\n",
    "y_test = test_data[\"Elo\"]\n",
    "\n",
    "# Print the shapes of the resulting splits to verify\n",
    "print(\"\\nFeature and target shapes:\")\n",
    "print(\"X_train:\", x_train.shape, \"y_train:\", y_train.shape)\n",
    "print(\"X_val:\", x_val.shape, \"y_val:\", y_val.shape)\n",
    "print(\"X_test:\", x_test.shape, \"y_test:\", y_test.shape)\n",
    "\n",
    "# Display the first few rows from each split for inspection\n",
    "print(\"\\nFirst few rows of X_train:\")\n",
    "print(x_train.head())\n",
    "print(\"\\nFirst few rows of y_train:\")\n",
    "print(y_train.head())\n",
    "\n",
    "print(\"\\nFirst few rows of X_val:\")\n",
    "print(x_val.head())\n",
    "print(\"\\nFirst few rows of y_val:\")\n",
    "print(y_val.head())\n",
    "\n",
    "print(\"\\nFirst few rows of X_test:\")\n",
    "print(x_test.head())\n",
    "print(\"\\nFirst few rows of y_test:\")\n",
    "print(y_test.head())\n"
   ]
  },
  {
   "cell_type": "code",
   "execution_count": 60,
   "metadata": {},
   "outputs": [],
   "source": [
    "import torch\n",
    "from torch.utils.data import TensorDataset\n",
    "import pandas as pd\n",
    "\n",
    "# Example: Assuming x_train, y_train, x_val, y_val, x_test, y_test are already loaded\n",
    "\n",
    "# Convert training data\n",
    "X_train_tensor = torch.tensor(x_train.values, dtype=torch.float32)\n",
    "y_train_tensor = torch.tensor(y_train.values, dtype=torch.float32).view(-1, 1)\n",
    "\n",
    "# Convert validation data\n",
    "X_val_tensor = torch.tensor(x_val.values, dtype=torch.float32)\n",
    "y_val_tensor = torch.tensor(y_val.values, dtype=torch.float32).view(-1, 1)\n",
    "\n",
    "# Convert test data\n",
    "X_test_tensor = torch.tensor(x_test.values, dtype=torch.float32)\n",
    "y_test_tensor = torch.tensor(y_test.values, dtype=torch.float32).view(-1, 1)\n",
    "\n",
    "# Create TensorDatasets for each split\n",
    "train_dataset = TensorDataset(X_train_tensor, y_train_tensor)\n",
    "val_dataset = TensorDataset(X_val_tensor, y_val_tensor)\n",
    "test_dataset = TensorDataset(X_test_tensor, y_test_tensor)\n"
   ]
  },
  {
   "cell_type": "markdown",
   "metadata": {},
   "source": [
    "### Model Training and Evaluation"
   ]
  },
  {
   "cell_type": "code",
   "execution_count": 63,
   "metadata": {},
   "outputs": [],
   "source": [
    "import matplotlib.pyplot as plt\n",
    "\n",
    "def plot_training_history(training_losses, validation_losses):\n",
    "    \"\"\"\n",
    "    Plot training and validation losses.\n",
    "    \n",
    "    Parameters:\n",
    "        training_losses (list): List of training losses over epochs.\n",
    "        validation_losses (list): List of validation losses over epochs.\n",
    "    \"\"\"\n",
    "    plt.figure(figsize=(10, 6))\n",
    "    epochs = range(1, len(training_losses) + 1)\n",
    "    \n",
    "    plt.plot(epochs, training_losses, 'b-', label='Training Loss')\n",
    "    plt.plot(epochs, validation_losses, 'r-', label='Validation Loss')\n",
    "    \n",
    "    plt.title('Training and Validation Loss')\n",
    "    plt.xlabel('Epochs')\n",
    "    plt.ylabel('Loss')\n",
    "    plt.legend()\n",
    "    plt.grid(True)\n",
    "    \n",
    "    # Optional: Add log scale for better visualization of small changes\n",
    "    plt.yscale('log')\n",
    "    \n",
    "    # Save the plot if needed\n",
    "    # plt.savefig('training_validation_loss.png', dpi=300, bbox_inches='tight')\n",
    "    \n",
    "    plt.show()\n",
    "\n",
    "# After training the model, you would call it like this:\n",
    "# model, training_losses, validation_losses = model.train_model(...)\n",
    "# plot_training_history(training_losses, validation_losses)"
   ]
  },
  {
   "cell_type": "code",
   "execution_count": 75,
   "metadata": {},
   "outputs": [
    {
     "name": "stderr",
     "output_type": "stream",
     "text": [
      "Training epochs:   0%|          | 0/1000 [00:00<?, ?it/s]"
     ]
    },
    {
     "name": "stderr",
     "output_type": "stream",
     "text": [
      "Training epochs:   0%|          | 2/1000 [00:00<01:16, 13.09it/s]"
     ]
    },
    {
     "name": "stdout",
     "output_type": "stream",
     "text": [
      "Epoch [1]: New best model saved with Validation Loss: 2930175.6919\n",
      "Epoch [2]: New best model saved with Validation Loss: 2917322.8140\n",
      "Epoch [3]: New best model saved with Validation Loss: 2889771.6919\n"
     ]
    },
    {
     "name": "stderr",
     "output_type": "stream",
     "text": [
      "Training epochs:   1%|          | 6/1000 [00:00<01:14, 13.35it/s]"
     ]
    },
    {
     "name": "stdout",
     "output_type": "stream",
     "text": [
      "Epoch [4]: New best model saved with Validation Loss: 2834919.2674\n",
      "Epoch [5]: New best model saved with Validation Loss: 2737081.4709\n",
      "Epoch [6]: New best model saved with Validation Loss: 2580539.1570\n"
     ]
    },
    {
     "name": "stderr",
     "output_type": "stream",
     "text": [
      "Training epochs:   1%|          | 10/1000 [00:00<01:03, 15.57it/s]"
     ]
    },
    {
     "name": "stdout",
     "output_type": "stream",
     "text": [
      "Epoch [7]: New best model saved with Validation Loss: 2370963.0698\n",
      "Epoch [8]: New best model saved with Validation Loss: 2118683.2587\n",
      "Epoch [9]: New best model saved with Validation Loss: 1864588.9884\n",
      "Epoch [10/1000], Training Loss: 1744658.6850, Validation Loss: 1635198.7791\n",
      "Epoch [10]: New best model saved with Validation Loss: 1635198.7791\n"
     ]
    },
    {
     "name": "stderr",
     "output_type": "stream",
     "text": [
      "Training epochs:   1%|          | 12/1000 [00:00<01:07, 14.66it/s]"
     ]
    },
    {
     "name": "stdout",
     "output_type": "stream",
     "text": [
      "Epoch [11]: New best model saved with Validation Loss: 1425855.7122\n",
      "Epoch [12]: New best model saved with Validation Loss: 1225229.4215\n",
      "Epoch [13]: New best model saved with Validation Loss: 1041430.7878\n"
     ]
    },
    {
     "name": "stderr",
     "output_type": "stream",
     "text": [
      "Training epochs:   2%|▏         | 16/1000 [00:01<01:12, 13.52it/s]"
     ]
    },
    {
     "name": "stdout",
     "output_type": "stream",
     "text": [
      "Epoch [14]: New best model saved with Validation Loss: 886886.5770\n",
      "Epoch [15]: New best model saved with Validation Loss: 765696.2980\n",
      "Epoch [16]: New best model saved with Validation Loss: 677898.5451\n"
     ]
    },
    {
     "name": "stderr",
     "output_type": "stream",
     "text": [
      "Training epochs:   2%|▏         | 18/1000 [00:01<01:11, 13.75it/s]"
     ]
    },
    {
     "name": "stdout",
     "output_type": "stream",
     "text": [
      "Epoch [17]: New best model saved with Validation Loss: 619995.9215\n",
      "Epoch [18]: New best model saved with Validation Loss: 573895.2137\n",
      "Epoch [19]: New best model saved with Validation Loss: 534177.5276\n",
      "Epoch [20/1000], Training Loss: 497125.4175, Validation Loss: 500075.0756\n",
      "Epoch [20]: New best model saved with Validation Loss: 500075.0756\n"
     ]
    },
    {
     "name": "stderr",
     "output_type": "stream",
     "text": [
      "Training epochs:   2%|▏         | 22/1000 [00:01<01:09, 13.97it/s]"
     ]
    },
    {
     "name": "stdout",
     "output_type": "stream",
     "text": [
      "Epoch [21]: New best model saved with Validation Loss: 471604.6940\n",
      "Epoch [22]: New best model saved with Validation Loss: 447740.8830\n",
      "Epoch [23]: New best model saved with Validation Loss: 427217.2776\n",
      "Epoch [24]: New best model saved with Validation Loss: 412096.0385\n"
     ]
    },
    {
     "name": "stderr",
     "output_type": "stream",
     "text": [
      "Training epochs:   3%|▎         | 26/1000 [00:02<01:37, 10.00it/s]"
     ]
    },
    {
     "name": "stdout",
     "output_type": "stream",
     "text": [
      "Epoch [25]: New best model saved with Validation Loss: 396635.2217\n",
      "Epoch [26]: New best model saved with Validation Loss: 389347.8023\n",
      "Epoch [27]: New best model saved with Validation Loss: 377258.7442\n",
      "Epoch [28]: New best model saved with Validation Loss: 368932.9288\n"
     ]
    },
    {
     "name": "stderr",
     "output_type": "stream",
     "text": [
      "Training epochs:   3%|▎         | 32/1000 [00:02<01:13, 13.23it/s]"
     ]
    },
    {
     "name": "stdout",
     "output_type": "stream",
     "text": [
      "Epoch [29]: New best model saved with Validation Loss: 358909.6759\n",
      "Epoch [30/1000], Training Loss: 322415.4562, Validation Loss: 352369.1250\n",
      "Epoch [30]: New best model saved with Validation Loss: 352369.1250\n",
      "Epoch [31]: New best model saved with Validation Loss: 343493.5276\n",
      "Epoch [32]: New best model saved with Validation Loss: 339301.1984\n"
     ]
    },
    {
     "name": "stderr",
     "output_type": "stream",
     "text": [
      "Training epochs:   4%|▎         | 36/1000 [00:02<01:04, 14.95it/s]"
     ]
    },
    {
     "name": "stdout",
     "output_type": "stream",
     "text": [
      "Epoch [33]: New best model saved with Validation Loss: 331808.6708\n",
      "Epoch [34]: New best model saved with Validation Loss: 324517.5276\n",
      "Epoch [35]: New best model saved with Validation Loss: 320951.8023\n",
      "Epoch [36]: New best model saved with Validation Loss: 314426.6374\n"
     ]
    },
    {
     "name": "stderr",
     "output_type": "stream",
     "text": [
      "Training epochs:   4%|▍         | 40/1000 [00:02<00:57, 16.67it/s]"
     ]
    },
    {
     "name": "stdout",
     "output_type": "stream",
     "text": [
      "Epoch [37]: New best model saved with Validation Loss: 311647.0872\n",
      "Epoch [38]: New best model saved with Validation Loss: 302617.1395\n",
      "Epoch [39]: New best model saved with Validation Loss: 295897.4397\n",
      "Epoch [40/1000], Training Loss: 263585.8150, Validation Loss: 290006.6672\n",
      "Epoch [40]: New best model saved with Validation Loss: 290006.6672\n"
     ]
    },
    {
     "name": "stderr",
     "output_type": "stream",
     "text": [
      "Training epochs:   4%|▍         | 42/1000 [00:02<00:57, 16.52it/s]"
     ]
    },
    {
     "name": "stdout",
     "output_type": "stream",
     "text": [
      "Epoch [41]: New best model saved with Validation Loss: 286817.9717\n",
      "Epoch [42]: New best model saved with Validation Loss: 284684.9615\n",
      "Epoch [43]: New best model saved with Validation Loss: 275961.9898\n",
      "Epoch [44]: New best model saved with Validation Loss: 271907.6199\n"
     ]
    },
    {
     "name": "stderr",
     "output_type": "stream",
     "text": [
      "Training epochs:   5%|▍         | 46/1000 [00:03<01:03, 15.11it/s]"
     ]
    },
    {
     "name": "stdout",
     "output_type": "stream",
     "text": [
      "Epoch [45]: New best model saved with Validation Loss: 268572.5712\n",
      "Epoch [46]: New best model saved with Validation Loss: 264173.1134\n",
      "Epoch [47]: New best model saved with Validation Loss: 257955.0385\n",
      "Epoch [48]: New best model saved with Validation Loss: 254228.1504\n"
     ]
    },
    {
     "name": "stderr",
     "output_type": "stream",
     "text": [
      "Training epochs:   5%|▌         | 51/1000 [00:03<00:57, 16.63it/s]"
     ]
    },
    {
     "name": "stdout",
     "output_type": "stream",
     "text": [
      "Epoch [49]: New best model saved with Validation Loss: 249689.2355\n",
      "Epoch [50/1000], Training Loss: 217440.8706, Validation Loss: 247464.3445\n",
      "Epoch [50]: New best model saved with Validation Loss: 247464.3445\n",
      "Epoch [51]: New best model saved with Validation Loss: 242059.1991\n",
      "Epoch [52]: New best model saved with Validation Loss: 238281.5127\n"
     ]
    },
    {
     "name": "stderr",
     "output_type": "stream",
     "text": [
      "Training epochs:   6%|▌         | 55/1000 [00:03<00:57, 16.42it/s]"
     ]
    },
    {
     "name": "stdout",
     "output_type": "stream",
     "text": [
      "Epoch [53]: New best model saved with Validation Loss: 234242.8906\n",
      "Epoch [54]: New best model saved with Validation Loss: 230406.5134\n",
      "Epoch [55]: New best model saved with Validation Loss: 226366.5131\n",
      "Epoch [56]: New best model saved with Validation Loss: 222365.6875\n",
      "Epoch [57]: New best model saved with Validation Loss: 218346.3674\n"
     ]
    },
    {
     "name": "stderr",
     "output_type": "stream",
     "text": [
      "Training epochs:   6%|▌         | 60/1000 [00:04<00:56, 16.60it/s]"
     ]
    },
    {
     "name": "stdout",
     "output_type": "stream",
     "text": [
      "Epoch [58]: New best model saved with Validation Loss: 214890.5621\n",
      "Epoch [59]: New best model saved with Validation Loss: 211572.7253\n",
      "Epoch [60/1000], Training Loss: 179815.7269, Validation Loss: 207896.6846\n",
      "Epoch [60]: New best model saved with Validation Loss: 207896.6846\n"
     ]
    },
    {
     "name": "stderr",
     "output_type": "stream",
     "text": [
      "Training epochs:   6%|▌         | 62/1000 [00:04<00:58, 16.16it/s]"
     ]
    },
    {
     "name": "stdout",
     "output_type": "stream",
     "text": [
      "Epoch [61]: New best model saved with Validation Loss: 203979.7613\n",
      "Epoch [62]: New best model saved with Validation Loss: 201339.9066\n",
      "Epoch [63]: New best model saved with Validation Loss: 197170.6294\n",
      "Epoch [64]: New best model saved with Validation Loss: 193849.4985\n"
     ]
    },
    {
     "name": "stderr",
     "output_type": "stream",
     "text": [
      "Training epochs:   7%|▋         | 68/1000 [00:04<00:56, 16.42it/s]"
     ]
    },
    {
     "name": "stdout",
     "output_type": "stream",
     "text": [
      "Epoch [65]: New best model saved with Validation Loss: 190729.2398\n",
      "Epoch [66]: New best model saved with Validation Loss: 188174.7780\n",
      "Epoch [67]: New best model saved with Validation Loss: 184083.3230\n",
      "Epoch [68]: New best model saved with Validation Loss: 183214.0759\n"
     ]
    },
    {
     "name": "stderr",
     "output_type": "stream",
     "text": [
      "Training epochs:   7%|▋         | 70/1000 [00:04<01:30, 10.27it/s]"
     ]
    },
    {
     "name": "stdout",
     "output_type": "stream",
     "text": [
      "Epoch [69]: New best model saved with Validation Loss: 177549.3132\n",
      "Epoch [70/1000], Training Loss: 146510.4195, Validation Loss: 174850.5785\n",
      "Epoch [70]: New best model saved with Validation Loss: 174850.5785\n",
      "Epoch [71]: New best model saved with Validation Loss: 172624.0658\n",
      "Epoch [72]: New best model saved with Validation Loss: 169622.3100\n"
     ]
    },
    {
     "name": "stderr",
     "output_type": "stream",
     "text": [
      "Training epochs:   7%|▋         | 74/1000 [00:05<01:14, 12.43it/s]"
     ]
    },
    {
     "name": "stdout",
     "output_type": "stream",
     "text": [
      "Epoch [73]: New best model saved with Validation Loss: 167378.6370\n",
      "Epoch [74]: New best model saved with Validation Loss: 163843.8238\n",
      "Epoch [75]: New best model saved with Validation Loss: 162204.5483\n",
      "Epoch [76]: New best model saved with Validation Loss: 158880.7802\n"
     ]
    },
    {
     "name": "stderr",
     "output_type": "stream",
     "text": [
      "Training epochs:   8%|▊         | 78/1000 [00:05<01:04, 14.26it/s]"
     ]
    },
    {
     "name": "stdout",
     "output_type": "stream",
     "text": [
      "Epoch [77]: New best model saved with Validation Loss: 157126.1257\n",
      "Epoch [78]: New best model saved with Validation Loss: 153316.6114\n",
      "Epoch [79]: New best model saved with Validation Loss: 150706.9860\n",
      "Epoch [80/1000], Training Loss: 118039.1481, Validation Loss: 149008.4864\n",
      "Epoch [80]: New best model saved with Validation Loss: 149008.4864\n"
     ]
    },
    {
     "name": "stderr",
     "output_type": "stream",
     "text": [
      "Training epochs:   8%|▊         | 82/1000 [00:05<01:03, 14.36it/s]"
     ]
    },
    {
     "name": "stdout",
     "output_type": "stream",
     "text": [
      "Epoch [81]: New best model saved with Validation Loss: 146753.8857\n",
      "Epoch [82]: New best model saved with Validation Loss: 144372.3614\n",
      "Epoch [83]: New best model saved with Validation Loss: 142837.6801\n",
      "Epoch [84]: New best model saved with Validation Loss: 140783.6543\n"
     ]
    },
    {
     "name": "stderr",
     "output_type": "stream",
     "text": [
      "Training epochs:   9%|▊         | 86/1000 [00:06<01:05, 14.05it/s]"
     ]
    },
    {
     "name": "stdout",
     "output_type": "stream",
     "text": [
      "Epoch [85]: New best model saved with Validation Loss: 138528.5349\n",
      "Epoch [86]: New best model saved with Validation Loss: 137080.1361\n",
      "Epoch [87]: New best model saved with Validation Loss: 134747.6775\n"
     ]
    },
    {
     "name": "stderr",
     "output_type": "stream",
     "text": [
      "Training epochs:   9%|▉         | 90/1000 [00:06<00:59, 15.21it/s]"
     ]
    },
    {
     "name": "stdout",
     "output_type": "stream",
     "text": [
      "Epoch [88]: New best model saved with Validation Loss: 133737.8365\n",
      "Epoch [89]: New best model saved with Validation Loss: 131640.6234\n",
      "Epoch [90/1000], Training Loss: 95019.9791, Validation Loss: 130996.6493\n",
      "Epoch [90]: New best model saved with Validation Loss: 130996.6493\n",
      "Epoch [91]: New best model saved with Validation Loss: 129354.9836\n"
     ]
    },
    {
     "name": "stderr",
     "output_type": "stream",
     "text": [
      "Training epochs:   9%|▉         | 94/1000 [00:06<00:56, 15.92it/s]"
     ]
    },
    {
     "name": "stdout",
     "output_type": "stream",
     "text": [
      "Epoch [92]: New best model saved with Validation Loss: 127554.5035\n",
      "Epoch [93]: New best model saved with Validation Loss: 126156.8447\n",
      "Epoch [94]: New best model saved with Validation Loss: 125081.3834\n",
      "Epoch [95]: New best model saved with Validation Loss: 123998.1294\n"
     ]
    },
    {
     "name": "stderr",
     "output_type": "stream",
     "text": [
      "Training epochs:  10%|▉         | 98/1000 [00:06<00:54, 16.44it/s]"
     ]
    },
    {
     "name": "stdout",
     "output_type": "stream",
     "text": [
      "Epoch [96]: New best model saved with Validation Loss: 122272.7277\n",
      "Epoch [97]: New best model saved with Validation Loss: 122026.0587\n",
      "Epoch [98]: New best model saved with Validation Loss: 120434.5560\n",
      "Epoch [99]: New best model saved with Validation Loss: 120299.6586\n",
      "Epoch [100/1000], Training Loss: 78504.0025, Validation Loss: 119252.2217\n",
      "Epoch [100]: New best model saved with Validation Loss: 119252.2217\n"
     ]
    },
    {
     "name": "stderr",
     "output_type": "stream",
     "text": [
      "Training epochs:  10%|█         | 103/1000 [00:07<00:53, 16.65it/s]"
     ]
    },
    {
     "name": "stdout",
     "output_type": "stream",
     "text": [
      "Epoch [101]: New best model saved with Validation Loss: 117823.3483\n",
      "Epoch [102]: New best model saved with Validation Loss: 116386.8387\n",
      "Epoch [103]: New best model saved with Validation Loss: 116168.6263\n",
      "Epoch [104]: New best model saved with Validation Loss: 115158.6560\n"
     ]
    },
    {
     "name": "stderr",
     "output_type": "stream",
     "text": [
      "Training epochs:  11%|█         | 107/1000 [00:07<00:53, 16.77it/s]"
     ]
    },
    {
     "name": "stdout",
     "output_type": "stream",
     "text": [
      "Epoch [105]: New best model saved with Validation Loss: 114164.2399\n",
      "Epoch [106]: New best model saved with Validation Loss: 113358.8825\n",
      "Epoch [107]: New best model saved with Validation Loss: 112832.7778\n",
      "Epoch [108]: New best model saved with Validation Loss: 112026.3078\n"
     ]
    },
    {
     "name": "stderr",
     "output_type": "stream",
     "text": [
      "Training epochs:  11%|█         | 112/1000 [00:07<00:51, 17.09it/s]"
     ]
    },
    {
     "name": "stdout",
     "output_type": "stream",
     "text": [
      "Epoch [109]: New best model saved with Validation Loss: 111524.3345\n",
      "Epoch [110/1000], Training Loss: 67108.2064, Validation Loss: 109738.6778\n",
      "Epoch [110]: New best model saved with Validation Loss: 109738.6778\n",
      "Epoch [111]: New best model saved with Validation Loss: 109639.3928\n"
     ]
    },
    {
     "name": "stderr",
     "output_type": "stream",
     "text": [
      "Training epochs:  11%|█▏        | 114/1000 [00:07<00:53, 16.68it/s]"
     ]
    },
    {
     "name": "stdout",
     "output_type": "stream",
     "text": [
      "Epoch [113]: New best model saved with Validation Loss: 108234.9358\n",
      "Epoch [114]: New best model saved with Validation Loss: 107246.8415\n"
     ]
    },
    {
     "name": "stderr",
     "output_type": "stream",
     "text": [
      "Training epochs:  12%|█▏        | 116/1000 [00:07<01:14, 11.91it/s]"
     ]
    },
    {
     "name": "stdout",
     "output_type": "stream",
     "text": [
      "Epoch [115]: New best model saved with Validation Loss: 106393.7228\n",
      "Epoch [117]: New best model saved with Validation Loss: 105451.9772\n"
     ]
    },
    {
     "name": "stderr",
     "output_type": "stream",
     "text": [
      "Training epochs:  12%|█▏        | 120/1000 [00:08<01:10, 12.50it/s]"
     ]
    },
    {
     "name": "stdout",
     "output_type": "stream",
     "text": [
      "Epoch [118]: New best model saved with Validation Loss: 104480.2137\n",
      "Epoch [119]: New best model saved with Validation Loss: 103585.9066\n",
      "Epoch [120/1000], Training Loss: 57006.0858, Validation Loss: 103192.0099\n",
      "Epoch [120]: New best model saved with Validation Loss: 103192.0099\n",
      "Epoch [121]: New best model saved with Validation Loss: 102575.0293\n"
     ]
    },
    {
     "name": "stderr",
     "output_type": "stream",
     "text": [
      "Training epochs:  12%|█▏        | 124/1000 [00:08<01:00, 14.55it/s]"
     ]
    },
    {
     "name": "stdout",
     "output_type": "stream",
     "text": [
      "Epoch [122]: New best model saved with Validation Loss: 101717.7687\n",
      "Epoch [123]: New best model saved with Validation Loss: 100686.5751\n",
      "Epoch [124]: New best model saved with Validation Loss: 100273.7982\n",
      "Epoch [125]: New best model saved with Validation Loss: 99571.1117\n"
     ]
    },
    {
     "name": "stderr",
     "output_type": "stream",
     "text": [
      "Training epochs:  13%|█▎        | 128/1000 [00:08<00:59, 14.67it/s]"
     ]
    },
    {
     "name": "stdout",
     "output_type": "stream",
     "text": [
      "Epoch [126]: New best model saved with Validation Loss: 98172.6408\n",
      "Epoch [127]: New best model saved with Validation Loss: 97857.7781\n",
      "Epoch [128]: New best model saved with Validation Loss: 96902.7765\n"
     ]
    },
    {
     "name": "stderr",
     "output_type": "stream",
     "text": [
      "Training epochs:  13%|█▎        | 130/1000 [00:08<01:02, 13.83it/s]"
     ]
    },
    {
     "name": "stdout",
     "output_type": "stream",
     "text": [
      "Epoch [129]: New best model saved with Validation Loss: 96235.5332\n",
      "Epoch [130/1000], Training Loss: 49948.2223, Validation Loss: 95428.3171\n",
      "Epoch [130]: New best model saved with Validation Loss: 95428.3171\n",
      "Epoch [131]: New best model saved with Validation Loss: 94709.6179\n"
     ]
    },
    {
     "name": "stderr",
     "output_type": "stream",
     "text": [
      "Training epochs:  13%|█▎        | 134/1000 [00:09<01:03, 13.56it/s]"
     ]
    },
    {
     "name": "stdout",
     "output_type": "stream",
     "text": [
      "Epoch [132]: New best model saved with Validation Loss: 93767.5033\n",
      "Epoch [134]: New best model saved with Validation Loss: 92505.2614\n",
      "Epoch [135]: New best model saved with Validation Loss: 92390.9201\n"
     ]
    },
    {
     "name": "stderr",
     "output_type": "stream",
     "text": [
      "Training epochs:  14%|█▍        | 138/1000 [00:09<01:00, 14.35it/s]"
     ]
    },
    {
     "name": "stdout",
     "output_type": "stream",
     "text": [
      "Epoch [136]: New best model saved with Validation Loss: 91461.5390\n",
      "Epoch [137]: New best model saved with Validation Loss: 90730.3646\n",
      "Epoch [138]: New best model saved with Validation Loss: 89994.4794\n",
      "Epoch [139]: New best model saved with Validation Loss: 89664.0671\n"
     ]
    },
    {
     "name": "stderr",
     "output_type": "stream",
     "text": [
      "Training epochs:  14%|█▍        | 142/1000 [00:09<00:53, 15.98it/s]"
     ]
    },
    {
     "name": "stdout",
     "output_type": "stream",
     "text": [
      "Epoch [140/1000], Training Loss: 43175.2202, Validation Loss: 88954.6295\n",
      "Epoch [140]: New best model saved with Validation Loss: 88954.6295\n",
      "Epoch [142]: New best model saved with Validation Loss: 87517.0437\n",
      "Epoch [143]: New best model saved with Validation Loss: 87204.5034\n"
     ]
    },
    {
     "name": "stderr",
     "output_type": "stream",
     "text": [
      "Training epochs:  14%|█▍        | 144/1000 [00:09<00:53, 15.98it/s]"
     ]
    },
    {
     "name": "stdout",
     "output_type": "stream",
     "text": [
      "Epoch [145]: New best model saved with Validation Loss: 86033.1080\n"
     ]
    },
    {
     "name": "stderr",
     "output_type": "stream",
     "text": [
      "Training epochs:  15%|█▍        | 148/1000 [00:10<01:11, 11.87it/s]"
     ]
    },
    {
     "name": "stdout",
     "output_type": "stream",
     "text": [
      "Epoch [146]: New best model saved with Validation Loss: 85545.7878\n",
      "Epoch [147]: New best model saved with Validation Loss: 85225.7951\n",
      "Epoch [148]: New best model saved with Validation Loss: 84370.0947\n"
     ]
    },
    {
     "name": "stderr",
     "output_type": "stream",
     "text": [
      "Training epochs:  15%|█▌        | 150/1000 [00:10<01:05, 12.93it/s]"
     ]
    },
    {
     "name": "stdout",
     "output_type": "stream",
     "text": [
      "Epoch [149]: New best model saved with Validation Loss: 84217.2852\n",
      "Epoch [150/1000], Training Loss: 37928.4669, Validation Loss: 83514.4216\n",
      "Epoch [150]: New best model saved with Validation Loss: 83514.4216\n",
      "Epoch [151]: New best model saved with Validation Loss: 82085.1033\n"
     ]
    },
    {
     "name": "stderr",
     "output_type": "stream",
     "text": [
      "Training epochs:  16%|█▌        | 156/1000 [00:10<00:53, 15.68it/s]"
     ]
    },
    {
     "name": "stdout",
     "output_type": "stream",
     "text": [
      "Epoch [153]: New best model saved with Validation Loss: 81834.8461\n",
      "Epoch [154]: New best model saved with Validation Loss: 81406.2413\n",
      "Epoch [155]: New best model saved with Validation Loss: 80457.6945\n"
     ]
    },
    {
     "name": "stderr",
     "output_type": "stream",
     "text": [
      "Training epochs:  16%|█▌        | 158/1000 [00:10<00:56, 15.00it/s]"
     ]
    },
    {
     "name": "stdout",
     "output_type": "stream",
     "text": [
      "Epoch [157]: New best model saved with Validation Loss: 79648.8153\n",
      "Epoch [158]: New best model saved with Validation Loss: 78921.3546\n",
      "Epoch [159]: New best model saved with Validation Loss: 78439.7154\n"
     ]
    },
    {
     "name": "stderr",
     "output_type": "stream",
     "text": [
      "Training epochs:  16%|█▌        | 162/1000 [00:11<00:53, 15.55it/s]"
     ]
    },
    {
     "name": "stdout",
     "output_type": "stream",
     "text": [
      "Epoch [160/1000], Training Loss: 33601.5384, Validation Loss: 78084.5118\n",
      "Epoch [160]: New best model saved with Validation Loss: 78084.5118\n",
      "Epoch [161]: New best model saved with Validation Loss: 77080.6906\n",
      "Epoch [163]: New best model saved with Validation Loss: 76664.8562\n"
     ]
    },
    {
     "name": "stderr",
     "output_type": "stream",
     "text": [
      "Training epochs:  17%|█▋        | 166/1000 [00:11<00:53, 15.65it/s]"
     ]
    },
    {
     "name": "stdout",
     "output_type": "stream",
     "text": [
      "Epoch [164]: New best model saved with Validation Loss: 76235.6566\n",
      "Epoch [165]: New best model saved with Validation Loss: 75449.9995\n",
      "Epoch [166]: New best model saved with Validation Loss: 74624.1286\n",
      "Epoch [167]: New best model saved with Validation Loss: 73997.2780\n"
     ]
    },
    {
     "name": "stderr",
     "output_type": "stream",
     "text": [
      "Training epochs:  17%|█▋        | 170/1000 [00:11<00:51, 16.14it/s]"
     ]
    },
    {
     "name": "stdout",
     "output_type": "stream",
     "text": [
      "Epoch [168]: New best model saved with Validation Loss: 73708.4029\n",
      "Epoch [169]: New best model saved with Validation Loss: 73215.3230\n",
      "Epoch [170/1000], Training Loss: 29333.2761, Validation Loss: 73108.1634\n",
      "Epoch [170]: New best model saved with Validation Loss: 73108.1634\n",
      "Epoch [171]: New best model saved with Validation Loss: 72085.3155\n"
     ]
    },
    {
     "name": "stderr",
     "output_type": "stream",
     "text": [
      "Training epochs:  18%|█▊        | 175/1000 [00:11<00:47, 17.35it/s]"
     ]
    },
    {
     "name": "stdout",
     "output_type": "stream",
     "text": [
      "Epoch [173]: New best model saved with Validation Loss: 70756.9574\n",
      "Epoch [176]: New best model saved with Validation Loss: 69645.8463\n",
      "Epoch [177]: New best model saved with Validation Loss: 69470.4715\n"
     ]
    },
    {
     "name": "stderr",
     "output_type": "stream",
     "text": [
      "Training epochs:  18%|█▊        | 180/1000 [00:12<00:47, 17.24it/s]"
     ]
    },
    {
     "name": "stdout",
     "output_type": "stream",
     "text": [
      "Epoch [178]: New best model saved with Validation Loss: 69339.8873\n",
      "Epoch [179]: New best model saved with Validation Loss: 68666.2079\n",
      "Epoch [180/1000], Training Loss: 25913.7803, Validation Loss: 67865.6415\n",
      "Epoch [180]: New best model saved with Validation Loss: 67865.6415\n"
     ]
    },
    {
     "name": "stderr",
     "output_type": "stream",
     "text": [
      "Training epochs:  18%|█▊        | 184/1000 [00:12<00:51, 15.99it/s]"
     ]
    },
    {
     "name": "stdout",
     "output_type": "stream",
     "text": [
      "Epoch [182]: New best model saved with Validation Loss: 67699.6658\n",
      "Epoch [183]: New best model saved with Validation Loss: 66664.5482\n"
     ]
    },
    {
     "name": "stderr",
     "output_type": "stream",
     "text": [
      "Training epochs:  19%|█▉        | 188/1000 [00:12<00:47, 17.03it/s]"
     ]
    },
    {
     "name": "stdout",
     "output_type": "stream",
     "text": [
      "Epoch [185]: New best model saved with Validation Loss: 65860.4189\n",
      "Epoch [186]: New best model saved with Validation Loss: 65266.0069\n",
      "Epoch [188]: New best model saved with Validation Loss: 65166.5186\n"
     ]
    },
    {
     "name": "stderr",
     "output_type": "stream",
     "text": [
      "Training epochs:  19%|█▉        | 190/1000 [00:13<01:44,  7.73it/s]"
     ]
    },
    {
     "name": "stdout",
     "output_type": "stream",
     "text": [
      "Epoch [189]: New best model saved with Validation Loss: 65130.5600\n",
      "Epoch [190/1000], Training Loss: 23122.7973, Validation Loss: 64511.7616\n",
      "Epoch [190]: New best model saved with Validation Loss: 64511.7616\n",
      "Epoch [191]: New best model saved with Validation Loss: 64495.0181\n"
     ]
    },
    {
     "name": "stderr",
     "output_type": "stream",
     "text": [
      "Training epochs:  19%|█▉        | 194/1000 [00:13<01:24,  9.58it/s]"
     ]
    },
    {
     "name": "stdout",
     "output_type": "stream",
     "text": [
      "Epoch [192]: New best model saved with Validation Loss: 63308.8706\n",
      "Epoch [194]: New best model saved with Validation Loss: 62472.1078\n"
     ]
    },
    {
     "name": "stderr",
     "output_type": "stream",
     "text": [
      "Training epochs:  20%|█▉        | 196/1000 [00:13<01:16, 10.55it/s]"
     ]
    },
    {
     "name": "stdout",
     "output_type": "stream",
     "text": [
      "Epoch [195]: New best model saved with Validation Loss: 61927.7626\n",
      "Epoch [196]: New best model saved with Validation Loss: 61728.1937\n",
      "Epoch [197]: New best model saved with Validation Loss: 61244.2693\n",
      "Epoch [198]: New best model saved with Validation Loss: 60844.3179\n"
     ]
    },
    {
     "name": "stderr",
     "output_type": "stream",
     "text": [
      "Training epochs:  20%|██        | 200/1000 [00:14<01:06, 12.03it/s]"
     ]
    },
    {
     "name": "stdout",
     "output_type": "stream",
     "text": [
      "Epoch [199]: New best model saved with Validation Loss: 60530.1732\n",
      "Epoch [200/1000], Training Loss: 19711.0516, Validation Loss: 59857.8739\n",
      "Epoch [200]: New best model saved with Validation Loss: 59857.8739\n",
      "Epoch [202]: New best model saved with Validation Loss: 59134.5959\n"
     ]
    },
    {
     "name": "stderr",
     "output_type": "stream",
     "text": [
      "Training epochs:  20%|██        | 204/1000 [00:14<00:59, 13.34it/s]"
     ]
    },
    {
     "name": "stdout",
     "output_type": "stream",
     "text": [
      "Epoch [203]: New best model saved with Validation Loss: 59074.8680\n",
      "Epoch [204]: New best model saved with Validation Loss: 59027.8159\n",
      "Epoch [205]: New best model saved with Validation Loss: 58517.0732\n",
      "Epoch [206]: New best model saved with Validation Loss: 58306.5984\n"
     ]
    },
    {
     "name": "stderr",
     "output_type": "stream",
     "text": [
      "Training epochs:  21%|██        | 208/1000 [00:14<00:57, 13.77it/s]"
     ]
    },
    {
     "name": "stdout",
     "output_type": "stream",
     "text": [
      "Epoch [207]: New best model saved with Validation Loss: 57953.8104\n",
      "Epoch [208]: New best model saved with Validation Loss: 57519.4380\n"
     ]
    },
    {
     "name": "stderr",
     "output_type": "stream",
     "text": [
      "Training epochs:  21%|██        | 210/1000 [00:14<00:57, 13.63it/s]"
     ]
    },
    {
     "name": "stdout",
     "output_type": "stream",
     "text": [
      "Epoch [210/1000], Training Loss: 17349.4480, Validation Loss: 57162.5784\n",
      "Epoch [210]: New best model saved with Validation Loss: 57162.5784\n",
      "Epoch [211]: New best model saved with Validation Loss: 56512.3622\n"
     ]
    },
    {
     "name": "stderr",
     "output_type": "stream",
     "text": [
      "Training epochs:  21%|██▏       | 214/1000 [00:15<01:06, 11.91it/s]"
     ]
    },
    {
     "name": "stdout",
     "output_type": "stream",
     "text": [
      "Epoch [213]: New best model saved with Validation Loss: 55735.4534\n",
      "Epoch [215]: New best model saved with Validation Loss: 55521.4731\n"
     ]
    },
    {
     "name": "stderr",
     "output_type": "stream",
     "text": [
      "Training epochs:  22%|██▏       | 218/1000 [00:15<00:58, 13.29it/s]"
     ]
    },
    {
     "name": "stdout",
     "output_type": "stream",
     "text": [
      "Epoch [216]: New best model saved with Validation Loss: 55452.0208\n",
      "Epoch [217]: New best model saved with Validation Loss: 55110.6476\n",
      "Epoch [218]: New best model saved with Validation Loss: 54446.9145\n",
      "Epoch [219]: New best model saved with Validation Loss: 54247.8411\n"
     ]
    },
    {
     "name": "stderr",
     "output_type": "stream",
     "text": [
      "Training epochs:  22%|██▏       | 222/1000 [00:15<00:56, 13.86it/s]"
     ]
    },
    {
     "name": "stdout",
     "output_type": "stream",
     "text": [
      "Epoch [220/1000], Training Loss: 15511.7329, Validation Loss: 54423.4605\n",
      "Epoch [221]: New best model saved with Validation Loss: 53432.6202\n"
     ]
    },
    {
     "name": "stderr",
     "output_type": "stream",
     "text": [
      "Training epochs:  22%|██▏       | 224/1000 [00:15<00:59, 13.09it/s]"
     ]
    },
    {
     "name": "stdout",
     "output_type": "stream",
     "text": [
      "Epoch [223]: New best model saved with Validation Loss: 52822.4089\n",
      "Epoch [224]: New best model saved with Validation Loss: 52579.5733\n"
     ]
    },
    {
     "name": "stderr",
     "output_type": "stream",
     "text": [
      "Training epochs:  23%|██▎       | 228/1000 [00:16<01:20,  9.62it/s]"
     ]
    },
    {
     "name": "stdout",
     "output_type": "stream",
     "text": [
      "Epoch [226]: New best model saved with Validation Loss: 51887.6773\n",
      "Epoch [228]: New best model saved with Validation Loss: 51582.5025\n"
     ]
    },
    {
     "name": "stderr",
     "output_type": "stream",
     "text": [
      "Training epochs:  23%|██▎       | 230/1000 [00:16<01:11, 10.79it/s]"
     ]
    },
    {
     "name": "stdout",
     "output_type": "stream",
     "text": [
      "Epoch [229]: New best model saved with Validation Loss: 51020.2201\n",
      "Epoch [230/1000], Training Loss: 13533.3158, Validation Loss: 50908.1405\n",
      "Epoch [230]: New best model saved with Validation Loss: 50908.1405\n",
      "Epoch [232]: New best model saved with Validation Loss: 50408.7747\n"
     ]
    },
    {
     "name": "stderr",
     "output_type": "stream",
     "text": [
      "Training epochs:  23%|██▎       | 234/1000 [00:16<01:03, 12.03it/s]"
     ]
    },
    {
     "name": "stdout",
     "output_type": "stream",
     "text": [
      "Epoch [233]: New best model saved with Validation Loss: 50297.3518\n",
      "Epoch [234]: New best model saved with Validation Loss: 49843.9934\n",
      "Epoch [236]: New best model saved with Validation Loss: 49655.3741\n"
     ]
    },
    {
     "name": "stderr",
     "output_type": "stream",
     "text": [
      "Training epochs:  24%|██▍       | 238/1000 [00:17<00:58, 12.98it/s]"
     ]
    },
    {
     "name": "stdout",
     "output_type": "stream",
     "text": [
      "Epoch [237]: New best model saved with Validation Loss: 49567.4157\n",
      "Epoch [238]: New best model saved with Validation Loss: 48839.1462\n",
      "Epoch [239]: New best model saved with Validation Loss: 48634.5563\n",
      "Epoch [240/1000], Training Loss: 11908.3138, Validation Loss: 49129.3713\n"
     ]
    },
    {
     "name": "stderr",
     "output_type": "stream",
     "text": [
      "Training epochs:  24%|██▍       | 242/1000 [00:17<00:57, 13.22it/s]"
     ]
    },
    {
     "name": "stdout",
     "output_type": "stream",
     "text": [
      "Epoch [241]: New best model saved with Validation Loss: 48156.6397\n",
      "Epoch [242]: New best model saved with Validation Loss: 48054.0940\n",
      "Epoch [244]: New best model saved with Validation Loss: 47980.3249\n"
     ]
    },
    {
     "name": "stderr",
     "output_type": "stream",
     "text": [
      "Training epochs:  25%|██▍       | 246/1000 [00:17<00:55, 13.53it/s]"
     ]
    },
    {
     "name": "stdout",
     "output_type": "stream",
     "text": [
      "Epoch [245]: New best model saved with Validation Loss: 47231.9940\n",
      "Epoch [246]: New best model saved with Validation Loss: 46776.2694\n"
     ]
    },
    {
     "name": "stderr",
     "output_type": "stream",
     "text": [
      "Training epochs:  25%|██▌       | 250/1000 [00:17<00:52, 14.31it/s]"
     ]
    },
    {
     "name": "stdout",
     "output_type": "stream",
     "text": [
      "Epoch [249]: New best model saved with Validation Loss: 46205.3998\n",
      "Epoch [250/1000], Training Loss: 10486.2686, Validation Loss: 46497.8216\n",
      "Epoch [251]: New best model saved with Validation Loss: 46108.0354\n",
      "Epoch [252]: New best model saved with Validation Loss: 46054.6425\n"
     ]
    },
    {
     "name": "stderr",
     "output_type": "stream",
     "text": [
      "Training epochs:  25%|██▌       | 254/1000 [00:18<00:51, 14.36it/s]"
     ]
    },
    {
     "name": "stdout",
     "output_type": "stream",
     "text": [
      "Epoch [253]: New best model saved with Validation Loss: 45499.0466\n",
      "Epoch [255]: New best model saved with Validation Loss: 45461.4425\n",
      "Epoch [256]: New best model saved with Validation Loss: 45111.3626\n"
     ]
    },
    {
     "name": "stderr",
     "output_type": "stream",
     "text": [
      "Training epochs:  26%|██▌       | 260/1000 [00:18<00:49, 14.87it/s]"
     ]
    },
    {
     "name": "stdout",
     "output_type": "stream",
     "text": [
      "Epoch [257]: New best model saved with Validation Loss: 44704.1671\n",
      "Epoch [258]: New best model saved with Validation Loss: 44546.0907\n",
      "Epoch [259]: New best model saved with Validation Loss: 44178.1480\n",
      "Epoch [260/1000], Training Loss: 9183.6096, Validation Loss: 43734.7273\n",
      "Epoch [260]: New best model saved with Validation Loss: 43734.7273\n"
     ]
    },
    {
     "name": "stderr",
     "output_type": "stream",
     "text": [
      "Training epochs:  27%|██▋       | 266/1000 [00:18<00:44, 16.48it/s]"
     ]
    },
    {
     "name": "stdout",
     "output_type": "stream",
     "text": [
      "Epoch [263]: New best model saved with Validation Loss: 43259.1855\n",
      "Epoch [265]: New best model saved with Validation Loss: 43235.1934\n",
      "Epoch [266]: New best model saved with Validation Loss: 43020.0139\n"
     ]
    },
    {
     "name": "stderr",
     "output_type": "stream",
     "text": [
      "Training epochs:  27%|██▋       | 268/1000 [00:19<00:44, 16.52it/s]"
     ]
    },
    {
     "name": "stdout",
     "output_type": "stream",
     "text": [
      "Epoch [267]: New best model saved with Validation Loss: 42944.6199\n",
      "Epoch [268]: New best model saved with Validation Loss: 42585.3432\n",
      "Epoch [269]: New best model saved with Validation Loss: 42388.4905\n"
     ]
    },
    {
     "name": "stderr",
     "output_type": "stream",
     "text": [
      "Training epochs:  27%|██▋       | 270/1000 [00:19<00:47, 15.28it/s]"
     ]
    },
    {
     "name": "stdout",
     "output_type": "stream",
     "text": [
      "Epoch [270/1000], Training Loss: 8078.6801, Validation Loss: 41793.3307\n",
      "Epoch [270]: New best model saved with Validation Loss: 41793.3307\n"
     ]
    },
    {
     "name": "stderr",
     "output_type": "stream",
     "text": [
      "Training epochs:  28%|██▊       | 276/1000 [00:19<00:56, 12.87it/s]"
     ]
    },
    {
     "name": "stdout",
     "output_type": "stream",
     "text": [
      "Epoch [273]: New best model saved with Validation Loss: 41652.5160\n",
      "Epoch [275]: New best model saved with Validation Loss: 41154.0502\n"
     ]
    },
    {
     "name": "stderr",
     "output_type": "stream",
     "text": [
      "Training epochs:  28%|██▊       | 278/1000 [00:19<00:52, 13.75it/s]"
     ]
    },
    {
     "name": "stdout",
     "output_type": "stream",
     "text": [
      "Epoch [277]: New best model saved with Validation Loss: 40897.5409\n",
      "Epoch [279]: New best model saved with Validation Loss: 40350.3780\n",
      "Epoch [280/1000], Training Loss: 7137.4057, Validation Loss: 40605.9221\n"
     ]
    },
    {
     "name": "stderr",
     "output_type": "stream",
     "text": [
      "Training epochs:  28%|██▊       | 284/1000 [00:20<00:47, 15.06it/s]"
     ]
    },
    {
     "name": "stdout",
     "output_type": "stream",
     "text": [
      "Epoch [281]: New best model saved with Validation Loss: 39999.3241\n"
     ]
    },
    {
     "name": "stderr",
     "output_type": "stream",
     "text": [
      "Training epochs:  29%|██▊       | 286/1000 [00:20<00:46, 15.32it/s]"
     ]
    },
    {
     "name": "stdout",
     "output_type": "stream",
     "text": [
      "Epoch [285]: New best model saved with Validation Loss: 39610.0903\n",
      "Epoch [287]: New best model saved with Validation Loss: 39316.2835\n"
     ]
    },
    {
     "name": "stderr",
     "output_type": "stream",
     "text": [
      "Training epochs:  29%|██▉       | 290/1000 [00:20<00:49, 14.37it/s]"
     ]
    },
    {
     "name": "stdout",
     "output_type": "stream",
     "text": [
      "Epoch [289]: New best model saved with Validation Loss: 39177.8648\n",
      "Epoch [290/1000], Training Loss: 6277.6893, Validation Loss: 39108.4334\n",
      "Epoch [290]: New best model saved with Validation Loss: 39108.4334\n",
      "Epoch [291]: New best model saved with Validation Loss: 38785.0196\n"
     ]
    },
    {
     "name": "stderr",
     "output_type": "stream",
     "text": [
      "Training epochs:  29%|██▉       | 294/1000 [00:21<00:47, 14.76it/s]"
     ]
    },
    {
     "name": "stdout",
     "output_type": "stream",
     "text": [
      "Epoch [293]: New best model saved with Validation Loss: 38597.4011\n",
      "Epoch [295]: New best model saved with Validation Loss: 38293.2734\n",
      "Epoch [296]: New best model saved with Validation Loss: 38291.8104\n"
     ]
    },
    {
     "name": "stderr",
     "output_type": "stream",
     "text": [
      "Training epochs:  30%|███       | 300/1000 [00:21<00:43, 15.91it/s]"
     ]
    },
    {
     "name": "stdout",
     "output_type": "stream",
     "text": [
      "Epoch [298]: New best model saved with Validation Loss: 37922.6701\n",
      "Epoch [300/1000], Training Loss: 5540.6073, Validation Loss: 37740.5547\n",
      "Epoch [300]: New best model saved with Validation Loss: 37740.5547\n",
      "Epoch [301]: New best model saved with Validation Loss: 37607.7950\n"
     ]
    },
    {
     "name": "stderr",
     "output_type": "stream",
     "text": [
      "Training epochs:  31%|███       | 306/1000 [00:21<00:43, 15.99it/s]"
     ]
    },
    {
     "name": "stdout",
     "output_type": "stream",
     "text": [
      "Epoch [304]: New best model saved with Validation Loss: 37050.6899\n"
     ]
    },
    {
     "name": "stderr",
     "output_type": "stream",
     "text": [
      "Training epochs:  31%|███       | 310/1000 [00:22<00:46, 14.81it/s]"
     ]
    },
    {
     "name": "stdout",
     "output_type": "stream",
     "text": [
      "Epoch [308]: New best model saved with Validation Loss: 36873.7790\n",
      "Epoch [309]: New best model saved with Validation Loss: 36756.3166\n",
      "Epoch [310/1000], Training Loss: 4790.8060, Validation Loss: 36615.1172\n",
      "Epoch [310]: New best model saved with Validation Loss: 36615.1172\n"
     ]
    },
    {
     "name": "stderr",
     "output_type": "stream",
     "text": [
      "Training epochs:  31%|███▏      | 314/1000 [00:22<00:45, 15.11it/s]"
     ]
    },
    {
     "name": "stdout",
     "output_type": "stream",
     "text": [
      "Epoch [312]: New best model saved with Validation Loss: 36069.5508\n"
     ]
    },
    {
     "name": "stderr",
     "output_type": "stream",
     "text": [
      "Training epochs:  32%|███▏      | 316/1000 [00:22<01:04, 10.56it/s]"
     ]
    },
    {
     "name": "stdout",
     "output_type": "stream",
     "text": [
      "Epoch [316]: New best model saved with Validation Loss: 35979.5260\n",
      "Epoch [317]: New best model saved with Validation Loss: 35770.5174\n"
     ]
    },
    {
     "name": "stderr",
     "output_type": "stream",
     "text": [
      "Training epochs:  32%|███▏      | 320/1000 [00:22<01:01, 10.99it/s]"
     ]
    },
    {
     "name": "stdout",
     "output_type": "stream",
     "text": [
      "Epoch [318]: New best model saved with Validation Loss: 35741.0720\n",
      "Epoch [319]: New best model saved with Validation Loss: 35702.8265\n",
      "Epoch [320/1000], Training Loss: 4294.4717, Validation Loss: 35612.6509\n",
      "Epoch [320]: New best model saved with Validation Loss: 35612.6509\n"
     ]
    },
    {
     "name": "stderr",
     "output_type": "stream",
     "text": [
      "Training epochs:  32%|███▏      | 322/1000 [00:23<00:56, 12.01it/s]"
     ]
    },
    {
     "name": "stdout",
     "output_type": "stream",
     "text": [
      "Epoch [321]: New best model saved with Validation Loss: 35339.3408\n",
      "Epoch [322]: New best model saved with Validation Loss: 35330.5732\n",
      "Epoch [323]: New best model saved with Validation Loss: 35328.0290\n",
      "Epoch [324]: New best model saved with Validation Loss: 35116.8118\n"
     ]
    },
    {
     "name": "stderr",
     "output_type": "stream",
     "text": [
      "Training epochs:  33%|███▎      | 328/1000 [00:23<00:47, 14.13it/s]"
     ]
    },
    {
     "name": "stdout",
     "output_type": "stream",
     "text": [
      "Epoch [326]: New best model saved with Validation Loss: 35067.1767\n",
      "Epoch [327]: New best model saved with Validation Loss: 34772.5101\n",
      "Epoch [328]: New best model saved with Validation Loss: 34462.1977\n"
     ]
    },
    {
     "name": "stderr",
     "output_type": "stream",
     "text": [
      "Training epochs:  33%|███▎      | 332/1000 [00:23<00:43, 15.35it/s]"
     ]
    },
    {
     "name": "stdout",
     "output_type": "stream",
     "text": [
      "Epoch [330/1000], Training Loss: 3691.9065, Validation Loss: 34367.6746\n",
      "Epoch [330]: New best model saved with Validation Loss: 34367.6746\n",
      "Epoch [332]: New best model saved with Validation Loss: 34243.7266\n"
     ]
    },
    {
     "name": "stderr",
     "output_type": "stream",
     "text": [
      "Training epochs:  34%|███▎      | 336/1000 [00:24<00:44, 14.88it/s]"
     ]
    },
    {
     "name": "stdout",
     "output_type": "stream",
     "text": [
      "Epoch [334]: New best model saved with Validation Loss: 33862.8889\n",
      "Epoch [336]: New best model saved with Validation Loss: 33819.9334\n"
     ]
    },
    {
     "name": "stderr",
     "output_type": "stream",
     "text": [
      "Training epochs:  34%|███▍      | 338/1000 [00:24<00:44, 14.76it/s]"
     ]
    },
    {
     "name": "stdout",
     "output_type": "stream",
     "text": [
      "Epoch [337]: New best model saved with Validation Loss: 33718.3465\n",
      "Epoch [339]: New best model saved with Validation Loss: 33650.4083\n",
      "Epoch [340/1000], Training Loss: 3202.2571, Validation Loss: 33470.3055\n",
      "Epoch [340]: New best model saved with Validation Loss: 33470.3055\n"
     ]
    },
    {
     "name": "stderr",
     "output_type": "stream",
     "text": [
      "Training epochs:  34%|███▍      | 344/1000 [00:24<00:42, 15.51it/s]"
     ]
    },
    {
     "name": "stdout",
     "output_type": "stream",
     "text": [
      "Epoch [342]: New best model saved with Validation Loss: 33432.4491\n",
      "Epoch [343]: New best model saved with Validation Loss: 33288.6092\n",
      "Epoch [345]: New best model saved with Validation Loss: 33126.4007\n"
     ]
    },
    {
     "name": "stderr",
     "output_type": "stream",
     "text": [
      "Training epochs:  35%|███▍      | 348/1000 [00:24<00:41, 15.81it/s]"
     ]
    },
    {
     "name": "stdout",
     "output_type": "stream",
     "text": [
      "Epoch [346]: New best model saved with Validation Loss: 33000.7491\n",
      "Epoch [347]: New best model saved with Validation Loss: 32939.1752\n",
      "Epoch [349]: New best model saved with Validation Loss: 32792.6070\n"
     ]
    },
    {
     "name": "stderr",
     "output_type": "stream",
     "text": [
      "Training epochs:  35%|███▌      | 352/1000 [00:25<00:40, 16.06it/s]"
     ]
    },
    {
     "name": "stdout",
     "output_type": "stream",
     "text": [
      "Epoch [350/1000], Training Loss: 2800.3965, Validation Loss: 32712.1670\n",
      "Epoch [350]: New best model saved with Validation Loss: 32712.1670\n",
      "Epoch [351]: New best model saved with Validation Loss: 32692.2845\n",
      "Epoch [352]: New best model saved with Validation Loss: 32522.3447\n"
     ]
    },
    {
     "name": "stderr",
     "output_type": "stream",
     "text": [
      "Training epochs:  36%|███▌      | 356/1000 [00:25<00:42, 15.28it/s]"
     ]
    },
    {
     "name": "stdout",
     "output_type": "stream",
     "text": [
      "Epoch [354]: New best model saved with Validation Loss: 32455.5821\n",
      "Epoch [356]: New best model saved with Validation Loss: 32122.7965\n"
     ]
    },
    {
     "name": "stderr",
     "output_type": "stream",
     "text": [
      "Training epochs:  36%|███▌      | 358/1000 [00:25<00:45, 14.03it/s]"
     ]
    },
    {
     "name": "stdout",
     "output_type": "stream",
     "text": [
      "Epoch [357]: New best model saved with Validation Loss: 32016.0078\n"
     ]
    },
    {
     "name": "stderr",
     "output_type": "stream",
     "text": [
      "Training epochs:  36%|███▌      | 362/1000 [00:25<00:53, 11.95it/s]"
     ]
    },
    {
     "name": "stdout",
     "output_type": "stream",
     "text": [
      "Epoch [360/1000], Training Loss: 2377.8793, Validation Loss: 32177.9306\n",
      "Epoch [361]: New best model saved with Validation Loss: 31686.5081\n"
     ]
    },
    {
     "name": "stderr",
     "output_type": "stream",
     "text": [
      "Training epochs:  37%|███▋      | 366/1000 [00:26<00:47, 13.26it/s]"
     ]
    },
    {
     "name": "stdout",
     "output_type": "stream",
     "text": [
      "Epoch [364]: New best model saved with Validation Loss: 31558.3235\n",
      "Epoch [366]: New best model saved with Validation Loss: 31461.5229\n"
     ]
    },
    {
     "name": "stderr",
     "output_type": "stream",
     "text": [
      "Training epochs:  37%|███▋      | 370/1000 [00:26<00:51, 12.28it/s]"
     ]
    },
    {
     "name": "stdout",
     "output_type": "stream",
     "text": [
      "Epoch [370/1000], Training Loss: 2062.5447, Validation Loss: 31147.6036\n",
      "Epoch [370]: New best model saved with Validation Loss: 31147.6036\n"
     ]
    },
    {
     "name": "stderr",
     "output_type": "stream",
     "text": [
      "Training epochs:  37%|███▋      | 374/1000 [00:26<01:01, 10.23it/s]"
     ]
    },
    {
     "name": "stdout",
     "output_type": "stream",
     "text": [
      "Epoch [373]: New best model saved with Validation Loss: 31121.5943\n",
      "Epoch [375]: New best model saved with Validation Loss: 30869.6298\n"
     ]
    },
    {
     "name": "stderr",
     "output_type": "stream",
     "text": [
      "Training epochs:  38%|███▊      | 380/1000 [00:27<00:48, 12.70it/s]"
     ]
    },
    {
     "name": "stdout",
     "output_type": "stream",
     "text": [
      "Epoch [378]: New best model saved with Validation Loss: 30712.7278\n",
      "Epoch [380/1000], Training Loss: 1826.8027, Validation Loss: 30644.2249\n",
      "Epoch [380]: New best model saved with Validation Loss: 30644.2249\n",
      "Epoch [381]: New best model saved with Validation Loss: 30633.9693\n"
     ]
    },
    {
     "name": "stderr",
     "output_type": "stream",
     "text": [
      "Training epochs:  38%|███▊      | 382/1000 [00:27<00:47, 13.02it/s]"
     ]
    },
    {
     "name": "stdout",
     "output_type": "stream",
     "text": [
      "Epoch [382]: New best model saved with Validation Loss: 30332.2948\n"
     ]
    },
    {
     "name": "stderr",
     "output_type": "stream",
     "text": [
      "Training epochs:  39%|███▉      | 390/1000 [00:28<00:43, 13.91it/s]"
     ]
    },
    {
     "name": "stdout",
     "output_type": "stream",
     "text": [
      "Epoch [387]: New best model saved with Validation Loss: 30238.2031\n",
      "Epoch [390/1000], Training Loss: 1593.6262, Validation Loss: 30210.7315\n",
      "Epoch [390]: New best model saved with Validation Loss: 30210.7315\n"
     ]
    },
    {
     "name": "stderr",
     "output_type": "stream",
     "text": [
      "Training epochs:  39%|███▉      | 394/1000 [00:28<00:43, 14.08it/s]"
     ]
    },
    {
     "name": "stdout",
     "output_type": "stream",
     "text": [
      "Epoch [392]: New best model saved with Validation Loss: 29999.9472\n",
      "Epoch [393]: New best model saved with Validation Loss: 29945.1922\n",
      "Epoch [394]: New best model saved with Validation Loss: 29721.1544\n"
     ]
    },
    {
     "name": "stderr",
     "output_type": "stream",
     "text": [
      "Training epochs:  40%|███▉      | 398/1000 [00:28<00:41, 14.52it/s]"
     ]
    },
    {
     "name": "stdout",
     "output_type": "stream",
     "text": [
      "Epoch [396]: New best model saved with Validation Loss: 29651.1624\n"
     ]
    },
    {
     "name": "stderr",
     "output_type": "stream",
     "text": [
      "Training epochs:  40%|████      | 400/1000 [00:28<00:41, 14.41it/s]"
     ]
    },
    {
     "name": "stdout",
     "output_type": "stream",
     "text": [
      "Epoch [400/1000], Training Loss: 1361.3212, Validation Loss: 29948.6260\n"
     ]
    },
    {
     "name": "stderr",
     "output_type": "stream",
     "text": [
      "Training epochs:  41%|████      | 406/1000 [00:29<00:47, 12.38it/s]"
     ]
    },
    {
     "name": "stdout",
     "output_type": "stream",
     "text": [
      "Epoch [404]: New best model saved with Validation Loss: 29416.4401\n",
      "Epoch [406]: New best model saved with Validation Loss: 29346.3646\n"
     ]
    },
    {
     "name": "stderr",
     "output_type": "stream",
     "text": [
      "Training epochs:  41%|████      | 412/1000 [00:29<00:39, 14.76it/s]"
     ]
    },
    {
     "name": "stdout",
     "output_type": "stream",
     "text": [
      "Epoch [409]: New best model saved with Validation Loss: 29262.6745\n",
      "Epoch [410/1000], Training Loss: 1168.7562, Validation Loss: 29463.9796\n",
      "Epoch [411]: New best model saved with Validation Loss: 29224.9474\n",
      "Epoch [412]: New best model saved with Validation Loss: 29187.0172\n"
     ]
    },
    {
     "name": "stderr",
     "output_type": "stream",
     "text": [
      "Training epochs:  41%|████▏     | 414/1000 [00:29<00:39, 14.72it/s]"
     ]
    },
    {
     "name": "stdout",
     "output_type": "stream",
     "text": [
      "Epoch [413]: New best model saved with Validation Loss: 29141.4915\n",
      "Epoch [416]: New best model saved with Validation Loss: 29040.7041\n"
     ]
    },
    {
     "name": "stderr",
     "output_type": "stream",
     "text": [
      "Training epochs:  42%|████▏     | 422/1000 [00:30<00:35, 16.29it/s]"
     ]
    },
    {
     "name": "stdout",
     "output_type": "stream",
     "text": [
      "Epoch [420/1000], Training Loss: 1073.4730, Validation Loss: 28755.2778\n",
      "Epoch [420]: New best model saved with Validation Loss: 28755.2778\n"
     ]
    },
    {
     "name": "stderr",
     "output_type": "stream",
     "text": [
      "Training epochs:  43%|████▎     | 426/1000 [00:30<00:36, 15.75it/s]"
     ]
    },
    {
     "name": "stdout",
     "output_type": "stream",
     "text": [
      "Epoch [424]: New best model saved with Validation Loss: 28722.3860\n"
     ]
    },
    {
     "name": "stderr",
     "output_type": "stream",
     "text": [
      "Training epochs:  43%|████▎     | 432/1000 [00:31<00:38, 14.69it/s]"
     ]
    },
    {
     "name": "stdout",
     "output_type": "stream",
     "text": [
      "Epoch [430/1000], Training Loss: 876.3201, Validation Loss: 28930.6906\n",
      "Epoch [433]: New best model saved with Validation Loss: 28670.2728\n"
     ]
    },
    {
     "name": "stderr",
     "output_type": "stream",
     "text": [
      "Training epochs:  44%|████▎     | 436/1000 [00:31<00:42, 13.27it/s]"
     ]
    },
    {
     "name": "stdout",
     "output_type": "stream",
     "text": [
      "Epoch [434]: New best model saved with Validation Loss: 28604.8537\n",
      "Epoch [436]: New best model saved with Validation Loss: 28587.2108\n"
     ]
    },
    {
     "name": "stderr",
     "output_type": "stream",
     "text": [
      "Training epochs:  44%|████▍     | 438/1000 [00:31<00:40, 13.94it/s]"
     ]
    },
    {
     "name": "stdout",
     "output_type": "stream",
     "text": [
      "Epoch [437]: New best model saved with Validation Loss: 28484.9486\n",
      "Epoch [440/1000], Training Loss: 746.1612, Validation Loss: 28439.1567\n",
      "Epoch [440]: New best model saved with Validation Loss: 28439.1567\n"
     ]
    },
    {
     "name": "stderr",
     "output_type": "stream",
     "text": [
      "Training epochs:  45%|████▍     | 447/1000 [00:32<00:32, 17.11it/s]"
     ]
    },
    {
     "name": "stdout",
     "output_type": "stream",
     "text": [
      "Epoch [445]: New best model saved with Validation Loss: 28267.0278\n",
      "Epoch [447]: New best model saved with Validation Loss: 28056.4385\n"
     ]
    },
    {
     "name": "stderr",
     "output_type": "stream",
     "text": [
      "Training epochs:  45%|████▌     | 450/1000 [00:32<00:32, 17.09it/s]"
     ]
    },
    {
     "name": "stdout",
     "output_type": "stream",
     "text": [
      "Epoch [450/1000], Training Loss: 638.7494, Validation Loss: 28270.8087\n"
     ]
    },
    {
     "name": "stderr",
     "output_type": "stream",
     "text": [
      "Training epochs:  46%|████▌     | 460/1000 [00:33<00:37, 14.22it/s]"
     ]
    },
    {
     "name": "stdout",
     "output_type": "stream",
     "text": [
      "Epoch [458]: New best model saved with Validation Loss: 27838.4507\n",
      "Epoch [460/1000], Training Loss: 545.8700, Validation Loss: 27889.7461\n"
     ]
    },
    {
     "name": "stderr",
     "output_type": "stream",
     "text": [
      "Training epochs:  46%|████▋     | 464/1000 [00:33<00:35, 14.93it/s]"
     ]
    },
    {
     "name": "stdout",
     "output_type": "stream",
     "text": [
      "Epoch [463]: New best model saved with Validation Loss: 27603.7258\n"
     ]
    },
    {
     "name": "stderr",
     "output_type": "stream",
     "text": [
      "Training epochs:  47%|████▋     | 472/1000 [00:33<00:34, 15.52it/s]"
     ]
    },
    {
     "name": "stdout",
     "output_type": "stream",
     "text": [
      "Epoch [470/1000], Training Loss: 459.8617, Validation Loss: 27862.9152\n"
     ]
    },
    {
     "name": "stderr",
     "output_type": "stream",
     "text": [
      "Training epochs:  48%|████▊     | 481/1000 [00:34<00:30, 16.91it/s]"
     ]
    },
    {
     "name": "stdout",
     "output_type": "stream",
     "text": [
      "Epoch [480/1000], Training Loss: 409.3978, Validation Loss: 27867.6437\n",
      "Epoch [481]: New best model saved with Validation Loss: 27538.6153\n"
     ]
    },
    {
     "name": "stderr",
     "output_type": "stream",
     "text": [
      "Training epochs:  49%|████▊     | 487/1000 [00:34<00:37, 13.84it/s]"
     ]
    },
    {
     "name": "stdout",
     "output_type": "stream",
     "text": [
      "Epoch [485]: New best model saved with Validation Loss: 27356.0862\n"
     ]
    },
    {
     "name": "stderr",
     "output_type": "stream",
     "text": [
      "Training epochs:  49%|████▉     | 491/1000 [00:35<00:34, 14.86it/s]"
     ]
    },
    {
     "name": "stdout",
     "output_type": "stream",
     "text": [
      "Epoch [490/1000], Training Loss: 347.2506, Validation Loss: 27609.8609\n",
      "Epoch [493]: New best model saved with Validation Loss: 27322.4420\n"
     ]
    },
    {
     "name": "stderr",
     "output_type": "stream",
     "text": [
      "Training epochs:  50%|█████     | 503/1000 [00:35<00:27, 17.91it/s]"
     ]
    },
    {
     "name": "stdout",
     "output_type": "stream",
     "text": [
      "Epoch [500/1000], Training Loss: 292.4366, Validation Loss: 27392.0884\n",
      "Epoch [503]: New best model saved with Validation Loss: 27286.2843\n"
     ]
    },
    {
     "name": "stderr",
     "output_type": "stream",
     "text": [
      "Training epochs:  51%|█████     | 509/1000 [00:36<00:28, 17.17it/s]"
     ]
    },
    {
     "name": "stdout",
     "output_type": "stream",
     "text": [
      "Epoch [506]: New best model saved with Validation Loss: 27261.1458\n",
      "Epoch [509]: New best model saved with Validation Loss: 27243.2376\n",
      "Epoch [510/1000], Training Loss: 253.3195, Validation Loss: 27303.6773\n"
     ]
    },
    {
     "name": "stderr",
     "output_type": "stream",
     "text": [
      "Training epochs:  52%|█████▏    | 515/1000 [00:36<00:35, 13.59it/s]"
     ]
    },
    {
     "name": "stdout",
     "output_type": "stream",
     "text": [
      "Epoch [512]: New best model saved with Validation Loss: 26978.6806\n"
     ]
    },
    {
     "name": "stderr",
     "output_type": "stream",
     "text": [
      "Training epochs:  52%|█████▏    | 523/1000 [00:37<00:28, 16.74it/s]"
     ]
    },
    {
     "name": "stdout",
     "output_type": "stream",
     "text": [
      "Epoch [520/1000], Training Loss: 198.4542, Validation Loss: 27106.0350\n"
     ]
    },
    {
     "name": "stderr",
     "output_type": "stream",
     "text": [
      "Training epochs:  53%|█████▎    | 527/1000 [00:37<00:29, 15.95it/s]"
     ]
    },
    {
     "name": "stdout",
     "output_type": "stream",
     "text": [
      "Epoch [526]: New best model saved with Validation Loss: 26940.2214\n",
      "Epoch [527]: New best model saved with Validation Loss: 26894.0383\n"
     ]
    },
    {
     "name": "stderr",
     "output_type": "stream",
     "text": [
      "Training epochs:  53%|█████▎    | 533/1000 [00:37<00:26, 17.42it/s]"
     ]
    },
    {
     "name": "stdout",
     "output_type": "stream",
     "text": [
      "Epoch [530/1000], Training Loss: 183.3209, Validation Loss: 27081.2783\n"
     ]
    },
    {
     "name": "stderr",
     "output_type": "stream",
     "text": [
      "Training epochs:  54%|█████▍    | 541/1000 [00:38<00:26, 17.15it/s]"
     ]
    },
    {
     "name": "stdout",
     "output_type": "stream",
     "text": [
      "Epoch [538]: New best model saved with Validation Loss: 26831.9336\n",
      "Epoch [540/1000], Training Loss: 149.5851, Validation Loss: 26983.8745\n"
     ]
    },
    {
     "name": "stderr",
     "output_type": "stream",
     "text": [
      "Training epochs:  55%|█████▍    | 545/1000 [00:38<00:27, 16.73it/s]"
     ]
    },
    {
     "name": "stdout",
     "output_type": "stream",
     "text": [
      "Epoch [543]: New best model saved with Validation Loss: 26801.8022\n"
     ]
    },
    {
     "name": "stderr",
     "output_type": "stream",
     "text": [
      "Training epochs:  55%|█████▌    | 553/1000 [00:38<00:27, 15.97it/s]"
     ]
    },
    {
     "name": "stdout",
     "output_type": "stream",
     "text": [
      "Epoch [550/1000], Training Loss: 116.4684, Validation Loss: 26879.3962\n"
     ]
    },
    {
     "name": "stderr",
     "output_type": "stream",
     "text": [
      "Training epochs:  56%|█████▌    | 557/1000 [00:39<00:27, 16.34it/s]"
     ]
    },
    {
     "name": "stdout",
     "output_type": "stream",
     "text": [
      "Epoch [555]: New best model saved with Validation Loss: 26801.2721\n",
      "Epoch [556]: New best model saved with Validation Loss: 26795.5558\n"
     ]
    },
    {
     "name": "stderr",
     "output_type": "stream",
     "text": [
      "Training epochs:  56%|█████▌    | 561/1000 [00:39<00:27, 15.86it/s]"
     ]
    },
    {
     "name": "stdout",
     "output_type": "stream",
     "text": [
      "Epoch [560/1000], Training Loss: 99.6108, Validation Loss: 26846.4074\n",
      "Epoch [561]: New best model saved with Validation Loss: 26718.7764\n",
      "Epoch [562]: New best model saved with Validation Loss: 26689.5669\n"
     ]
    },
    {
     "name": "stderr",
     "output_type": "stream",
     "text": [
      "Training epochs:  57%|█████▋    | 569/1000 [00:40<00:32, 13.45it/s]"
     ]
    },
    {
     "name": "stdout",
     "output_type": "stream",
     "text": [
      "Epoch [566]: New best model saved with Validation Loss: 26616.9888\n",
      "Epoch [570/1000], Training Loss: 88.9542, Validation Loss: 26793.7173\n"
     ]
    },
    {
     "name": "stderr",
     "output_type": "stream",
     "text": [
      "Training epochs:  58%|█████▊    | 581/1000 [00:40<00:25, 16.61it/s]"
     ]
    },
    {
     "name": "stdout",
     "output_type": "stream",
     "text": [
      "Epoch [578]: New best model saved with Validation Loss: 26541.7753\n",
      "Epoch [580/1000], Training Loss: 69.3675, Validation Loss: 26854.7317\n"
     ]
    },
    {
     "name": "stderr",
     "output_type": "stream",
     "text": [
      "Training epochs:  59%|█████▊    | 587/1000 [00:41<00:24, 16.90it/s]"
     ]
    },
    {
     "name": "stdout",
     "output_type": "stream",
     "text": [
      "Epoch [584]: New best model saved with Validation Loss: 26540.9578\n"
     ]
    },
    {
     "name": "stderr",
     "output_type": "stream",
     "text": [
      "Training epochs:  59%|█████▉    | 593/1000 [00:41<00:25, 16.04it/s]"
     ]
    },
    {
     "name": "stdout",
     "output_type": "stream",
     "text": [
      "Epoch [590/1000], Training Loss: 64.9050, Validation Loss: 26637.6931\n"
     ]
    },
    {
     "name": "stderr",
     "output_type": "stream",
     "text": [
      "Training epochs:  60%|██████    | 603/1000 [00:42<00:25, 15.76it/s]"
     ]
    },
    {
     "name": "stdout",
     "output_type": "stream",
     "text": [
      "Epoch [600/1000], Training Loss: 44.3680, Validation Loss: 26686.3272\n"
     ]
    },
    {
     "name": "stderr",
     "output_type": "stream",
     "text": [
      "Training epochs:  61%|██████▏   | 613/1000 [00:42<00:23, 16.54it/s]"
     ]
    },
    {
     "name": "stdout",
     "output_type": "stream",
     "text": [
      "Epoch [610/1000], Training Loss: 37.1772, Validation Loss: 26541.5860\n",
      "Epoch [611]: New best model saved with Validation Loss: 26436.2331\n"
     ]
    },
    {
     "name": "stderr",
     "output_type": "stream",
     "text": [
      "Training epochs:  62%|██████▏   | 623/1000 [00:43<00:21, 17.70it/s]"
     ]
    },
    {
     "name": "stdout",
     "output_type": "stream",
     "text": [
      "Epoch [620/1000], Training Loss: 26.6203, Validation Loss: 26552.7171\n"
     ]
    },
    {
     "name": "stderr",
     "output_type": "stream",
     "text": [
      "Training epochs:  63%|██████▎   | 632/1000 [00:44<00:25, 14.36it/s]"
     ]
    },
    {
     "name": "stdout",
     "output_type": "stream",
     "text": [
      "Epoch [629]: New best model saved with Validation Loss: 26429.2315\n",
      "Epoch [630/1000], Training Loss: 23.6815, Validation Loss: 26557.2086\n"
     ]
    },
    {
     "name": "stderr",
     "output_type": "stream",
     "text": [
      "Training epochs:  64%|██████▍   | 643/1000 [00:44<00:20, 17.56it/s]"
     ]
    },
    {
     "name": "stdout",
     "output_type": "stream",
     "text": [
      "Epoch [640/1000], Training Loss: 118.7759, Validation Loss: 26545.4710\n"
     ]
    },
    {
     "name": "stderr",
     "output_type": "stream",
     "text": [
      "Training epochs:  65%|██████▌   | 651/1000 [00:45<00:21, 15.91it/s]"
     ]
    },
    {
     "name": "stdout",
     "output_type": "stream",
     "text": [
      "Epoch [650/1000], Training Loss: 56.6147, Validation Loss: 26753.8276\n"
     ]
    },
    {
     "name": "stderr",
     "output_type": "stream",
     "text": [
      "Training epochs:  66%|██████▌   | 661/1000 [00:46<00:23, 14.58it/s]"
     ]
    },
    {
     "name": "stdout",
     "output_type": "stream",
     "text": [
      "Epoch [660/1000], Training Loss: 10.4576, Validation Loss: 26590.7945\n"
     ]
    },
    {
     "name": "stderr",
     "output_type": "stream",
     "text": [
      "Training epochs:  67%|██████▋   | 672/1000 [00:46<00:19, 16.66it/s]"
     ]
    },
    {
     "name": "stdout",
     "output_type": "stream",
     "text": [
      "Epoch [670/1000], Training Loss: 9.2229, Validation Loss: 26551.5449\n"
     ]
    },
    {
     "name": "stderr",
     "output_type": "stream",
     "text": [
      "Training epochs:  68%|██████▊   | 681/1000 [00:47<00:19, 16.12it/s]"
     ]
    },
    {
     "name": "stdout",
     "output_type": "stream",
     "text": [
      "Epoch [680/1000], Training Loss: 7.0830, Validation Loss: 26584.3341\n"
     ]
    },
    {
     "name": "stderr",
     "output_type": "stream",
     "text": [
      "Training epochs:  69%|██████▉   | 689/1000 [00:47<00:19, 15.55it/s]"
     ]
    },
    {
     "name": "stdout",
     "output_type": "stream",
     "text": [
      "Epoch [690/1000], Training Loss: 4.9221, Validation Loss: 26623.6101\n"
     ]
    },
    {
     "name": "stderr",
     "output_type": "stream",
     "text": [
      "Training epochs:  70%|███████   | 702/1000 [00:48<00:18, 16.07it/s]"
     ]
    },
    {
     "name": "stdout",
     "output_type": "stream",
     "text": [
      "Epoch [700/1000], Training Loss: 3.0898, Validation Loss: 26586.0868\n"
     ]
    },
    {
     "name": "stderr",
     "output_type": "stream",
     "text": [
      "Training epochs:  71%|███████▏  | 713/1000 [00:49<00:15, 18.95it/s]"
     ]
    },
    {
     "name": "stdout",
     "output_type": "stream",
     "text": [
      "Epoch [710/1000], Training Loss: 4.6618, Validation Loss: 26629.9083\n"
     ]
    },
    {
     "name": "stderr",
     "output_type": "stream",
     "text": [
      "Training epochs:  72%|███████▏  | 723/1000 [00:50<00:16, 16.92it/s]"
     ]
    },
    {
     "name": "stdout",
     "output_type": "stream",
     "text": [
      "Epoch [720/1000], Training Loss: 16.2675, Validation Loss: 26601.5049\n"
     ]
    },
    {
     "name": "stderr",
     "output_type": "stream",
     "text": [
      "Training epochs:  73%|███████▎  | 733/1000 [00:50<00:17, 15.44it/s]"
     ]
    },
    {
     "name": "stdout",
     "output_type": "stream",
     "text": [
      "Epoch [730/1000], Training Loss: 83.8186, Validation Loss: 26853.8199\n"
     ]
    },
    {
     "name": "stderr",
     "output_type": "stream",
     "text": [
      "Training epochs:  74%|███████▍  | 742/1000 [00:51<00:15, 17.00it/s]"
     ]
    },
    {
     "name": "stdout",
     "output_type": "stream",
     "text": [
      "Epoch [740/1000], Training Loss: 2.2781, Validation Loss: 26637.7930\n"
     ]
    },
    {
     "name": "stderr",
     "output_type": "stream",
     "text": [
      "Training epochs:  75%|███████▌  | 753/1000 [00:51<00:13, 18.44it/s]"
     ]
    },
    {
     "name": "stdout",
     "output_type": "stream",
     "text": [
      "Epoch [750/1000], Training Loss: 0.9220, Validation Loss: 26638.4649\n"
     ]
    },
    {
     "name": "stderr",
     "output_type": "stream",
     "text": [
      "Training epochs:  76%|███████▋  | 764/1000 [00:52<00:12, 19.19it/s]"
     ]
    },
    {
     "name": "stdout",
     "output_type": "stream",
     "text": [
      "Epoch [760/1000], Training Loss: 0.5274, Validation Loss: 26654.8680\n"
     ]
    },
    {
     "name": "stderr",
     "output_type": "stream",
     "text": [
      "Training epochs:  77%|███████▋  | 773/1000 [00:53<00:15, 15.01it/s]"
     ]
    },
    {
     "name": "stdout",
     "output_type": "stream",
     "text": [
      "Epoch [770/1000], Training Loss: 0.4515, Validation Loss: 26637.2844\n"
     ]
    },
    {
     "name": "stderr",
     "output_type": "stream",
     "text": [
      "Training epochs:  78%|███████▊  | 782/1000 [00:53<00:12, 17.23it/s]"
     ]
    },
    {
     "name": "stdout",
     "output_type": "stream",
     "text": [
      "Epoch [780/1000], Training Loss: 1.5596, Validation Loss: 26661.9113\n"
     ]
    },
    {
     "name": "stderr",
     "output_type": "stream",
     "text": [
      "Training epochs:  79%|███████▉  | 791/1000 [00:54<00:11, 18.09it/s]"
     ]
    },
    {
     "name": "stdout",
     "output_type": "stream",
     "text": [
      "Epoch [790/1000], Training Loss: 7.2782, Validation Loss: 26754.8483\n",
      "Epoch [793]: New best model saved with Validation Loss: 26424.6503\n"
     ]
    },
    {
     "name": "stderr",
     "output_type": "stream",
     "text": [
      "Training epochs:  80%|████████  | 802/1000 [00:54<00:11, 17.91it/s]"
     ]
    },
    {
     "name": "stdout",
     "output_type": "stream",
     "text": [
      "Epoch [800/1000], Training Loss: 22.8361, Validation Loss: 26777.8558\n"
     ]
    },
    {
     "name": "stderr",
     "output_type": "stream",
     "text": [
      "Training epochs:  81%|████████  | 812/1000 [00:55<00:09, 18.95it/s]"
     ]
    },
    {
     "name": "stdout",
     "output_type": "stream",
     "text": [
      "Epoch [810/1000], Training Loss: 2.2539, Validation Loss: 26897.1777\n"
     ]
    },
    {
     "name": "stderr",
     "output_type": "stream",
     "text": [
      "Training epochs:  82%|████████▏ | 821/1000 [00:56<00:11, 15.28it/s]"
     ]
    },
    {
     "name": "stdout",
     "output_type": "stream",
     "text": [
      "Epoch [820/1000], Training Loss: 3.0326, Validation Loss: 26850.0704\n"
     ]
    },
    {
     "name": "stderr",
     "output_type": "stream",
     "text": [
      "Training epochs:  83%|████████▎ | 832/1000 [00:56<00:09, 18.37it/s]"
     ]
    },
    {
     "name": "stdout",
     "output_type": "stream",
     "text": [
      "Epoch [830/1000], Training Loss: 0.2551, Validation Loss: 26863.3806\n"
     ]
    },
    {
     "name": "stderr",
     "output_type": "stream",
     "text": [
      "Training epochs:  84%|████████▍ | 843/1000 [00:57<00:07, 20.72it/s]"
     ]
    },
    {
     "name": "stdout",
     "output_type": "stream",
     "text": [
      "Epoch [840/1000], Training Loss: 0.3366, Validation Loss: 26851.8138\n"
     ]
    },
    {
     "name": "stderr",
     "output_type": "stream",
     "text": [
      "Training epochs:  85%|████████▌ | 854/1000 [00:57<00:08, 16.78it/s]"
     ]
    },
    {
     "name": "stdout",
     "output_type": "stream",
     "text": [
      "Epoch [850/1000], Training Loss: 90.6506, Validation Loss: 26822.5571\n"
     ]
    },
    {
     "name": "stderr",
     "output_type": "stream",
     "text": [
      "Training epochs:  86%|████████▌ | 861/1000 [00:58<00:07, 17.82it/s]"
     ]
    },
    {
     "name": "stdout",
     "output_type": "stream",
     "text": [
      "Epoch [860/1000], Training Loss: 54.5386, Validation Loss: 26538.7406\n"
     ]
    },
    {
     "name": "stderr",
     "output_type": "stream",
     "text": [
      "Training epochs:  87%|████████▋ | 873/1000 [00:58<00:06, 20.62it/s]"
     ]
    },
    {
     "name": "stdout",
     "output_type": "stream",
     "text": [
      "Epoch [870/1000], Training Loss: 30.3962, Validation Loss: 26888.5689\n"
     ]
    },
    {
     "name": "stderr",
     "output_type": "stream",
     "text": [
      "Training epochs:  88%|████████▊ | 882/1000 [00:59<00:05, 22.79it/s]"
     ]
    },
    {
     "name": "stdout",
     "output_type": "stream",
     "text": [
      "Epoch [880/1000], Training Loss: 12.7926, Validation Loss: 26983.8752\n"
     ]
    },
    {
     "name": "stderr",
     "output_type": "stream",
     "text": [
      "Training epochs:  89%|████████▉ | 894/1000 [00:59<00:04, 23.52it/s]"
     ]
    },
    {
     "name": "stdout",
     "output_type": "stream",
     "text": [
      "Epoch [890/1000], Training Loss: 0.3800, Validation Loss: 26907.6394\n"
     ]
    },
    {
     "name": "stderr",
     "output_type": "stream",
     "text": [
      "Training epochs:  90%|█████████ | 903/1000 [01:00<00:03, 24.32it/s]"
     ]
    },
    {
     "name": "stdout",
     "output_type": "stream",
     "text": [
      "Epoch [900/1000], Training Loss: 0.0342, Validation Loss: 26928.8489\n"
     ]
    },
    {
     "name": "stderr",
     "output_type": "stream",
     "text": [
      "Training epochs:  91%|█████████ | 912/1000 [01:00<00:03, 23.89it/s]"
     ]
    },
    {
     "name": "stdout",
     "output_type": "stream",
     "text": [
      "Epoch [910/1000], Training Loss: 0.1800, Validation Loss: 26939.9413\n"
     ]
    },
    {
     "name": "stderr",
     "output_type": "stream",
     "text": [
      "Training epochs:  92%|█████████▏| 921/1000 [01:01<00:04, 16.88it/s]"
     ]
    },
    {
     "name": "stdout",
     "output_type": "stream",
     "text": [
      "Epoch [920/1000], Training Loss: 0.1486, Validation Loss: 26944.4835\n"
     ]
    },
    {
     "name": "stderr",
     "output_type": "stream",
     "text": [
      "Training epochs:  93%|█████████▎| 932/1000 [01:01<00:04, 16.27it/s]"
     ]
    },
    {
     "name": "stdout",
     "output_type": "stream",
     "text": [
      "Epoch [930/1000], Training Loss: 0.1800, Validation Loss: 26913.9852\n"
     ]
    },
    {
     "name": "stderr",
     "output_type": "stream",
     "text": [
      "Training epochs:  94%|█████████▍| 943/1000 [01:02<00:02, 19.58it/s]"
     ]
    },
    {
     "name": "stdout",
     "output_type": "stream",
     "text": [
      "Epoch [940/1000], Training Loss: 0.4179, Validation Loss: 26927.4022\n"
     ]
    },
    {
     "name": "stderr",
     "output_type": "stream",
     "text": [
      "Training epochs:  95%|█████████▌| 953/1000 [01:03<00:02, 19.39it/s]"
     ]
    },
    {
     "name": "stdout",
     "output_type": "stream",
     "text": [
      "Epoch [950/1000], Training Loss: 0.3654, Validation Loss: 26938.3657\n"
     ]
    },
    {
     "name": "stderr",
     "output_type": "stream",
     "text": [
      "Training epochs:  96%|█████████▌| 962/1000 [01:03<00:02, 17.98it/s]"
     ]
    },
    {
     "name": "stdout",
     "output_type": "stream",
     "text": [
      "Epoch [960/1000], Training Loss: 49.2171, Validation Loss: 26627.6651\n"
     ]
    },
    {
     "name": "stderr",
     "output_type": "stream",
     "text": [
      "Training epochs:  97%|█████████▋| 972/1000 [01:04<00:01, 18.78it/s]"
     ]
    },
    {
     "name": "stdout",
     "output_type": "stream",
     "text": [
      "Epoch [970/1000], Training Loss: 135.6330, Validation Loss: 26883.5267\n"
     ]
    },
    {
     "name": "stderr",
     "output_type": "stream",
     "text": [
      "Training epochs:  98%|█████████▊| 983/1000 [01:04<00:00, 20.30it/s]"
     ]
    },
    {
     "name": "stdout",
     "output_type": "stream",
     "text": [
      "Epoch [980/1000], Training Loss: 27.4540, Validation Loss: 26761.9911\n"
     ]
    },
    {
     "name": "stderr",
     "output_type": "stream",
     "text": [
      "Training epochs:  99%|█████████▉| 991/1000 [01:05<00:00, 20.26it/s]"
     ]
    },
    {
     "name": "stdout",
     "output_type": "stream",
     "text": [
      "Epoch [990/1000], Training Loss: 3.4080, Validation Loss: 26812.3574\n"
     ]
    },
    {
     "name": "stderr",
     "output_type": "stream",
     "text": [
      "Training epochs: 100%|██████████| 1000/1000 [01:05<00:00, 15.26it/s]"
     ]
    },
    {
     "name": "stdout",
     "output_type": "stream",
     "text": [
      "Epoch [1000/1000], Training Loss: 0.2569, Validation Loss: 26801.3568\n"
     ]
    },
    {
     "name": "stderr",
     "output_type": "stream",
     "text": [
      "\n"
     ]
    }
   ],
   "source": [
    "import torch\n",
    "\n",
    "importlib.reload(python.model)\n",
    "from python.model import SimpleNN, train_model\n",
    "\n",
    "\n",
    "# Instantiate the model (input dimension based on x_train)\n",
    "model = SimpleNN(X_train_tensor.shape[1])\n",
    "\n",
    "# Define hyperparameters in a dictionary (adjust as needed)\n",
    "hyperparams = {\n",
    "    \"batch_size\": 32,\n",
    "    \"epochs\": 1000,\n",
    "    \"learning_rate\": 0.001,\n",
    "    \"print_every\": 10,\n",
    "    \"best_model_path\": \"best_model.pth\",\n",
    "    \"l2_lambda\": 0.01  # L2 regularization strength - adjust as needed\n",
    "}\n",
    "\n",
    "# Train the model\n",
    "model, training_losses, validation_losses = train_model(model, train_dataset, val_dataset, hyperparams)\n"
   ]
  },
  {
   "cell_type": "code",
   "execution_count": 76,
   "metadata": {},
   "outputs": [
    {
     "name": "stdout",
     "output_type": "stream",
     "text": [
      "Test Loss: 23317.2540\n"
     ]
    }
   ],
   "source": [
    "from python.model import evaluate_model\n",
    "import torch\n",
    "\n",
    "# Load the best model state (if not already loaded)\n",
    "model.load_state_dict(torch.load(hyperparams[\"best_model_path\"]))\n",
    "model.eval()\n",
    "\n",
    "# Evaluate the model on the test dataset\n",
    "test_loss = evaluate_model(model, test_dataset, hyperparams)\n",
    "print(f\"Test Loss: {test_loss:.4f}\")\n"
   ]
  },
  {
   "cell_type": "code",
   "execution_count": 77,
   "metadata": {},
   "outputs": [
    {
     "data": {
      "image/png": "[encoded data removed]",
      "text/plain": [
       "<Figure size 1000x600 with 1 Axes>"
      ]
     },
     "metadata": {},
     "output_type": "display_data"
    }
   ],
   "source": [
    "plot_training_history(training_losses, validation_losses)"
   ]
  },
  {
   "cell_type": "code",
   "execution_count": 78,
   "metadata": {},
   "outputs": [
    {
     "name": "stdout",
     "output_type": "stream",
     "text": [
      "Sample of 15 predictions vs actual values:\n",
      "     Actual ELO  Predicted ELO  Absolute Error\n",
      "74  1739.726074    1837.637817       97.911743\n",
      "40  1716.276367    1792.602539       76.326172\n",
      "84  1791.044312    1776.257568       14.786743\n",
      "52  1742.662842    1699.226562       43.436279\n",
      "82  1866.621460    1894.671875       28.050415\n",
      "25  1521.469482    1656.678955      135.209473\n",
      "65  1639.143921    1902.976196      263.832275\n",
      "6   1640.042114    1763.585083      123.542969\n",
      "67  1556.950317    1655.798828       98.848511\n",
      "34  1665.835327    1520.426147      145.409180\n",
      "72  1677.777832    1524.796753      152.981079\n",
      "44  1851.457642    1705.207764      146.249878\n",
      "24  1696.034180    1538.678711      157.355469\n",
      "75  1638.607056    1575.593994       63.013062\n",
      "15  1820.795044    1559.156250      261.638794\n",
      "\n",
      "Overall Metrics:\n",
      "Mean Absolute Error (MAE): 124.17\n",
      "Root Mean Squared Error (RMSE): 152.70\n"
     ]
    },
    {
     "data": {
      "image/png": "[encoded data removed]",
      "text/plain": [
       "<Figure size 1000x600 with 1 Axes>"
      ]
     },
     "metadata": {},
     "output_type": "display_data"
    }
   ],
   "source": [
    "import matplotlib.pyplot as plt\n",
    "import numpy as np\n",
    "import pandas as pd\n",
    "\n",
    "def compare_predictions_to_actual(model, test_dataset, num_samples=10, include_plot=True):\n",
    "    \"\"\"\n",
    "    Compare model predictions with actual target values.\n",
    "    \n",
    "    Parameters:\n",
    "        model: The trained neural network model\n",
    "        test_dataset: Test dataset (TensorDataset)\n",
    "        num_samples: Number of examples to show\n",
    "        include_plot: Whether to include a scatter plot visualization\n",
    "    \"\"\"\n",
    "    # Set model to evaluation mode\n",
    "    model.eval()\n",
    "    \n",
    "    # Get all inputs and targets from the test dataset\n",
    "    X_test = test_dataset.tensors[0]\n",
    "    y_test = test_dataset.tensors[1]\n",
    "    \n",
    "    # Get predictions for all test samples\n",
    "    with torch.no_grad():\n",
    "        predictions = model(X_test).squeeze()\n",
    "    \n",
    "    # Convert to numpy for easier handling\n",
    "    predictions = predictions.numpy()\n",
    "    actual = y_test.squeeze().numpy()\n",
    "    \n",
    "    # Calculate errors\n",
    "    absolute_errors = np.abs(predictions - actual)\n",
    "    \n",
    "    # Create a DataFrame for display\n",
    "    results_df = pd.DataFrame({\n",
    "        'Actual ELO': actual,\n",
    "        'Predicted ELO': predictions,\n",
    "        'Absolute Error': absolute_errors\n",
    "    })\n",
    "    \n",
    "    # Display a sample of the results\n",
    "    print(f\"Sample of {num_samples} predictions vs actual values:\")\n",
    "    print(results_df.sample(num_samples))\n",
    "    \n",
    "    # Calculate and show overall metrics\n",
    "    mae = np.mean(absolute_errors)\n",
    "    rmse = np.sqrt(np.mean((predictions - actual) ** 2))\n",
    "    print(f\"\\nOverall Metrics:\")\n",
    "    print(f\"Mean Absolute Error (MAE): {mae:.2f}\")\n",
    "    print(f\"Root Mean Squared Error (RMSE): {rmse:.2f}\")\n",
    "    \n",
    "    # Create a scatter plot\n",
    "    if include_plot:\n",
    "        plt.figure(figsize=(10, 6))\n",
    "        \n",
    "        # Scatter plot of predictions vs actual\n",
    "        plt.scatter(actual, predictions, alpha=0.5)\n",
    "        \n",
    "        # Perfect prediction line (y=x)\n",
    "        min_val = min(np.min(actual), np.min(predictions))\n",
    "        max_val = max(np.max(actual), np.max(predictions))\n",
    "        plt.plot([min_val, max_val], [min_val, max_val], 'r--')\n",
    "        \n",
    "        plt.title('Predicted ELO vs Actual ELO')\n",
    "        plt.xlabel('Actual ELO')\n",
    "        plt.ylabel('Predicted ELO')\n",
    "        plt.grid(True, alpha=0.3)\n",
    "        \n",
    "        # Add text with metrics\n",
    "        plt.text(\n",
    "            min_val + 0.8 * (max_val - min_val), \n",
    "            min_val + 0.1 * (max_val - min_val),\n",
    "            f'MAE: {mae:.2f}\\nRMSE: {rmse:.2f}', \n",
    "            fontsize=12,\n",
    "            bbox=dict(facecolor='white', alpha=0.5)\n",
    "        )\n",
    "        \n",
    "        plt.tight_layout()\n",
    "        plt.show()\n",
    "\n",
    "# Usage:\n",
    "compare_predictions_to_actual(model, test_dataset, num_samples=15)"
   ]
  },
  {
   "cell_type": "code",
   "execution_count": null,
   "metadata": {},
   "outputs": [],
   "source": []
  }
 ],
 "metadata": {
  "kernelspec": {
   "display_name": "cv1",
   "language": "python",
   "name": "python3"
  },
  "language_info": {
   "codemirror_mode": {
    "name": "ipython",
    "version": 3
   },
   "file_extension": ".py",
   "mimetype": "text/x-python",
   "name": "python",
   "nbconvert_exporter": "python",
   "pygments_lexer": "ipython3",
   "version": "3.12.4"
  }
 },
 "nbformat": 4,
 "nbformat_minor": 2
}
