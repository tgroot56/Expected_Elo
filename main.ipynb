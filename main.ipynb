{
 "cells": [
  {
   "cell_type": "markdown",
   "metadata": {},
   "source": [
    "### Fetch Data from FBRef API"
   ]
  },
  {
   "cell_type": "markdown",
   "metadata": {},
   "source": [
    "First get the API key"
   ]
  },
  {
   "cell_type": "code",
   "execution_count": 42,
   "metadata": {},
   "outputs": [],
   "source": [
    "from python.fbref import FBRAPIDataset\n",
    "import requests\n",
    "import time\n",
    "\n",
    "dataset = FBRAPIDataset()"
   ]
  },
  {
   "cell_type": "markdown",
   "metadata": {},
   "source": [
    "Get the country codes and league ids"
   ]
  },
  {
   "cell_type": "code",
   "execution_count": 43,
   "metadata": {},
   "outputs": [
    {
     "name": "stdout",
     "output_type": "stream",
     "text": [
      "Country IDs: ['ENG'] league ids [9] season ids ['2023-2024']\n"
     ]
    }
   ],
   "source": [
    "#target_countries = ['England', 'Spain', 'Italy', 'France', 'Germany']\n",
    "#target_leagues = ['Premier League', 'La Liga', 'Serie A', 'Ligue 1', 'Bundesliga']\n",
    "target_countries = ['England']\n",
    "target_leagues = ['Premier League']\n",
    "\n",
    "country_ids = dataset.get_country_ids(target_countries)\n",
    "league_ids = dataset.get_league_ids(target_leagues, country_ids)\n",
    "#season_ids = dataset.get_season_ids(league_ids) POSSIBLY USE THIS LATER, BUT FOR NOW WE ARE JUST USING 2018-2019 UNTIL 2023-2024\n",
    "season_ids = ['2023-2024']\n",
    "\n",
    "print(\"Country IDs:\", country_ids, \"league ids\", league_ids, \"season ids\", season_ids)"
   ]
  },
  {
   "cell_type": "markdown",
   "metadata": {},
   "source": [
    "Fetch data for each league and season"
   ]
  },
  {
   "cell_type": "code",
   "execution_count": 44,
   "metadata": {},
   "outputs": [
    {
     "name": "stdout",
     "output_type": "stream",
     "text": [
      "Raw data saved to ./data\\test_raw_team_stats.json\n"
     ]
    }
   ],
   "source": [
    "# Loop over each combination of league and season\n",
    "import json\n",
    "import os\n",
    "\n",
    "stats = []\n",
    "for league_id in league_ids:\n",
    "    for season_id in season_ids:\n",
    "        stats.extend(dataset.fetch_team_stats(league_id, season_id))\n",
    "\n",
    "# Save raw data to a JSON file for future use in the ./data directory\n",
    "output_path = os.path.join('./data', \"test_raw_team_stats.json\")\n",
    "with open(output_path, \"w\") as f:\n",
    "    json.dump(stats, f, indent=2)\n",
    "\n",
    "print(f\"Raw data saved to {output_path}\")"
   ]
  },
  {
   "cell_type": "markdown",
   "metadata": {},
   "source": [
    "Flatten dictionary and save to csv file"
   ]
  },
  {
   "cell_type": "code",
   "execution_count": 45,
   "metadata": {},
   "outputs": [
    {
     "name": "stdout",
     "output_type": "stream",
     "text": [
      "Structured data saved to test_team_stats.csv\n"
     ]
    }
   ],
   "source": [
    "import pandas as pd\n",
    "\n",
    "with open(\"./data/test_raw_team_stats.json\", \"r\") as f:\n",
    "    raw_data = json.load(f)\n",
    "\n",
    "# Use the static method to flatten each record\n",
    "flattened_data = [FBRAPIDataset.flatten_dict(record) for record in raw_data]\n",
    "\n",
    "# Optionally, convert the flattened data to a DataFrame for easier inspection\n",
    "df_flat = pd.DataFrame(flattened_data)\n",
    "df_flat.to_csv(\"./data/test_team_stats.csv\", index=False)\n",
    "print(\"Structured data saved to test_team_stats.csv\")"
   ]
  },
  {
   "cell_type": "markdown",
   "metadata": {},
   "source": [
    "### Attach ELO ratings to csv files as target column"
   ]
  },
  {
   "cell_type": "code",
   "execution_count": 46,
   "metadata": {},
   "outputs": [
    {
     "name": "stdout",
     "output_type": "stream",
     "text": [
      "ELO Ratings DataFrame:\n",
      "  meta_data_team_name  season_id          Elo\n",
      "0             Arsenal  2023-2024  1946.902832\n",
      "1         Aston Villa  2023-2024  1770.435059\n",
      "2         Bournemouth  2023-2024  1691.123657\n",
      "3           Brentford  2023-2024  1711.083984\n",
      "4            Brighton  2023-2024  1713.163208\n",
      "Merged Dataset with Elo column:\n",
      "  meta_data_team_id meta_data_team_name  stats_stats_roster_size  \\\n",
      "0          18bb7c10             Arsenal                       25   \n",
      "1          8602292d         Aston Villa                       31   \n",
      "2          4ba7cbea         Bournemouth                       30   \n",
      "3          cd051869           Brentford                       28   \n",
      "4          d07537b9            Brighton                       30   \n",
      "\n",
      "   stats_stats_matches_played  stats_stats_ttl_gls  stats_stats_ttl_ast  \\\n",
      "0                          38                   86                   62   \n",
      "1                          38                   72                   55   \n",
      "2                          38                   52                   39   \n",
      "3                          38                   54                   38   \n",
      "4                          38                   50                   36   \n",
      "\n",
      "   stats_stats_ttl_non_pen_gls  stats_stats_ttl_xg  \\\n",
      "0                           76                76.1   \n",
      "1                           68                63.3   \n",
      "2                           50                55.9   \n",
      "3                           51                58.2   \n",
      "4                           45                56.8   \n",
      "\n",
      "   stats_stats_ttl_non_pen_xg  stats_stats_ttl_xag  ...  \\\n",
      "0                        68.5                 55.3  ...   \n",
      "1                        60.3                 48.6  ...   \n",
      "2                        53.6                 40.5  ...   \n",
      "3                        56.0                 42.7  ...   \n",
      "4                        52.2                 41.6  ...   \n",
      "\n",
      "   stats_misc_ttl_offside  stats_misc_ttl_pk_won  stats_misc_ttl_pk_conceded  \\\n",
      "0                      87                      9                           3   \n",
      "1                      47                      4                           2   \n",
      "2                      56                      3                           7   \n",
      "3                      70                      3                           2   \n",
      "4                      84                      6                           6   \n",
      "\n",
      "   stats_misc_ttl_og  stats_misc_ttl_ball_recov  stats_misc_ttl_air_dual_won  \\\n",
      "0                  1                       1752                          503   \n",
      "1                  4                       1619                          334   \n",
      "2                  1                       2013                          582   \n",
      "3                  0                       1892                          632   \n",
      "4                  2                       1751                          406   \n",
      "\n",
      "   stats_misc_ttl_air_dual_lost  league_id  season_id          Elo  \n",
      "0                           499          9  2023-2024  1946.902832  \n",
      "1                           363          9  2023-2024  1770.435059  \n",
      "2                           671          9  2023-2024  1691.123657  \n",
      "3                           607          9  2023-2024  1711.083984  \n",
      "4                           345          9  2023-2024  1713.163208  \n",
      "\n",
      "[5 rows x 169 columns]\n"
     ]
    }
   ],
   "source": [
    "import importlib\n",
    "import python.elo\n",
    "\n",
    "# Reload the module\n",
    "importlib.reload(python.elo)\n",
    "\n",
    "# Use the class directly from the module\n",
    "elo_dataset = python.elo.ELODataset(['2022-2023', '2023-2024'])\n",
    "\n",
    "# Load your team season stats CSV file\n",
    "team_stats = pd.read_csv(\"data/test_team_stats.csv\")\n",
    "\n",
    "# Retrieve Elo ratings based on the team_stats data.\n",
    "ratings_df = elo_dataset.get_ratings(team_stats)\n",
    "print(\"ELO Ratings DataFrame:\")\n",
    "print(ratings_df.head())\n",
    "\n",
    "# Merge the Elo ratings into the team_stats DataFrame.\n",
    "merged_team_stats = elo_dataset.merge_ratings(team_stats)\n",
    "print(\"Merged Dataset with Elo column:\")\n",
    "print(merged_team_stats.head())\n",
    "\n",
    "# Save the merged dataset to a CSV file.\n",
    "merged_team_stats.to_csv(\"data/test_team_stats_with_elo.csv\", index=False)\n"
   ]
  },
  {
   "cell_type": "markdown",
   "metadata": {},
   "source": [
    "### Normalize Data"
   ]
  },
  {
   "cell_type": "code",
   "execution_count": 47,
   "metadata": {},
   "outputs": [
    {
     "name": "stdout",
     "output_type": "stream",
     "text": [
      "  meta_data_team_id meta_data_team_name  league_id  season_id  \\\n",
      "0          18bb7c10             Arsenal          9  2023-2024   \n",
      "1          8602292d         Aston Villa          9  2023-2024   \n",
      "2          4ba7cbea         Bournemouth          9  2023-2024   \n",
      "3          cd051869           Brentford          9  2023-2024   \n",
      "4          d07537b9            Brighton          9  2023-2024   \n",
      "\n",
      "   stats_stats_roster_size  stats_stats_matches_played  stats_stats_ttl_gls  \\\n",
      "0                -1.388420                         0.0             1.568577   \n",
      "1                 0.694210                         0.0             0.728804   \n",
      "2                 0.347105                         0.0            -0.470873   \n",
      "3                -0.347105                         0.0            -0.350905   \n",
      "4                 0.347105                         0.0            -0.590841   \n",
      "\n",
      "   stats_stats_ttl_ast  stats_stats_ttl_non_pen_gls  stats_stats_ttl_xg  ...  \\\n",
      "0             1.404585                     1.403081            1.256713  ...   \n",
      "1             0.888465                     0.867298            0.323113  ...   \n",
      "2            -0.291239                    -0.338213           -0.216624  ...   \n",
      "3            -0.364971                    -0.271240           -0.048868  ...   \n",
      "4            -0.512434                    -0.673077           -0.150981  ...   \n",
      "\n",
      "   stats_misc_ttl_fls_ag  stats_misc_ttl_fls_for  stats_misc_ttl_offside  \\\n",
      "0              -0.657521               -0.235633                0.954129   \n",
      "1              -0.186260                1.376059               -1.668906   \n",
      "2               1.945634               -0.602854               -1.078723   \n",
      "3              -0.792167                0.274396               -0.160661   \n",
      "4              -0.141378                0.988436                0.757401   \n",
      "\n",
      "   stats_misc_ttl_pk_won  stats_misc_ttl_pk_conceded  stats_misc_ttl_og  \\\n",
      "0               1.528904                   -0.965233          -0.908471   \n",
      "1              -0.248891                   -1.375970           0.971124   \n",
      "2              -0.604450                    0.677717          -0.908471   \n",
      "3              -0.604450                   -1.375970          -1.535002   \n",
      "4               0.462227                    0.266979          -0.281939   \n",
      "\n",
      "   stats_misc_ttl_ball_recov  stats_misc_ttl_air_dual_won  \\\n",
      "0                  -0.769973                    -0.045292   \n",
      "1                  -2.009760                    -1.709276   \n",
      "2                   1.662993                     0.732547   \n",
      "3                   0.535066                     1.224850   \n",
      "4                  -0.779295                    -1.000360   \n",
      "\n",
      "   stats_misc_ttl_air_dual_lost          Elo  \n",
      "0                     -0.073663  1946.902832  \n",
      "1                     -1.238559  1770.435059  \n",
      "2                      1.399588  1691.123657  \n",
      "3                      0.851402  1711.083984  \n",
      "4                     -1.392736  1713.163208  \n",
      "\n",
      "[5 rows x 169 columns]\n"
     ]
    }
   ],
   "source": [
    "import importlib\n",
    "import python.dataset\n",
    "\n",
    "# Force reload the module to get the latest changes\n",
    "importlib.reload(python.dataset)\n",
    "\n",
    "# Now import the function\n",
    "from python.dataset import load_and_normalize_data\n",
    "\n",
    "# Load and normalize the data\n",
    "normalized_data = load_and_normalize_data(\n",
    "    csv_path=\"data/test_team_stats_with_elo.csv\", \n",
    "    output_path=\"data/test_team_stats_with_elo_normalized.csv\"\n",
    ")\n",
    "\n",
    "# Display the first few rows to verify\n",
    "print(normalized_data.head())\n"
   ]
  },
  {
   "cell_type": "markdown",
   "metadata": {},
   "source": [
    "Split Data"
   ]
  },
  {
   "cell_type": "code",
   "execution_count": 48,
   "metadata": {},
   "outputs": [
    {
     "name": "stdout",
     "output_type": "stream",
     "text": [
      "Full dataset shape: (20, 169)\n",
      "Columns in data:\n",
      "['meta_data_team_id', 'meta_data_team_name', 'league_id', 'season_id', 'stats_stats_roster_size', 'stats_stats_matches_played', 'stats_stats_ttl_gls', 'stats_stats_ttl_ast', 'stats_stats_ttl_non_pen_gls', 'stats_stats_ttl_xg', 'stats_stats_ttl_non_pen_xg', 'stats_stats_ttl_xag', 'stats_stats_ttl_pk_made', 'stats_stats_ttl_pk_att', 'stats_stats_ttl_yellow_cards', 'stats_stats_ttl_red_cards', 'stats_stats_ttl_carries_prog', 'stats_stats_ttl_passes_prog', 'stats_stats_avg_gls', 'stats_stats_avg_ast', 'stats_stats_avg_non_pen_gls', 'stats_stats_avg_xg', 'stats_stats_avg_xag', 'stats_stats_avg_non_pen_xg', 'stats_keepers_ttl_gls_ag', 'stats_keepers_avg_gls_ag', 'stats_keepers_sot_ag', 'stats_keepers_ttl_saves', 'stats_keepers_save_pct', 'stats_keepers_clean_sheets', 'stats_keepers_clean_sheet_pct', 'stats_keepers_pk_att_ag', 'stats_keepers_pk_made_ag', 'stats_keepers_pk_saved', 'stats_keepers_pk_miss_ag', 'stats_keepers_pk_save_pct', 'stats_keepersadv_ttl_pk_att_ag', 'stats_keepersadv_ttl_fk_gls_ag', 'stats_keepersadv_ttl_ck_gls_ag', 'stats_keepersadv_ttl_og_ag', 'stats_keepersadv_ttl_psxg', 'stats_keepersadv_psxg_per_sot', 'stats_keepersadv_ttl_launched_pass_cmp', 'stats_keepersadv_ttl_launched_pass_att', 'stats_keepersadv_pct_launched_pass_cmp', 'stats_keepersadv_ttl_pass_att', 'stats_keepersadv_ttl_throws_att', 'stats_keepersadv_pct_passes_launched', 'stats_keepersadv_avg_pass_len', 'stats_keepersadv_ttl_gk_att', 'stats_keepersadv_pct_gk_launch', 'stats_keepersadv_avg_gk_len', 'stats_keepersadv_ttl_crosses_faced', 'stats_keepersadv_ttl_crosses_stopped', 'stats_keepersadv_pct_crosses_stopped', 'stats_keepersadv_ttl_def_action_outside_box', 'stats_keepersadv_avg_def_action_outside_box', 'stats_keepersadv_avg_dist_def_action_outside_box', 'stats_shooting_ttl_sh', 'stats_shooting_ttl_sot', 'stats_shooting_pct_sot', 'stats_shooting_avg_sh', 'stats_shooting_avg_sot', 'stats_shooting_gls_per_sh', 'stats_shooting_gls_per_sot', 'stats_shooting_avg_sh_dist', 'stats_shooting_ttl_fk_sh', 'stats_shooting_npxg_per_sh', 'stats_shooting_ttl_gls_xg_diff', 'stats_shooting_ttl_non_pen_gls_xg_diff', 'stats_passing_ttl_pass_cmp', 'stats_passing_pct_pass_cmp', 'stats_passing_pass_ttl_dist', 'stats_passing_ttl_pass_cmp_s', 'stats_passing_ttl_pass_att_s', 'stats_passing_pct_pass_cmp_s', 'stats_passing_ttl_pass_cmp_m', 'stats_passing_ttl_pass_att_m', 'stats_passing_pct_pass_cmp_m', 'stats_passing_ttl_pass_cmp_l', 'stats_passing_ttl_pass_att_l', 'stats_passing_pct_pass_cmp_l', 'stats_passing_ttl_xa', 'stats_passing_ttl_ast_xag_diff', 'stats_passing_ttl_pass_prog', 'stats_passing_pass_prog_ttl_dist', 'stats_passing_ttl_key_passes', 'stats_passing_ttl_pass_fthird', 'stats_passing_ttl_pass_opp_box', 'stats_passing_ttl_cross_opp_box', 'stats_passing_types_ttl_pass_live', 'stats_passing_types_ttl_pass_dead', 'stats_passing_types_ttl_pass_fk', 'stats_passing_types_ttl_through_balls', 'stats_passing_types_ttl_switches', 'stats_passing_types_ttl_crosses', 'stats_passing_types_ttl_pass_offside', 'stats_passing_types_ttl_pass_blocked', 'stats_passing_types_ttl_throw_ins', 'stats_passing_types_ttl_ck', 'stats_passing_types_ck_in_swinger', 'stats_passing_types_ck_out_swinger', 'stats_passing_types_ck_straight', 'stats_gca_ttl_sca', 'stats_gca_avg_sca', 'stats_gca_ttl_pass_live_sca', 'stats_gca_ttl_take_on_sca', 'stats_gca_ttl_sh_sca', 'stats_gca_ttl_fld_sca', 'stats_gca_ttl_def_sca', 'stats_gca_ttl_gca', 'stats_gca_avg_gca', 'stats_gca_ttl_pass_live_gca', 'stats_gca_ttl_pass_dead_gca', 'stats_gca_ttl_take_on_gca', 'stats_gca_ttl_sh_gca', 'stats_gca_ttl_fld_gca', 'stats_gca_ttl_def_gca', 'stats_defense_ttl_tkl', 'stats_defense_ttl_tkl_won', 'stats_defense_ttl_tkl_def_third', 'stats_defense_ttl_tkl_mid_third', 'stats_defense_ttl_tkl_att_third', 'stats_defense_ttl_tkl_drb', 'stats_defense_ttl_tkl_drb_att', 'stats_defense_pct_tkl_drb_suc', 'stats_defense_ttl_blocks', 'stats_defense_ttl_sh_blocked', 'stats_defense_ttl_int', 'stats_defense_ttl_tkl_plus_int', 'stats_defense_ttl_clearances', 'stats_defense_ttl_def_error', 'stats_possession_avg_poss', 'stats_possession_ttl_touches', 'stats_possession_ttl_touch_def_box', 'stats_possession_ttl_touch_def_third', 'stats_possession_ttl_touch_mid_third', 'stats_possession_ttl_touch_fthird', 'stats_possession_ttl_touch_opp_box', 'stats_possession_ttl_touch_live', 'stats_possession_ttl_take_on_att', 'stats_possession_ttl_take_on_suc', 'stats_possession_pct_take_on_suc', 'stats_possession_ttl_take_on_tkld', 'stats_possession_pct_take_on_tkld', 'stats_possession_ttl_carries', 'stats_possession_ttl_carries_dist', 'stats_possession_ttl_carries_prog_dist', 'stats_possession_ttl_carries_fthird', 'stats_possession_ttl_carries_opp_box', 'stats_possession_ttl_carries_miscontrolled', 'stats_possession_ttl_carries_dispossessed', 'stats_possession_ttl_pass_recvd', 'stats_possession_ttl_pass_prog_rcvd', 'stats_playingtime_avg_age', 'stats_playingtime_avg_min_starter', 'stats_playingtime_ttl_subs', 'stats_playingtime_avg_min_sub', 'stats_misc_ttl_second_yellow_cards', 'stats_misc_ttl_fls_ag', 'stats_misc_ttl_fls_for', 'stats_misc_ttl_offside', 'stats_misc_ttl_pk_won', 'stats_misc_ttl_pk_conceded', 'stats_misc_ttl_og', 'stats_misc_ttl_ball_recov', 'stats_misc_ttl_air_dual_won', 'stats_misc_ttl_air_dual_lost', 'Elo']\n",
      "\n",
      "Numeric feature columns (excluding Elo):\n",
      "['league_id', 'stats_stats_roster_size', 'stats_stats_matches_played', 'stats_stats_ttl_gls', 'stats_stats_ttl_ast', 'stats_stats_ttl_non_pen_gls', 'stats_stats_ttl_xg', 'stats_stats_ttl_non_pen_xg', 'stats_stats_ttl_xag', 'stats_stats_ttl_pk_made', 'stats_stats_ttl_pk_att', 'stats_stats_ttl_yellow_cards', 'stats_stats_ttl_red_cards', 'stats_stats_ttl_carries_prog', 'stats_stats_ttl_passes_prog', 'stats_stats_avg_gls', 'stats_stats_avg_ast', 'stats_stats_avg_non_pen_gls', 'stats_stats_avg_xg', 'stats_stats_avg_xag', 'stats_stats_avg_non_pen_xg', 'stats_keepers_ttl_gls_ag', 'stats_keepers_avg_gls_ag', 'stats_keepers_sot_ag', 'stats_keepers_ttl_saves', 'stats_keepers_save_pct', 'stats_keepers_clean_sheets', 'stats_keepers_clean_sheet_pct', 'stats_keepers_pk_att_ag', 'stats_keepers_pk_made_ag', 'stats_keepers_pk_saved', 'stats_keepers_pk_miss_ag', 'stats_keepers_pk_save_pct', 'stats_keepersadv_ttl_pk_att_ag', 'stats_keepersadv_ttl_fk_gls_ag', 'stats_keepersadv_ttl_ck_gls_ag', 'stats_keepersadv_ttl_og_ag', 'stats_keepersadv_ttl_psxg', 'stats_keepersadv_psxg_per_sot', 'stats_keepersadv_ttl_launched_pass_cmp', 'stats_keepersadv_ttl_launched_pass_att', 'stats_keepersadv_pct_launched_pass_cmp', 'stats_keepersadv_ttl_pass_att', 'stats_keepersadv_ttl_throws_att', 'stats_keepersadv_pct_passes_launched', 'stats_keepersadv_avg_pass_len', 'stats_keepersadv_ttl_gk_att', 'stats_keepersadv_pct_gk_launch', 'stats_keepersadv_avg_gk_len', 'stats_keepersadv_ttl_crosses_faced', 'stats_keepersadv_ttl_crosses_stopped', 'stats_keepersadv_pct_crosses_stopped', 'stats_keepersadv_ttl_def_action_outside_box', 'stats_keepersadv_avg_def_action_outside_box', 'stats_keepersadv_avg_dist_def_action_outside_box', 'stats_shooting_ttl_sh', 'stats_shooting_ttl_sot', 'stats_shooting_pct_sot', 'stats_shooting_avg_sh', 'stats_shooting_avg_sot', 'stats_shooting_gls_per_sh', 'stats_shooting_gls_per_sot', 'stats_shooting_avg_sh_dist', 'stats_shooting_ttl_fk_sh', 'stats_shooting_npxg_per_sh', 'stats_shooting_ttl_gls_xg_diff', 'stats_shooting_ttl_non_pen_gls_xg_diff', 'stats_passing_ttl_pass_cmp', 'stats_passing_pct_pass_cmp', 'stats_passing_pass_ttl_dist', 'stats_passing_ttl_pass_cmp_s', 'stats_passing_ttl_pass_att_s', 'stats_passing_pct_pass_cmp_s', 'stats_passing_ttl_pass_cmp_m', 'stats_passing_ttl_pass_att_m', 'stats_passing_pct_pass_cmp_m', 'stats_passing_ttl_pass_cmp_l', 'stats_passing_ttl_pass_att_l', 'stats_passing_pct_pass_cmp_l', 'stats_passing_ttl_xa', 'stats_passing_ttl_ast_xag_diff', 'stats_passing_ttl_pass_prog', 'stats_passing_pass_prog_ttl_dist', 'stats_passing_ttl_key_passes', 'stats_passing_ttl_pass_fthird', 'stats_passing_ttl_pass_opp_box', 'stats_passing_ttl_cross_opp_box', 'stats_passing_types_ttl_pass_live', 'stats_passing_types_ttl_pass_dead', 'stats_passing_types_ttl_pass_fk', 'stats_passing_types_ttl_through_balls', 'stats_passing_types_ttl_switches', 'stats_passing_types_ttl_crosses', 'stats_passing_types_ttl_pass_offside', 'stats_passing_types_ttl_pass_blocked', 'stats_passing_types_ttl_throw_ins', 'stats_passing_types_ttl_ck', 'stats_passing_types_ck_in_swinger', 'stats_passing_types_ck_out_swinger', 'stats_passing_types_ck_straight', 'stats_gca_ttl_sca', 'stats_gca_avg_sca', 'stats_gca_ttl_pass_live_sca', 'stats_gca_ttl_take_on_sca', 'stats_gca_ttl_sh_sca', 'stats_gca_ttl_fld_sca', 'stats_gca_ttl_def_sca', 'stats_gca_ttl_gca', 'stats_gca_avg_gca', 'stats_gca_ttl_pass_live_gca', 'stats_gca_ttl_pass_dead_gca', 'stats_gca_ttl_take_on_gca', 'stats_gca_ttl_sh_gca', 'stats_gca_ttl_fld_gca', 'stats_gca_ttl_def_gca', 'stats_defense_ttl_tkl', 'stats_defense_ttl_tkl_won', 'stats_defense_ttl_tkl_def_third', 'stats_defense_ttl_tkl_mid_third', 'stats_defense_ttl_tkl_att_third', 'stats_defense_ttl_tkl_drb', 'stats_defense_ttl_tkl_drb_att', 'stats_defense_pct_tkl_drb_suc', 'stats_defense_ttl_blocks', 'stats_defense_ttl_sh_blocked', 'stats_defense_ttl_int', 'stats_defense_ttl_tkl_plus_int', 'stats_defense_ttl_clearances', 'stats_defense_ttl_def_error', 'stats_possession_avg_poss', 'stats_possession_ttl_touches', 'stats_possession_ttl_touch_def_box', 'stats_possession_ttl_touch_def_third', 'stats_possession_ttl_touch_mid_third', 'stats_possession_ttl_touch_fthird', 'stats_possession_ttl_touch_opp_box', 'stats_possession_ttl_touch_live', 'stats_possession_ttl_take_on_att', 'stats_possession_ttl_take_on_suc', 'stats_possession_pct_take_on_suc', 'stats_possession_ttl_take_on_tkld', 'stats_possession_pct_take_on_tkld', 'stats_possession_ttl_carries', 'stats_possession_ttl_carries_dist', 'stats_possession_ttl_carries_prog_dist', 'stats_possession_ttl_carries_fthird', 'stats_possession_ttl_carries_opp_box', 'stats_possession_ttl_carries_miscontrolled', 'stats_possession_ttl_carries_dispossessed', 'stats_possession_ttl_pass_recvd', 'stats_possession_ttl_pass_prog_rcvd', 'stats_playingtime_avg_age', 'stats_playingtime_avg_min_starter', 'stats_playingtime_ttl_subs', 'stats_playingtime_avg_min_sub', 'stats_misc_ttl_second_yellow_cards', 'stats_misc_ttl_fls_ag', 'stats_misc_ttl_fls_for', 'stats_misc_ttl_offside', 'stats_misc_ttl_pk_won', 'stats_misc_ttl_pk_conceded', 'stats_misc_ttl_og', 'stats_misc_ttl_ball_recov', 'stats_misc_ttl_air_dual_won', 'stats_misc_ttl_air_dual_lost']\n",
      "\n",
      "Dataset split sizes:\n",
      "Training set shape: (14, 169)\n",
      "Validation set shape: (3, 169)\n",
      "Test set shape: (3, 169)\n",
      "\n",
      "Feature and target shapes:\n",
      "X_train: (14, 165) y_train: (14,)\n",
      "X_val: (3, 165) y_val: (3,)\n",
      "X_test: (3, 165) y_test: (3,)\n",
      "\n",
      "First few rows of X_train:\n",
      "    league_id  stats_stats_roster_size  stats_stats_matches_played  \\\n",
      "11          9                -0.347105                         0.0   \n",
      "3           9                -0.347105                         0.0   \n",
      "18          9                -1.041315                         0.0   \n",
      "16          9                 2.082630                         0.0   \n",
      "13          9                 0.694210                         0.0   \n",
      "\n",
      "    stats_stats_ttl_gls  stats_stats_ttl_ast  stats_stats_ttl_non_pen_gls  \\\n",
      "11            -0.650825            -0.733628                    -0.740050   \n",
      "3             -0.350905            -0.364971                    -0.271240   \n",
      "18            -0.110970            -0.217508                    -0.070321   \n",
      "16            -1.730534            -1.839601                    -1.945561   \n",
      "13            -0.170954            -0.512434                    -0.271240   \n",
      "\n",
      "    stats_stats_ttl_xg  stats_stats_ttl_non_pen_xg  stats_stats_ttl_xag  \\\n",
      "11           -1.201281                   -1.327338            -1.267048   \n",
      "3            -0.048868                    0.105397            -0.012827   \n",
      "18           -0.479200                   -0.520395            -0.763460   \n",
      "16           -1.500325                   -1.664936            -1.618610   \n",
      "13           -0.172862                   -0.306309            -0.259871   \n",
      "\n",
      "    stats_stats_ttl_pk_made  ...  stats_misc_ttl_second_yellow_cards  \\\n",
      "11                 0.072739  ...                           -1.353604   \n",
      "3                 -0.654654  ...                           -1.353604   \n",
      "18                -0.290957  ...                            1.446956   \n",
      "16                 0.072739  ...                            1.446956   \n",
      "13                 0.436436  ...                           -0.420084   \n",
      "\n",
      "    stats_misc_ttl_fls_ag  stats_misc_ttl_fls_for  stats_misc_ttl_offside  \\\n",
      "11               0.509411                0.866029               -0.357389   \n",
      "3               -0.792167                0.274396               -0.160661   \n",
      "18              -0.679962               -0.276436               -0.095085   \n",
      "16               0.060591               -1.786122               -0.554116   \n",
      "13              -0.433111               -1.337296                1.216433   \n",
      "\n",
      "    stats_misc_ttl_pk_won  stats_misc_ttl_pk_conceded  stats_misc_ttl_og  \\\n",
      "11              -0.960009                   -0.554495           0.971124   \n",
      "3               -0.604450                   -1.375970          -1.535002   \n",
      "18              -0.248891                    1.909929           0.971124   \n",
      "16              -0.604450                    0.677717           2.850718   \n",
      "13               0.462227                    0.677717          -0.908471   \n",
      "\n",
      "    stats_misc_ttl_ball_recov  stats_misc_ttl_air_dual_won  \\\n",
      "11                   0.311345                     1.254388   \n",
      "3                    0.535066                     1.224850   \n",
      "18                  -0.164062                     0.673470   \n",
      "16                  -1.841970                     0.771931   \n",
      "13                   0.152876                    -0.704978   \n",
      "\n",
      "    stats_misc_ttl_air_dual_lost  \n",
      "11                      1.056972  \n",
      "3                       0.851402  \n",
      "18                      0.534482  \n",
      "16                      1.596593  \n",
      "13                     -0.493368  \n",
      "\n",
      "[5 rows x 165 columns]\n",
      "\n",
      "First few rows of y_train:\n",
      "11    1563.972656\n",
      "3     1711.083984\n",
      "18    1726.242920\n",
      "16    1517.169189\n",
      "13    1779.043945\n",
      "Name: Elo, dtype: float64\n",
      "\n",
      "First few rows of X_val:\n",
      "    league_id  stats_stats_roster_size  stats_stats_matches_played  \\\n",
      "15          9                 1.388420                         0.0   \n",
      "8           9                -1.041315                         0.0   \n",
      "1           9                 0.694210                         0.0   \n",
      "\n",
      "    stats_stats_ttl_gls  stats_stats_ttl_ast  stats_stats_ttl_non_pen_gls  \\\n",
      "15            -0.650825             0.003687                    -0.472159   \n",
      "8             -1.190679            -1.913332                    -1.141887   \n",
      "1              0.728804             0.888465                     0.867298   \n",
      "\n",
      "    stats_stats_ttl_xg  stats_stats_ttl_non_pen_xg  stats_stats_ttl_xag  \\\n",
      "15           -0.654250                   -0.462757            -0.468908   \n",
      "8            -0.355206                   -0.256904            -0.449904   \n",
      "1             0.323113                    0.459463             0.547772   \n",
      "\n",
      "    stats_stats_ttl_pk_made  ...  stats_misc_ttl_second_yellow_cards  \\\n",
      "15                -1.382047  ...                            0.513436   \n",
      "8                 -1.018350  ...                           -0.420084   \n",
      "1                 -0.290957  ...                           -1.353604   \n",
      "\n",
      "    stats_misc_ttl_fls_ag  stats_misc_ttl_fls_for  stats_misc_ttl_offside  \\\n",
      "15               0.172796               -0.704860                0.298370   \n",
      "8                0.823584               -0.908872                1.085281   \n",
      "1               -0.186260                1.376059               -1.668906   \n",
      "\n",
      "    stats_misc_ttl_pk_won  stats_misc_ttl_pk_conceded  stats_misc_ttl_og  \\\n",
      "15              -1.315569                   -0.554495          -0.281939   \n",
      "8               -0.960009                    1.088454           0.344592   \n",
      "1               -0.248891                   -1.375970           0.971124   \n",
      "\n",
      "    stats_misc_ttl_ball_recov  stats_misc_ttl_air_dual_won  \\\n",
      "15                  -0.257279                     0.752239   \n",
      "8                    1.262159                     1.658076   \n",
      "1                   -2.009760                    -1.709276   \n",
      "\n",
      "    stats_misc_ttl_air_dual_lost  \n",
      "15                      0.423131  \n",
      "8                       0.594440  \n",
      "1                      -1.238559  \n",
      "\n",
      "[3 rows x 165 columns]\n",
      "\n",
      "First few rows of y_val:\n",
      "15    1647.714966\n",
      "8     1706.850830\n",
      "1     1770.435059\n",
      "Name: Elo, dtype: float64\n",
      "\n",
      "First few rows of X_test:\n",
      "    league_id  stats_stats_roster_size  stats_stats_matches_played  \\\n",
      "0           9                 -1.38842                         0.0   \n",
      "17          9                  0.00000                         0.0   \n",
      "5           9                  0.69421                         0.0   \n",
      "\n",
      "    stats_stats_ttl_gls  stats_stats_ttl_ast  stats_stats_ttl_non_pen_gls  \\\n",
      "0              1.568577             1.404585                     1.403081   \n",
      "17             0.548852             1.109659                     0.800325   \n",
      "5             -1.190679            -0.954823                    -1.208860   \n",
      "\n",
      "    stats_stats_ttl_xg  stats_stats_ttl_non_pen_xg  stats_stats_ttl_xag  \\\n",
      "0             1.256713                    1.134660             1.184384   \n",
      "17            0.680507                    0.986446             1.383919   \n",
      "5            -1.332568                   -1.352040            -1.248045   \n",
      "\n",
      "    stats_stats_ttl_pk_made  ...  stats_misc_ttl_second_yellow_cards  \\\n",
      "0                  1.891222  ...                           -0.420084   \n",
      "17                -1.018350  ...                            0.513436   \n",
      "5                 -0.654654  ...                            1.446956   \n",
      "\n",
      "    stats_misc_ttl_fls_ag  stats_misc_ttl_fls_for  stats_misc_ttl_offside  \\\n",
      "0               -0.657521               -0.235633                0.954129   \n",
      "17               0.105473                2.130902                0.691826   \n",
      "5                0.195237               -1.072081                0.232794   \n",
      "\n",
      "    stats_misc_ttl_pk_won  stats_misc_ttl_pk_conceded  stats_misc_ttl_og  \\\n",
      "0                1.528904                   -0.965233          -0.908471   \n",
      "17              -0.960009                    0.677717           0.344592   \n",
      "5               -0.604450                    0.677717           0.344592   \n",
      "\n",
      "    stats_misc_ttl_ball_recov  stats_misc_ttl_air_dual_won  \\\n",
      "0                   -0.769973                    -0.045292   \n",
      "17                   0.674892                    -1.463124   \n",
      "5                   -1.003016                     0.525780   \n",
      "\n",
      "    stats_misc_ttl_air_dual_lost  \n",
      "0                      -0.073663  \n",
      "17                     -1.024423  \n",
      "5                       1.613724  \n",
      "\n",
      "[3 rows x 165 columns]\n",
      "\n",
      "First few rows of y_test:\n",
      "0     1946.902832\n",
      "17    1790.556641\n",
      "5     1611.263794\n",
      "Name: Elo, dtype: float64\n"
     ]
    }
   ],
   "source": [
    "import pandas as pd\n",
    "import numpy as np\n",
    "from sklearn.model_selection import train_test_split\n",
    "\n",
    "\n",
    "# Quick info about the data\n",
    "print(\"Full dataset shape:\", data.shape)\n",
    "print(\"Columns in data:\")\n",
    "print(normalized_data.columns.tolist())\n",
    "\n",
    "# Identify all numeric columns and then select those for features (excluding the Elo target)\n",
    "numeric_cols = normalized_data.select_dtypes(exclude=['object']).columns.tolist()\n",
    "features = [col for col in numeric_cols if col != \"Elo\"]\n",
    "print(\"\\nNumeric feature columns (excluding Elo):\")\n",
    "print(features)\n",
    "\n",
    "# Split data into 70% train and 30% temporary set (for validation and test)\n",
    "train_data, temp_data = train_test_split(normalized_data, test_size=0.30, random_state=42, shuffle=True)\n",
    "\n",
    "# Further split the temporary set equally into 15% validation and 15% test sets\n",
    "val_data, test_data = train_test_split(temp_data, test_size=0.5, random_state=42, shuffle=True)\n",
    "\n",
    "print(\"\\nDataset split sizes:\")\n",
    "print(\"Training set shape:\", train_data.shape)\n",
    "print(\"Validation set shape:\", val_data.shape)\n",
    "print(\"Test set shape:\", test_data.shape)\n",
    "\n",
    "# Split each dataset into X (features) and y (target: Elo)\n",
    "x_train = train_data[features]\n",
    "y_train = train_data[\"Elo\"]\n",
    "\n",
    "x_val = val_data[features]\n",
    "y_val = val_data[\"Elo\"]\n",
    "\n",
    "x_test = test_data[features]\n",
    "y_test = test_data[\"Elo\"]\n",
    "\n",
    "# Print the shapes of the resulting splits to verify\n",
    "print(\"\\nFeature and target shapes:\")\n",
    "print(\"X_train:\", x_train.shape, \"y_train:\", y_train.shape)\n",
    "print(\"X_val:\", x_val.shape, \"y_val:\", y_val.shape)\n",
    "print(\"X_test:\", x_test.shape, \"y_test:\", y_test.shape)\n",
    "\n",
    "# Display the first few rows from each split for inspection\n",
    "print(\"\\nFirst few rows of X_train:\")\n",
    "print(x_train.head())\n",
    "print(\"\\nFirst few rows of y_train:\")\n",
    "print(y_train.head())\n",
    "\n",
    "print(\"\\nFirst few rows of X_val:\")\n",
    "print(x_val.head())\n",
    "print(\"\\nFirst few rows of y_val:\")\n",
    "print(y_val.head())\n",
    "\n",
    "print(\"\\nFirst few rows of X_test:\")\n",
    "print(x_test.head())\n",
    "print(\"\\nFirst few rows of y_test:\")\n",
    "print(y_test.head())\n"
   ]
  },
  {
   "cell_type": "code",
   "execution_count": 49,
   "metadata": {},
   "outputs": [],
   "source": [
    "import torch\n",
    "from torch.utils.data import TensorDataset\n",
    "import pandas as pd\n",
    "\n",
    "# Example: Assuming x_train, y_train, x_val, y_val, x_test, y_test are already loaded\n",
    "\n",
    "# Convert training data\n",
    "X_train_tensor = torch.tensor(x_train.values, dtype=torch.float32)\n",
    "y_train_tensor = torch.tensor(y_train.values, dtype=torch.float32).view(-1, 1)\n",
    "\n",
    "# Convert validation data\n",
    "X_val_tensor = torch.tensor(x_val.values, dtype=torch.float32)\n",
    "y_val_tensor = torch.tensor(y_val.values, dtype=torch.float32).view(-1, 1)\n",
    "\n",
    "# Convert test data\n",
    "X_test_tensor = torch.tensor(x_test.values, dtype=torch.float32)\n",
    "y_test_tensor = torch.tensor(y_test.values, dtype=torch.float32).view(-1, 1)\n",
    "\n",
    "# Create TensorDatasets for each split\n",
    "train_dataset = TensorDataset(X_train_tensor, y_train_tensor)\n",
    "val_dataset = TensorDataset(X_val_tensor, y_val_tensor)\n",
    "test_dataset = TensorDataset(X_test_tensor, y_test_tensor)\n"
   ]
  },
  {
   "cell_type": "markdown",
   "metadata": {},
   "source": [
    "### Model Training and Evaluation"
   ]
  },
  {
   "cell_type": "code",
   "execution_count": 50,
   "metadata": {},
   "outputs": [
    {
     "name": "stderr",
     "output_type": "stream",
     "text": [
      "Training epochs:   0%|          | 0/1000 [00:00<?, ?it/s]"
     ]
    },
    {
     "name": "stdout",
     "output_type": "stream",
     "text": [
      "Epoch [1]: New best model saved with Validation Loss: 2920707.2500"
     ]
    },
    {
     "name": "stderr",
     "output_type": "stream",
     "text": [
      "Training epochs:   0%|          | 4/1000 [00:00<00:51, 19.32it/s]"
     ]
    },
    {
     "name": "stdout",
     "output_type": "stream",
     "text": [
      "\n",
      "Epoch [2]: New best model saved with Validation Loss: 2920546.2500\n",
      "Epoch [3]: New best model saved with Validation Loss: 2920391.7500\n",
      "Epoch [4]: New best model saved with Validation Loss: 2920246.2500\n"
     ]
    },
    {
     "name": "stderr",
     "output_type": "stream",
     "text": [
      "Training epochs:   3%|▎         | 30/1000 [00:00<00:10, 92.05it/s]"
     ]
    },
    {
     "name": "stdout",
     "output_type": "stream",
     "text": [
      "Epoch [5]: New best model saved with Validation Loss: 2920106.2500\n",
      "Epoch [6]: New best model saved with Validation Loss: 2919958.7500\n",
      "Epoch [7]: New best model saved with Validation Loss: 2919806.0000\n",
      "Epoch [8]: New best model saved with Validation Loss: 2919644.0000\n",
      "Epoch [9]: New best model saved with Validation Loss: 2919460.2500\n",
      "Epoch [10/1000], Training Loss: 3056286.5000, Validation Loss: 2919263.2500\n",
      "Epoch [10]: New best model saved with Validation Loss: 2919263.2500\n",
      "Epoch [11]: New best model saved with Validation Loss: 2919054.0000\n",
      "Epoch [12]: New best model saved with Validation Loss: 2918822.7500\n",
      "Epoch [13]: New best model saved with Validation Loss: 2918571.0000\n",
      "Epoch [14]: New best model saved with Validation Loss: 2918305.2500\n",
      "Epoch [15]: New best model saved with Validation Loss: 2918024.2500\n",
      "Epoch [16]: New best model saved with Validation Loss: 2917725.7500\n",
      "Epoch [17]: New best model saved with Validation Loss: 2917404.7500\n",
      "Epoch [18]: New best model saved with Validation Loss: 2917062.7500\n",
      "Epoch [19]: New best model saved with Validation Loss: 2916679.2500\n",
      "Epoch [20/1000], Training Loss: 3053055.7500, Validation Loss: 2916262.0000\n",
      "Epoch [20]: New best model saved with Validation Loss: 2916262.0000\n",
      "Epoch [21]: New best model saved with Validation Loss: 2915817.7500\n",
      "Epoch [22]: New best model saved with Validation Loss: 2915337.2500\n",
      "Epoch [23]: New best model saved with Validation Loss: 2914816.0000\n",
      "Epoch [24]: New best model saved with Validation Loss: 2914245.0000\n",
      "Epoch [25]: New best model saved with Validation Loss: 2913624.7500\n",
      "Epoch [26]: New best model saved with Validation Loss: 2912950.0000\n",
      "Epoch [27]: New best model saved with Validation Loss: 2912221.2500\n",
      "Epoch [28]: New best model saved with Validation Loss: 2911440.0000\n",
      "Epoch [29]: New best model saved with Validation Loss: 2910602.7500\n",
      "Epoch [30/1000], Training Loss: 3046101.5000, Validation Loss: 2909702.7500\n",
      "Epoch [30]: New best model saved with Validation Loss: 2909702.7500\n"
     ]
    },
    {
     "name": "stderr",
     "output_type": "stream",
     "text": [
      "Training epochs:   6%|▌         | 60/1000 [00:00<00:07, 122.59it/s]"
     ]
    },
    {
     "name": "stdout",
     "output_type": "stream",
     "text": [
      "Epoch [31]: New best model saved with Validation Loss: 2908736.0000\n",
      "Epoch [32]: New best model saved with Validation Loss: 2907698.0000\n",
      "Epoch [33]: New best model saved with Validation Loss: 2906589.7500\n",
      "Epoch [34]: New best model saved with Validation Loss: 2905407.0000\n",
      "Epoch [35]: New best model saved with Validation Loss: 2904150.0000\n",
      "Epoch [36]: New best model saved with Validation Loss: 2902810.7500\n",
      "Epoch [37]: New best model saved with Validation Loss: 2901387.7500\n",
      "Epoch [38]: New best model saved with Validation Loss: 2899876.7500\n",
      "Epoch [39]: New best model saved with Validation Loss: 2898275.0000\n",
      "Epoch [40/1000], Training Loss: 3032014.2500, Validation Loss: 2896579.2500\n",
      "Epoch [40]: New best model saved with Validation Loss: 2896579.2500\n",
      "Epoch [41]: New best model saved with Validation Loss: 2894785.2500\n",
      "Epoch [42]: New best model saved with Validation Loss: 2892881.7500\n",
      "Epoch [43]: New best model saved with Validation Loss: 2890866.7500\n",
      "Epoch [44]: New best model saved with Validation Loss: 2888739.7500\n",
      "Epoch [45]: New best model saved with Validation Loss: 2886478.2500\n",
      "Epoch [46]: New best model saved with Validation Loss: 2884070.0000\n",
      "Epoch [47]: New best model saved with Validation Loss: 2881528.7500\n",
      "Epoch [48]: New best model saved with Validation Loss: 2878853.0000\n",
      "Epoch [49]: New best model saved with Validation Loss: 2876011.7500\n",
      "Epoch [50/1000], Training Loss: 3006086.0000, Validation Loss: 2873006.0000\n",
      "Epoch [50]: New best model saved with Validation Loss: 2873006.0000\n",
      "Epoch [51]: New best model saved with Validation Loss: 2869847.0000\n",
      "Epoch [52]: New best model saved with Validation Loss: 2866516.7500\n",
      "Epoch [53]: New best model saved with Validation Loss: 2863017.2500\n",
      "Epoch [54]: New best model saved with Validation Loss: 2859349.2500\n",
      "Epoch [55]: New best model saved with Validation Loss: 2855508.7500\n",
      "Epoch [56]: New best model saved with Validation Loss: 2851489.0000\n",
      "Epoch [57]: New best model saved with Validation Loss: 2847286.2500\n",
      "Epoch [58]: New best model saved with Validation Loss: 2842896.0000\n",
      "Epoch [59]: New best model saved with Validation Loss: 2838315.0000\n",
      "Epoch [60/1000], Training Loss: 2962070.7500, Validation Loss: 2833530.7500\n",
      "Epoch [60]: New best model saved with Validation Loss: 2833530.7500\n"
     ]
    },
    {
     "name": "stderr",
     "output_type": "stream",
     "text": [
      "Training epochs:   8%|▊         | 75/1000 [00:00<00:07, 128.53it/s]"
     ]
    },
    {
     "name": "stdout",
     "output_type": "stream",
     "text": [
      "Epoch [61]: New best model saved with Validation Loss: 2828541.0000\n",
      "Epoch [62]: New best model saved with Validation Loss: 2823341.2500\n",
      "Epoch [63]: New best model saved with Validation Loss: 2817926.2500\n",
      "Epoch [64]: New best model saved with Validation Loss: 2812293.2500\n",
      "Epoch [65]: New best model saved with Validation Loss: 2806437.2500\n",
      "Epoch [66]: New best model saved with Validation Loss: 2800354.0000\n",
      "Epoch [67]: New best model saved with Validation Loss: 2794039.0000\n",
      "Epoch [68]: New best model saved with Validation Loss: 2787487.7500\n",
      "Epoch [69]: New best model saved with Validation Loss: 2780695.7500\n",
      "Epoch [70/1000], Training Loss: 2894406.0000, Validation Loss: 2773659.7500\n",
      "Epoch [70]: New best model saved with Validation Loss: 2773659.7500\n",
      "Epoch [71]: New best model saved with Validation Loss: 2766374.2500\n",
      "Epoch [72]: New best model saved with Validation Loss: 2758836.0000\n",
      "Epoch [73]: New best model saved with Validation Loss: 2751040.7500\n",
      "Epoch [74]: New best model saved with Validation Loss: 2742984.7500\n",
      "Epoch [75]: New best model saved with Validation Loss: 2734663.7500\n",
      "Epoch [76]: New best model saved with Validation Loss: 2726075.0000\n",
      "Epoch [77]: New best model saved with Validation Loss: 2717211.2500\n",
      "Epoch [78]: New best model saved with Validation Loss: 2708068.7500\n",
      "Epoch [79]: New best model saved with Validation Loss: 2698643.7500\n",
      "Epoch [80/1000], Training Loss: 2797710.2500, Validation Loss: 2688933.2500\n",
      "Epoch [80]: New best model saved with Validation Loss: 2688933.2500\n",
      "Epoch [81]: New best model saved with Validation Loss: 2678934.2500\n",
      "Epoch [82]: New best model saved with Validation Loss: 2668644.2500\n",
      "Epoch [83]: New best model saved with Validation Loss: 2658059.2500\n",
      "Epoch [84]: New best model saved with Validation Loss: 2647178.2500\n",
      "Epoch [85]: New best model saved with Validation Loss: 2636000.0000\n"
     ]
    },
    {
     "name": "stderr",
     "output_type": "stream",
     "text": [
      "Training epochs:  10%|█         | 101/1000 [00:00<00:07, 121.52it/s]"
     ]
    },
    {
     "name": "stdout",
     "output_type": "stream",
     "text": [
      "Epoch [86]: New best model saved with Validation Loss: 2624522.2500\n",
      "Epoch [87]: New best model saved with Validation Loss: 2612743.7500\n",
      "Epoch [88]: New best model saved with Validation Loss: 2600662.7500\n",
      "Epoch [89]: New best model saved with Validation Loss: 2588277.2500\n",
      "Epoch [90/1000], Training Loss: 2667538.2500, Validation Loss: 2575586.0000\n",
      "Epoch [90]: New best model saved with Validation Loss: 2575586.0000\n",
      "Epoch [91]: New best model saved with Validation Loss: 2562587.2500\n",
      "Epoch [92]: New best model saved with Validation Loss: 2549280.7500\n",
      "Epoch [93]: New best model saved with Validation Loss: 2535666.0000\n",
      "Epoch [94]: New best model saved with Validation Loss: 2521741.7500\n",
      "Epoch [95]: New best model saved with Validation Loss: 2507507.2500\n",
      "Epoch [96]: New best model saved with Validation Loss: 2492964.2500\n",
      "Epoch [97]: New best model saved with Validation Loss: 2478112.2500\n",
      "Epoch [98]: New best model saved with Validation Loss: 2462952.7500\n",
      "Epoch [99]: New best model saved with Validation Loss: 2447486.0000\n",
      "Epoch [100/1000], Training Loss: 2501397.2500, Validation Loss: 2431714.2500\n",
      "Epoch [100]: New best model saved with Validation Loss: 2431714.2500\n",
      "Epoch [101]: New best model saved with Validation Loss: 2415638.5000\n",
      "Epoch [102]: New best model saved with Validation Loss: 2399264.7500\n",
      "Epoch [103]: New best model saved with Validation Loss: 2382593.5000\n",
      "Epoch [104]: New best model saved with Validation Loss: 2365627.2500\n",
      "Epoch [105]: New best model saved with Validation Loss: 2348368.2500\n",
      "Epoch [106]: New best model saved with Validation Loss: 2330822.2500\n",
      "Epoch [107]: New best model saved with Validation Loss: 2312989.0000\n",
      "Epoch [108]: New best model saved with Validation Loss: 2294871.2500\n",
      "Epoch [109]: New best model saved with Validation Loss: 2276472.7500\n",
      "Epoch [110/1000], Training Loss: 2299482.7500, Validation Loss: 2257797.7500\n",
      "Epoch [110]: New best model saved with Validation Loss: 2257797.7500\n",
      "Epoch [111]: New best model saved with Validation Loss: 2238850.2500\n"
     ]
    },
    {
     "name": "stderr",
     "output_type": "stream",
     "text": [
      "Training epochs:  13%|█▎        | 127/1000 [00:01<00:07, 121.70it/s]"
     ]
    },
    {
     "name": "stdout",
     "output_type": "stream",
     "text": [
      "Epoch [112]: New best model saved with Validation Loss: 2219636.2500\n",
      "Epoch [113]: New best model saved with Validation Loss: 2200159.2500\n",
      "Epoch [114]: New best model saved with Validation Loss: 2180425.7500\n",
      "Epoch [115]: New best model saved with Validation Loss: 2160440.7500\n",
      "Epoch [116]: New best model saved with Validation Loss: 2140210.5000\n",
      "Epoch [117]: New best model saved with Validation Loss: 2119741.2500\n",
      "Epoch [118]: New best model saved with Validation Loss: 2099040.0000\n",
      "Epoch [119]: New best model saved with Validation Loss: 2078113.1250\n",
      "Epoch [120/1000], Training Loss: 2065393.7500, Validation Loss: 2056958.6250\n",
      "Epoch [120]: New best model saved with Validation Loss: 2056958.6250\n",
      "Epoch [121]: New best model saved with Validation Loss: 2035586.6250\n",
      "Epoch [122]: New best model saved with Validation Loss: 2014006.1250\n",
      "Epoch [123]: New best model saved with Validation Loss: 1992226.3750\n",
      "Epoch [124]: New best model saved with Validation Loss: 1970256.6250\n",
      "Epoch [125]: New best model saved with Validation Loss: 1948106.6250\n",
      "Epoch [126]: New best model saved with Validation Loss: 1925786.0000\n",
      "Epoch [127]: New best model saved with Validation Loss: 1903305.3750\n",
      "Epoch [128]: New best model saved with Validation Loss: 1880674.3750\n",
      "Epoch [129]: New best model saved with Validation Loss: 1857904.0000\n",
      "Epoch [130/1000], Training Loss: 1806777.2500, Validation Loss: 1835005.0000\n",
      "Epoch [130]: New best model saved with Validation Loss: 1835005.0000\n",
      "Epoch [131]: New best model saved with Validation Loss: 1811989.6250\n",
      "Epoch [132]: New best model saved with Validation Loss: 1788868.6250\n",
      "Epoch [133]: New best model saved with Validation Loss: 1765654.6250\n",
      "Epoch [134]: New best model saved with Validation Loss: 1742359.5000\n"
     ]
    },
    {
     "name": "stderr",
     "output_type": "stream",
     "text": [
      "Training epochs:  15%|█▌        | 153/1000 [00:01<00:07, 113.48it/s]"
     ]
    },
    {
     "name": "stdout",
     "output_type": "stream",
     "text": [
      "Epoch [135]: New best model saved with Validation Loss: 1718996.3750\n",
      "Epoch [136]: New best model saved with Validation Loss: 1695577.6250\n",
      "Epoch [137]: New best model saved with Validation Loss: 1672116.6250\n",
      "Epoch [138]: New best model saved with Validation Loss: 1648627.0000\n",
      "Epoch [139]: New best model saved with Validation Loss: 1625122.8750\n",
      "Epoch [140/1000], Training Loss: 1535345.7500, Validation Loss: 1601617.3750\n",
      "Epoch [140]: New best model saved with Validation Loss: 1601617.3750\n",
      "Epoch [141]: New best model saved with Validation Loss: 1578116.0000\n",
      "Epoch [142]: New best model saved with Validation Loss: 1554634.3750\n",
      "Epoch [143]: New best model saved with Validation Loss: 1531188.5000\n",
      "Epoch [144]: New best model saved with Validation Loss: 1507794.0000\n",
      "Epoch [145]: New best model saved with Validation Loss: 1484466.5000\n",
      "Epoch [146]: New best model saved with Validation Loss: 1461221.6250\n",
      "Epoch [147]: New best model saved with Validation Loss: 1438075.0000\n",
      "Epoch [148]: New best model saved with Validation Loss: 1415042.0000\n",
      "Epoch [149]: New best model saved with Validation Loss: 1392138.2500\n",
      "Epoch [150/1000], Training Loss: 1265933.7500, Validation Loss: 1369379.1250\n",
      "Epoch [150]: New best model saved with Validation Loss: 1369379.1250\n",
      "Epoch [151]: New best model saved with Validation Loss: 1346779.6250\n",
      "Epoch [152]: New best model saved with Validation Loss: 1324355.0000\n",
      "Epoch [153]: New best model saved with Validation Loss: 1302119.8750\n",
      "Epoch [154]: New best model saved with Validation Loss: 1280089.0000\n",
      "Epoch [155]: New best model saved with Validation Loss: 1258277.1250\n",
      "Epoch [156]: New best model saved with Validation Loss: 1236698.1250\n",
      "Epoch [157]: New best model saved with Validation Loss: 1215366.1250\n",
      "Epoch [158]: New best model saved with Validation Loss: 1194294.7500\n"
     ]
    },
    {
     "name": "stderr",
     "output_type": "stream",
     "text": [
      "Training epochs:  18%|█▊        | 182/1000 [00:01<00:06, 125.41it/s]"
     ]
    },
    {
     "name": "stdout",
     "output_type": "stream",
     "text": [
      "Epoch [159]: New best model saved with Validation Loss: 1173501.0000\n",
      "Epoch [160/1000], Training Loss: 1014927.8750, Validation Loss: 1152997.7500\n",
      "Epoch [160]: New best model saved with Validation Loss: 1152997.7500\n",
      "Epoch [161]: New best model saved with Validation Loss: 1132797.8750\n",
      "Epoch [162]: New best model saved with Validation Loss: 1112913.1250\n",
      "Epoch [163]: New best model saved with Validation Loss: 1093355.1250\n",
      "Epoch [164]: New best model saved with Validation Loss: 1074134.5000\n",
      "Epoch [165]: New best model saved with Validation Loss: 1055261.8750\n",
      "Epoch [166]: New best model saved with Validation Loss: 1036747.1875\n",
      "Epoch [167]: New best model saved with Validation Loss: 1018599.5000\n",
      "Epoch [168]: New best model saved with Validation Loss: 1000827.8125\n",
      "Epoch [169]: New best model saved with Validation Loss: 983439.8125\n",
      "Epoch [170/1000], Training Loss: 796948.8750, Validation Loss: 966443.3125\n",
      "Epoch [170]: New best model saved with Validation Loss: 966443.3125\n",
      "Epoch [171]: New best model saved with Validation Loss: 949844.5625\n",
      "Epoch [172]: New best model saved with Validation Loss: 933649.9375\n",
      "Epoch [173]: New best model saved with Validation Loss: 917864.2500\n",
      "Epoch [174]: New best model saved with Validation Loss: 902491.9375\n",
      "Epoch [175]: New best model saved with Validation Loss: 887536.8125\n",
      "Epoch [176]: New best model saved with Validation Loss: 872990.2500\n",
      "Epoch [177]: New best model saved with Validation Loss: 858876.8125\n",
      "Epoch [178]: New best model saved with Validation Loss: 845186.1875\n",
      "Epoch [179]: New best model saved with Validation Loss: 831919.0000\n",
      "Epoch [180/1000], Training Loss: 621501.3125, Validation Loss: 819074.9375\n",
      "Epoch [180]: New best model saved with Validation Loss: 819074.9375\n",
      "Epoch [181]: New best model saved with Validation Loss: 806652.4375\n",
      "Epoch [182]: New best model saved with Validation Loss: 794649.5000\n",
      "Epoch [183]: New best model saved with Validation Loss: 783063.6875\n",
      "Epoch [184]: New best model saved with Validation Loss: 771891.2500\n",
      "Epoch [185]: New best model saved with Validation Loss: 761128.0000\n",
      "Epoch [186]: New best model saved with Validation Loss: 750769.3125\n",
      "Epoch [187]: New best model saved with Validation Loss: 740809.4375\n",
      "Epoch [188]: New best model saved with Validation Loss: 731242.6875\n"
     ]
    },
    {
     "name": "stderr",
     "output_type": "stream",
     "text": [
      "Training epochs:  21%|██        | 209/1000 [00:01<00:06, 125.04it/s]"
     ]
    },
    {
     "name": "stdout",
     "output_type": "stream",
     "text": [
      "Epoch [189]: New best model saved with Validation Loss: 722062.0625\n",
      "Epoch [190/1000], Training Loss: 490159.5625, Validation Loss: 713260.5000\n",
      "Epoch [190]: New best model saved with Validation Loss: 713260.5000\n",
      "Epoch [191]: New best model saved with Validation Loss: 704830.5625\n",
      "Epoch [192]: New best model saved with Validation Loss: 696769.0625\n",
      "Epoch [193]: New best model saved with Validation Loss: 689067.7500\n",
      "Epoch [194]: New best model saved with Validation Loss: 681717.3125\n",
      "Epoch [195]: New best model saved with Validation Loss: 674708.5000\n",
      "Epoch [196]: New best model saved with Validation Loss: 668031.4375\n",
      "Epoch [197]: New best model saved with Validation Loss: 661676.5000\n",
      "Epoch [198]: New best model saved with Validation Loss: 655633.8125\n",
      "Epoch [199]: New best model saved with Validation Loss: 649893.5000\n",
      "Epoch [200/1000], Training Loss: 396608.7188, Validation Loss: 644445.6875\n",
      "Epoch [200]: New best model saved with Validation Loss: 644445.6875\n",
      "Epoch [201]: New best model saved with Validation Loss: 639280.0625\n",
      "Epoch [202]: New best model saved with Validation Loss: 634387.0000\n",
      "Epoch [203]: New best model saved with Validation Loss: 629756.6250\n",
      "Epoch [204]: New best model saved with Validation Loss: 625379.1250\n",
      "Epoch [205]: New best model saved with Validation Loss: 621245.0625\n",
      "Epoch [206]: New best model saved with Validation Loss: 617344.7500\n",
      "Epoch [207]: New best model saved with Validation Loss: 613669.0625\n",
      "Epoch [208]: New best model saved with Validation Loss: 610208.6875\n",
      "Epoch [209]: New best model saved with Validation Loss: 606954.8125\n",
      "Epoch [210/1000], Training Loss: 330367.0625, Validation Loss: 603899.0625\n",
      "Epoch [210]: New best model saved with Validation Loss: 603899.0625\n",
      "Epoch [211]: New best model saved with Validation Loss: 601032.5625\n",
      "Epoch [212]: New best model saved with Validation Loss: 598347.3125\n",
      "Epoch [213]: New best model saved with Validation Loss: 595835.4375\n",
      "Epoch [214]: New best model saved with Validation Loss: 593488.8125\n",
      "Epoch [215]: New best model saved with Validation Loss: 591300.5625\n"
     ]
    },
    {
     "name": "stderr",
     "output_type": "stream",
     "text": [
      "Training epochs:  24%|██▎       | 237/1000 [00:02<00:05, 131.33it/s]"
     ]
    },
    {
     "name": "stdout",
     "output_type": "stream",
     "text": [
      "Epoch [216]: New best model saved with Validation Loss: 589262.9375\n",
      "Epoch [217]: New best model saved with Validation Loss: 587369.3125\n",
      "Epoch [218]: New best model saved with Validation Loss: 585612.8125\n",
      "Epoch [219]: New best model saved with Validation Loss: 583987.0625\n",
      "Epoch [220/1000], Training Loss: 281405.0938, Validation Loss: 582485.6875\n",
      "Epoch [220]: New best model saved with Validation Loss: 582485.6875\n",
      "Epoch [221]: New best model saved with Validation Loss: 581102.9375\n",
      "Epoch [222]: New best model saved with Validation Loss: 579832.6875\n",
      "Epoch [223]: New best model saved with Validation Loss: 578669.8125\n",
      "Epoch [224]: New best model saved with Validation Loss: 577608.6875\n",
      "Epoch [225]: New best model saved with Validation Loss: 576644.2500\n",
      "Epoch [226]: New best model saved with Validation Loss: 575771.6875\n",
      "Epoch [227]: New best model saved with Validation Loss: 574986.1250\n",
      "Epoch [228]: New best model saved with Validation Loss: 574283.1875\n",
      "Epoch [229]: New best model saved with Validation Loss: 573658.3750\n",
      "Epoch [230/1000], Training Loss: 242739.9688, Validation Loss: 573107.5625\n",
      "Epoch [230]: New best model saved with Validation Loss: 573107.5625\n",
      "Epoch [231]: New best model saved with Validation Loss: 572626.7500\n",
      "Epoch [232]: New best model saved with Validation Loss: 572212.0625\n",
      "Epoch [233]: New best model saved with Validation Loss: 571859.6875\n",
      "Epoch [234]: New best model saved with Validation Loss: 571566.1875\n",
      "Epoch [235]: New best model saved with Validation Loss: 571328.2500\n",
      "Epoch [236]: New best model saved with Validation Loss: 571142.5625\n",
      "Epoch [237]: New best model saved with Validation Loss: 571005.8125\n",
      "Epoch [238]: New best model saved with Validation Loss: 570915.1875\n",
      "Epoch [239]: New best model saved with Validation Loss: 570867.6875\n",
      "Epoch [240/1000], Training Loss: 210534.8750, Validation Loss: 570860.6250\n",
      "Epoch [240]: New best model saved with Validation Loss: 570860.6250\n"
     ]
    },
    {
     "name": "stderr",
     "output_type": "stream",
     "text": [
      "Training epochs:  28%|██▊       | 275/1000 [00:02<00:04, 155.53it/s]"
     ]
    },
    {
     "name": "stdout",
     "output_type": "stream",
     "text": [
      "Epoch [250/1000], Training Loss: 182908.4844, Validation Loss: 572490.0625\n",
      "Epoch [260/1000], Training Loss: 158886.5938, Validation Loss: 575926.5625\n",
      "Epoch [270/1000], Training Loss: 137871.4844, Validation Loss: 579980.4375\n",
      "Epoch [280/1000], Training Loss: 119441.5703, Validation Loss: 584070.0000\n"
     ]
    },
    {
     "name": "stderr",
     "output_type": "stream",
     "text": [
      "Training epochs:  33%|███▎      | 328/1000 [00:02<00:03, 209.72it/s]"
     ]
    },
    {
     "name": "stdout",
     "output_type": "stream",
     "text": [
      "Epoch [290/1000], Training Loss: 103234.7422, Validation Loss: 588151.8125\n",
      "Epoch [300/1000], Training Loss: 88992.0000, Validation Loss: 592184.3125\n",
      "Epoch [310/1000], Training Loss: 76518.5859, Validation Loss: 596110.4375\n",
      "Epoch [320/1000], Training Loss: 65640.9375, Validation Loss: 599831.0000\n",
      "Epoch [330/1000], Training Loss: 56204.5352, Validation Loss: 603151.3750\n",
      "Epoch [340/1000], Training Loss: 48040.8125, Validation Loss: 606001.8750\n"
     ]
    },
    {
     "name": "stderr",
     "output_type": "stream",
     "text": [
      "Training epochs:  38%|███▊      | 377/1000 [00:02<00:02, 224.80it/s]"
     ]
    },
    {
     "name": "stdout",
     "output_type": "stream",
     "text": [
      "Epoch [350/1000], Training Loss: 41000.4453, Validation Loss: 608351.7500\n",
      "Epoch [360/1000], Training Loss: 34947.2578, Validation Loss: 610172.2500\n",
      "Epoch [370/1000], Training Loss: 29751.2207, Validation Loss: 611467.8125\n",
      "Epoch [380/1000], Training Loss: 25303.7930, Validation Loss: 612236.3125\n",
      "Epoch [390/1000], Training Loss: 21504.8887, Validation Loss: 612485.4375\n"
     ]
    },
    {
     "name": "stderr",
     "output_type": "stream",
     "text": [
      "Training epochs:  42%|████▏     | 421/1000 [00:02<00:02, 196.58it/s]"
     ]
    },
    {
     "name": "stdout",
     "output_type": "stream",
     "text": [
      "Epoch [400/1000], Training Loss: 18265.1934, Validation Loss: 612235.3125\n",
      "Epoch [410/1000], Training Loss: 15506.0137, Validation Loss: 611517.4375\n",
      "Epoch [420/1000], Training Loss: 13158.5420, Validation Loss: 610371.0000\n",
      "Epoch [430/1000], Training Loss: 11162.0059, Validation Loss: 608843.2500\n",
      "Epoch [440/1000], Training Loss: 9465.0371, Validation Loss: 606985.2500\n"
     ]
    },
    {
     "name": "stderr",
     "output_type": "stream",
     "text": [
      "Training epochs:  47%|████▋     | 467/1000 [00:03<00:02, 204.45it/s]"
     ]
    },
    {
     "name": "stdout",
     "output_type": "stream",
     "text": [
      "Epoch [450/1000], Training Loss: 8023.5845, Validation Loss: 604848.4375\n",
      "Epoch [460/1000], Training Loss: 6799.4346, Validation Loss: 602485.2500\n",
      "Epoch [470/1000], Training Loss: 5760.2231, Validation Loss: 599950.7500\n",
      "Epoch [480/1000], Training Loss: 4878.3799, Validation Loss: 597292.6875\n"
     ]
    },
    {
     "name": "stderr",
     "output_type": "stream",
     "text": [
      "Training epochs:  51%|█████     | 508/1000 [00:03<00:02, 186.14it/s]"
     ]
    },
    {
     "name": "stdout",
     "output_type": "stream",
     "text": [
      "Epoch [490/1000], Training Loss: 4130.2310, Validation Loss: 594559.6250\n",
      "Epoch [500/1000], Training Loss: 3495.6987, Validation Loss: 591793.5000\n",
      "Epoch [510/1000], Training Loss: 2957.5334, Validation Loss: 589033.0000\n",
      "Epoch [520/1000], Training Loss: 2501.2065, Validation Loss: 586310.3125\n"
     ]
    },
    {
     "name": "stderr",
     "output_type": "stream",
     "text": [
      "Training epochs:  55%|█████▍    | 545/1000 [00:03<00:03, 146.62it/s]"
     ]
    },
    {
     "name": "stdout",
     "output_type": "stream",
     "text": [
      "Epoch [530/1000], Training Loss: 2114.3303, Validation Loss: 583651.1250\n",
      "Epoch [540/1000], Training Loss: 1786.1895, Validation Loss: 581079.6250\n",
      "Epoch [550/1000], Training Loss: 1507.8202, Validation Loss: 578613.6875\n"
     ]
    },
    {
     "name": "stderr",
     "output_type": "stream",
     "text": [
      "Training epochs:  58%|█████▊    | 584/1000 [00:03<00:02, 166.29it/s]"
     ]
    },
    {
     "name": "stdout",
     "output_type": "stream",
     "text": [
      "Epoch [560/1000], Training Loss: 1271.6803, Validation Loss: 576265.3125\n",
      "Epoch [570/1000], Training Loss: 1071.6753, Validation Loss: 574037.8125\n",
      "Epoch [580/1000], Training Loss: 902.3345, Validation Loss: 571931.6875\n",
      "Epoch [586]: New best model saved with Validation Loss: 570729.5625\n",
      "Epoch [587]: New best model saved with Validation Loss: 570533.5625\n",
      "Epoch [588]: New best model saved with Validation Loss: 570339.2500\n",
      "Epoch [589]: New best model saved with Validation Loss: 570146.2500\n",
      "Epoch [590/1000], Training Loss: 758.8972, Validation Loss: 569954.2500\n",
      "Epoch [590]: New best model saved with Validation Loss: 569954.2500\n",
      "Epoch [591]: New best model saved with Validation Loss: 569763.6875\n",
      "Epoch [592]: New best model saved with Validation Loss: 569574.3125\n",
      "Epoch [593]: New best model saved with Validation Loss: 569386.3125\n",
      "Epoch [594]: New best model saved with Validation Loss: 569199.9375\n",
      "Epoch [595]: New best model saved with Validation Loss: 569014.5000\n"
     ]
    },
    {
     "name": "stderr",
     "output_type": "stream",
     "text": [
      "Training epochs:  62%|██████▏   | 618/1000 [00:04<00:02, 140.80it/s]"
     ]
    },
    {
     "name": "stdout",
     "output_type": "stream",
     "text": [
      "Epoch [596]: New best model saved with Validation Loss: 568830.5000\n",
      "Epoch [597]: New best model saved with Validation Loss: 568647.9375\n",
      "Epoch [598]: New best model saved with Validation Loss: 568466.3750\n",
      "Epoch [599]: New best model saved with Validation Loss: 568286.1875\n",
      "Epoch [600/1000], Training Loss: 637.4317, Validation Loss: 568107.4375\n",
      "Epoch [600]: New best model saved with Validation Loss: 568107.4375\n",
      "Epoch [601]: New best model saved with Validation Loss: 567930.0000\n",
      "Epoch [602]: New best model saved with Validation Loss: 567753.6875\n",
      "Epoch [603]: New best model saved with Validation Loss: 567578.6875\n",
      "Epoch [604]: New best model saved with Validation Loss: 567405.1875\n",
      "Epoch [605]: New best model saved with Validation Loss: 567232.7500\n",
      "Epoch [606]: New best model saved with Validation Loss: 567061.9375\n",
      "Epoch [607]: New best model saved with Validation Loss: 566891.9375\n",
      "Epoch [608]: New best model saved with Validation Loss: 566723.4375\n",
      "Epoch [609]: New best model saved with Validation Loss: 566556.0625\n",
      "Epoch [610/1000], Training Loss: 534.6610, Validation Loss: 566390.1875\n",
      "Epoch [610]: New best model saved with Validation Loss: 566390.1875\n",
      "Epoch [611]: New best model saved with Validation Loss: 566225.3125\n",
      "Epoch [612]: New best model saved with Validation Loss: 566061.9375\n",
      "Epoch [613]: New best model saved with Validation Loss: 565899.6875\n",
      "Epoch [614]: New best model saved with Validation Loss: 565738.7500\n",
      "Epoch [615]: New best model saved with Validation Loss: 565578.8125\n",
      "Epoch [616]: New best model saved with Validation Loss: 565420.4375\n",
      "Epoch [617]: New best model saved with Validation Loss: 565262.9375\n",
      "Epoch [618]: New best model saved with Validation Loss: 565106.9375\n",
      "Epoch [619]: New best model saved with Validation Loss: 564952.0000\n",
      "Epoch [620/1000], Training Loss: 447.7856, Validation Loss: 564798.2500\n",
      "Epoch [620]: New best model saved with Validation Loss: 564798.2500\n",
      "Epoch [621]: New best model saved with Validation Loss: 564645.9375\n",
      "Epoch [622]: New best model saved with Validation Loss: 564494.4375\n"
     ]
    },
    {
     "name": "stderr",
     "output_type": "stream",
     "text": [
      "Training epochs:  63%|██████▎   | 633/1000 [00:04<00:02, 139.49it/s]"
     ]
    },
    {
     "name": "stdout",
     "output_type": "stream",
     "text": [
      "Epoch [623]: New best model saved with Validation Loss: 564344.2500\n",
      "Epoch [624]: New best model saved with Validation Loss: 564195.4375\n",
      "Epoch [625]: New best model saved with Validation Loss: 564047.6250\n",
      "Epoch [626]: New best model saved with Validation Loss: 563901.1875\n",
      "Epoch [627]: New best model saved with Validation Loss: 563755.6875\n",
      "Epoch [628]: New best model saved with Validation Loss: 563611.4375\n",
      "Epoch [629]: New best model saved with Validation Loss: 563468.1875\n",
      "Epoch [630/1000], Training Loss: 374.4255, Validation Loss: 563326.2500\n",
      "Epoch [630]: New best model saved with Validation Loss: 563326.2500\n",
      "Epoch [631]: New best model saved with Validation Loss: 563185.4375\n",
      "Epoch [632]: New best model saved with Validation Loss: 563045.6875\n",
      "Epoch [633]: New best model saved with Validation Loss: 562907.1875\n",
      "Epoch [634]: New best model saved with Validation Loss: 562769.6875\n",
      "Epoch [635]: New best model saved with Validation Loss: 562633.3125\n",
      "Epoch [636]: New best model saved with Validation Loss: 562498.0625\n",
      "Epoch [637]: New best model saved with Validation Loss: 562364.0000\n",
      "Epoch [638]: New best model saved with Validation Loss: 562230.9375\n",
      "Epoch [639]: New best model saved with Validation Loss: 562098.9375\n",
      "Epoch [640/1000], Training Loss: 312.5572, Validation Loss: 561968.0000\n",
      "Epoch [640]: New best model saved with Validation Loss: 561968.0000\n",
      "Epoch [641]: New best model saved with Validation Loss: 561838.1875\n",
      "Epoch [642]: New best model saved with Validation Loss: 561709.5625\n",
      "Epoch [643]: New best model saved with Validation Loss: 561581.8125\n",
      "Epoch [644]: New best model saved with Validation Loss: 561455.3750\n",
      "Epoch [645]: New best model saved with Validation Loss: 561329.7500\n",
      "Epoch [646]: New best model saved with Validation Loss: 561205.3125\n",
      "Epoch [647]: New best model saved with Validation Loss: 561081.6875\n",
      "Epoch [648]: New best model saved with Validation Loss: 560959.4375\n"
     ]
    },
    {
     "name": "stderr",
     "output_type": "stream",
     "text": [
      "Training epochs:  66%|██████▌   | 662/1000 [00:04<00:02, 128.45it/s]"
     ]
    },
    {
     "name": "stdout",
     "output_type": "stream",
     "text": [
      "Epoch [649]: New best model saved with Validation Loss: 560837.9375\n",
      "Epoch [650/1000], Training Loss: 260.4533, Validation Loss: 560717.5625\n",
      "Epoch [650]: New best model saved with Validation Loss: 560717.5625\n",
      "Epoch [651]: New best model saved with Validation Loss: 560598.1875\n",
      "Epoch [652]: New best model saved with Validation Loss: 560479.8750\n",
      "Epoch [653]: New best model saved with Validation Loss: 560362.5625\n",
      "Epoch [654]: New best model saved with Validation Loss: 560246.0625\n",
      "Epoch [655]: New best model saved with Validation Loss: 560130.7500\n",
      "Epoch [656]: New best model saved with Validation Loss: 560016.4375\n",
      "Epoch [657]: New best model saved with Validation Loss: 559902.9375\n",
      "Epoch [658]: New best model saved with Validation Loss: 559790.4375\n",
      "Epoch [659]: New best model saved with Validation Loss: 559679.0625\n",
      "Epoch [660/1000], Training Loss: 216.6522, Validation Loss: 559568.2500\n",
      "Epoch [660]: New best model saved with Validation Loss: 559568.2500\n",
      "Epoch [661]: New best model saved with Validation Loss: 559458.5000\n",
      "Epoch [662]: New best model saved with Validation Loss: 559349.7500\n",
      "Epoch [663]: New best model saved with Validation Loss: 559241.6875\n",
      "Epoch [664]: New best model saved with Validation Loss: 559134.6250\n",
      "Epoch [665]: New best model saved with Validation Loss: 559028.5000\n",
      "Epoch [666]: New best model saved with Validation Loss: 558923.1875\n",
      "Epoch [667]: New best model saved with Validation Loss: 558818.9375\n",
      "Epoch [668]: New best model saved with Validation Loss: 558715.4375\n",
      "Epoch [669]: New best model saved with Validation Loss: 558612.8125\n",
      "Epoch [670/1000], Training Loss: 179.9275, Validation Loss: 558511.0625\n",
      "Epoch [670]: New best model saved with Validation Loss: 558511.0625\n",
      "Epoch [671]: New best model saved with Validation Loss: 558410.3125\n",
      "Epoch [672]: New best model saved with Validation Loss: 558310.3125\n",
      "Epoch [673]: New best model saved with Validation Loss: 558211.3125\n",
      "Epoch [674]: New best model saved with Validation Loss: 558113.2500\n"
     ]
    },
    {
     "name": "stderr",
     "output_type": "stream",
     "text": [
      "Training epochs:  69%|██████▉   | 692/1000 [00:04<00:02, 122.75it/s]"
     ]
    },
    {
     "name": "stdout",
     "output_type": "stream",
     "text": [
      "Epoch [675]: New best model saved with Validation Loss: 558015.9375\n",
      "Epoch [676]: New best model saved with Validation Loss: 557919.5000\n",
      "Epoch [677]: New best model saved with Validation Loss: 557823.8750\n",
      "Epoch [678]: New best model saved with Validation Loss: 557729.2500\n",
      "Epoch [679]: New best model saved with Validation Loss: 557635.2500\n",
      "Epoch [680/1000], Training Loss: 149.1517, Validation Loss: 557542.5000\n",
      "Epoch [680]: New best model saved with Validation Loss: 557542.5000\n",
      "Epoch [681]: New best model saved with Validation Loss: 557450.1875\n",
      "Epoch [682]: New best model saved with Validation Loss: 557358.6875\n",
      "Epoch [683]: New best model saved with Validation Loss: 557268.3750\n",
      "Epoch [684]: New best model saved with Validation Loss: 557178.7500\n",
      "Epoch [685]: New best model saved with Validation Loss: 557089.8750\n",
      "Epoch [686]: New best model saved with Validation Loss: 557001.6875\n",
      "Epoch [687]: New best model saved with Validation Loss: 556914.5000\n",
      "Epoch [688]: New best model saved with Validation Loss: 556828.1250\n",
      "Epoch [689]: New best model saved with Validation Loss: 556742.3750\n",
      "Epoch [690/1000], Training Loss: 123.3981, Validation Loss: 556657.6875\n",
      "Epoch [690]: New best model saved with Validation Loss: 556657.6875\n",
      "Epoch [691]: New best model saved with Validation Loss: 556573.5625\n",
      "Epoch [692]: New best model saved with Validation Loss: 556490.3750\n",
      "Epoch [693]: New best model saved with Validation Loss: 556407.7500\n",
      "Epoch [694]: New best model saved with Validation Loss: 556326.0625\n",
      "Epoch [695]: New best model saved with Validation Loss: 556245.1250\n",
      "Epoch [696]: New best model saved with Validation Loss: 556164.9375\n",
      "Epoch [697]: New best model saved with Validation Loss: 556085.3125\n",
      "Epoch [698]: New best model saved with Validation Loss: 556006.6250\n"
     ]
    },
    {
     "name": "stderr",
     "output_type": "stream",
     "text": [
      "Training epochs:  72%|███████▏  | 718/1000 [00:04<00:02, 123.73it/s]"
     ]
    },
    {
     "name": "stdout",
     "output_type": "stream",
     "text": [
      "Epoch [699]: New best model saved with Validation Loss: 555928.6875\n",
      "Epoch [700/1000], Training Loss: 101.8847, Validation Loss: 555851.5625\n",
      "Epoch [700]: New best model saved with Validation Loss: 555851.5625\n",
      "Epoch [701]: New best model saved with Validation Loss: 555774.8125\n",
      "Epoch [702]: New best model saved with Validation Loss: 555698.9375\n",
      "Epoch [703]: New best model saved with Validation Loss: 555624.0000\n",
      "Epoch [704]: New best model saved with Validation Loss: 555549.5625\n",
      "Epoch [705]: New best model saved with Validation Loss: 555475.6250\n",
      "Epoch [706]: New best model saved with Validation Loss: 555402.8125\n",
      "Epoch [707]: New best model saved with Validation Loss: 555330.5000\n",
      "Epoch [708]: New best model saved with Validation Loss: 555258.7500\n",
      "Epoch [709]: New best model saved with Validation Loss: 555187.9375\n",
      "Epoch [710/1000], Training Loss: 83.9512, Validation Loss: 555117.5625\n",
      "Epoch [710]: New best model saved with Validation Loss: 555117.5625\n",
      "Epoch [711]: New best model saved with Validation Loss: 555048.0000\n",
      "Epoch [712]: New best model saved with Validation Loss: 554978.9375\n",
      "Epoch [713]: New best model saved with Validation Loss: 554910.6875\n",
      "Epoch [714]: New best model saved with Validation Loss: 554843.0625\n",
      "Epoch [715]: New best model saved with Validation Loss: 554776.0000\n",
      "Epoch [716]: New best model saved with Validation Loss: 554709.5625\n",
      "Epoch [717]: New best model saved with Validation Loss: 554643.7500\n",
      "Epoch [718]: New best model saved with Validation Loss: 554578.5000\n",
      "Epoch [719]: New best model saved with Validation Loss: 554513.8125\n",
      "Epoch [720/1000], Training Loss: 69.0401, Validation Loss: 554449.8125\n",
      "Epoch [720]: New best model saved with Validation Loss: 554449.8125\n",
      "Epoch [721]: New best model saved with Validation Loss: 554386.3125\n",
      "Epoch [722]: New best model saved with Validation Loss: 554323.3125\n",
      "Epoch [723]: New best model saved with Validation Loss: 554260.9375\n"
     ]
    },
    {
     "name": "stderr",
     "output_type": "stream",
     "text": [
      "Training epochs:  74%|███████▍  | 744/1000 [00:05<00:02, 125.06it/s]"
     ]
    },
    {
     "name": "stdout",
     "output_type": "stream",
     "text": [
      "Epoch [724]: New best model saved with Validation Loss: 554199.3125\n",
      "Epoch [725]: New best model saved with Validation Loss: 554138.2500\n",
      "Epoch [726]: New best model saved with Validation Loss: 554077.5625\n",
      "Epoch [727]: New best model saved with Validation Loss: 554017.5625\n",
      "Epoch [728]: New best model saved with Validation Loss: 553958.2500\n",
      "Epoch [729]: New best model saved with Validation Loss: 553899.3125\n",
      "Epoch [730/1000], Training Loss: 56.6699, Validation Loss: 553841.0000\n",
      "Epoch [730]: New best model saved with Validation Loss: 553841.0000\n",
      "Epoch [731]: New best model saved with Validation Loss: 553783.5000\n",
      "Epoch [732]: New best model saved with Validation Loss: 553726.1875\n",
      "Epoch [733]: New best model saved with Validation Loss: 553669.5625\n",
      "Epoch [734]: New best model saved with Validation Loss: 553613.4375\n",
      "Epoch [735]: New best model saved with Validation Loss: 553557.8750\n",
      "Epoch [736]: New best model saved with Validation Loss: 553502.9375\n",
      "Epoch [737]: New best model saved with Validation Loss: 553448.3750\n",
      "Epoch [738]: New best model saved with Validation Loss: 553394.3750\n",
      "Epoch [739]: New best model saved with Validation Loss: 553341.0000\n",
      "Epoch [740/1000], Training Loss: 46.4194, Validation Loss: 553288.1875\n",
      "Epoch [740]: New best model saved with Validation Loss: 553288.1875\n",
      "Epoch [741]: New best model saved with Validation Loss: 553235.7500\n",
      "Epoch [742]: New best model saved with Validation Loss: 553184.0000\n",
      "Epoch [743]: New best model saved with Validation Loss: 553132.8125\n",
      "Epoch [744]: New best model saved with Validation Loss: 553081.9375\n",
      "Epoch [745]: New best model saved with Validation Loss: 553031.5625\n",
      "Epoch [746]: New best model saved with Validation Loss: 552981.9375\n",
      "Epoch [747]: New best model saved with Validation Loss: 552932.5000\n",
      "Epoch [748]: New best model saved with Validation Loss: 552883.7500\n",
      "Epoch [749]: New best model saved with Validation Loss: 552835.3750\n",
      "Epoch [750/1000], Training Loss: 37.9420, Validation Loss: 552787.5000\n"
     ]
    },
    {
     "name": "stderr",
     "output_type": "stream",
     "text": [
      "Training epochs:  77%|███████▋  | 772/1000 [00:05<00:01, 126.06it/s]"
     ]
    },
    {
     "name": "stdout",
     "output_type": "stream",
     "text": [
      "Epoch [750]: New best model saved with Validation Loss: 552787.5000\n",
      "Epoch [751]: New best model saved with Validation Loss: 552740.1875\n",
      "Epoch [752]: New best model saved with Validation Loss: 552693.1250\n",
      "Epoch [753]: New best model saved with Validation Loss: 552646.9375\n",
      "Epoch [754]: New best model saved with Validation Loss: 552600.9375\n",
      "Epoch [755]: New best model saved with Validation Loss: 552555.2500\n",
      "Epoch [756]: New best model saved with Validation Loss: 552510.4375\n",
      "Epoch [757]: New best model saved with Validation Loss: 552465.7500\n",
      "Epoch [758]: New best model saved with Validation Loss: 552421.5625\n",
      "Epoch [759]: New best model saved with Validation Loss: 552377.8125\n",
      "Epoch [760/1000], Training Loss: 30.9450, Validation Loss: 552334.6875\n",
      "Epoch [760]: New best model saved with Validation Loss: 552334.6875\n",
      "Epoch [761]: New best model saved with Validation Loss: 552291.8125\n",
      "Epoch [762]: New best model saved with Validation Loss: 552249.3125\n",
      "Epoch [763]: New best model saved with Validation Loss: 552207.5000\n",
      "Epoch [764]: New best model saved with Validation Loss: 552165.8750\n",
      "Epoch [765]: New best model saved with Validation Loss: 552124.8125\n",
      "Epoch [766]: New best model saved with Validation Loss: 552084.0000\n",
      "Epoch [767]: New best model saved with Validation Loss: 552043.9375\n",
      "Epoch [768]: New best model saved with Validation Loss: 552004.0000\n",
      "Epoch [769]: New best model saved with Validation Loss: 551964.5625\n",
      "Epoch [770/1000], Training Loss: 25.1829, Validation Loss: 551925.4375\n",
      "Epoch [770]: New best model saved with Validation Loss: 551925.4375\n",
      "Epoch [771]: New best model saved with Validation Loss: 551886.6875\n",
      "Epoch [772]: New best model saved with Validation Loss: 551848.3125\n",
      "Epoch [773]: New best model saved with Validation Loss: 551810.3750\n",
      "Epoch [774]: New best model saved with Validation Loss: 551773.0000\n",
      "Epoch [775]: New best model saved with Validation Loss: 551735.8125\n"
     ]
    },
    {
     "name": "stderr",
     "output_type": "stream",
     "text": [
      "Training epochs:  80%|███████▉  | 797/1000 [00:05<00:01, 110.18it/s]"
     ]
    },
    {
     "name": "stdout",
     "output_type": "stream",
     "text": [
      "Epoch [776]: New best model saved with Validation Loss: 551698.9375\n",
      "Epoch [777]: New best model saved with Validation Loss: 551662.6250\n",
      "Epoch [778]: New best model saved with Validation Loss: 551626.5625\n",
      "Epoch [779]: New best model saved with Validation Loss: 551590.8750\n",
      "Epoch [780/1000], Training Loss: 20.4489, Validation Loss: 551555.6875\n",
      "Epoch [780]: New best model saved with Validation Loss: 551555.6875\n",
      "Epoch [781]: New best model saved with Validation Loss: 551520.6250\n",
      "Epoch [782]: New best model saved with Validation Loss: 551486.0000\n",
      "Epoch [783]: New best model saved with Validation Loss: 551451.8125\n",
      "Epoch [784]: New best model saved with Validation Loss: 551417.8750\n",
      "Epoch [785]: New best model saved with Validation Loss: 551384.3125\n",
      "Epoch [786]: New best model saved with Validation Loss: 551351.0625\n",
      "Epoch [787]: New best model saved with Validation Loss: 551318.3125\n",
      "Epoch [788]: New best model saved with Validation Loss: 551285.8125\n",
      "Epoch [789]: New best model saved with Validation Loss: 551253.5000\n",
      "Epoch [790/1000], Training Loss: 16.5675, Validation Loss: 551221.6250\n",
      "Epoch [790]: New best model saved with Validation Loss: 551221.6250\n",
      "Epoch [791]: New best model saved with Validation Loss: 551190.1250\n",
      "Epoch [792]: New best model saved with Validation Loss: 551159.0625\n",
      "Epoch [793]: New best model saved with Validation Loss: 551128.0625\n",
      "Epoch [794]: New best model saved with Validation Loss: 551097.5000\n",
      "Epoch [795]: New best model saved with Validation Loss: 551067.1250\n",
      "Epoch [796]: New best model saved with Validation Loss: 551037.3125\n",
      "Epoch [797]: New best model saved with Validation Loss: 551007.5625\n"
     ]
    },
    {
     "name": "stderr",
     "output_type": "stream",
     "text": [
      "Training epochs:  81%|████████  | 812/1000 [00:05<00:01, 117.57it/s]"
     ]
    },
    {
     "name": "stdout",
     "output_type": "stream",
     "text": [
      "Epoch [798]: New best model saved with Validation Loss: 550978.2500\n",
      "Epoch [799]: New best model saved with Validation Loss: 550949.3125\n",
      "Epoch [800/1000], Training Loss: 13.3931, Validation Loss: 550920.3125\n",
      "Epoch [800]: New best model saved with Validation Loss: 550920.3125\n",
      "Epoch [801]: New best model saved with Validation Loss: 550892.0625\n",
      "Epoch [802]: New best model saved with Validation Loss: 550863.8125\n",
      "Epoch [803]: New best model saved with Validation Loss: 550836.0000\n",
      "Epoch [804]: New best model saved with Validation Loss: 550808.5625\n",
      "Epoch [805]: New best model saved with Validation Loss: 550781.0625\n",
      "Epoch [806]: New best model saved with Validation Loss: 550754.3125\n",
      "Epoch [807]: New best model saved with Validation Loss: 550727.3125\n",
      "Epoch [808]: New best model saved with Validation Loss: 550700.8750\n",
      "Epoch [809]: New best model saved with Validation Loss: 550674.8125\n",
      "Epoch [810/1000], Training Loss: 10.8024, Validation Loss: 550648.9375\n",
      "Epoch [810]: New best model saved with Validation Loss: 550648.9375\n",
      "Epoch [811]: New best model saved with Validation Loss: 550623.1875\n",
      "Epoch [812]: New best model saved with Validation Loss: 550597.9375\n",
      "Epoch [813]: New best model saved with Validation Loss: 550572.6875\n",
      "Epoch [814]: New best model saved with Validation Loss: 550547.8125\n",
      "Epoch [815]: New best model saved with Validation Loss: 550523.3125\n",
      "Epoch [816]: New best model saved with Validation Loss: 550499.0625\n",
      "Epoch [817]: New best model saved with Validation Loss: 550475.0625\n",
      "Epoch [818]: New best model saved with Validation Loss: 550451.1875\n",
      "Epoch [819]: New best model saved with Validation Loss: 550427.5625\n",
      "Epoch [820/1000], Training Loss: 8.6929, Validation Loss: 550404.3125\n",
      "Epoch [820]: New best model saved with Validation Loss: 550404.3125\n",
      "Epoch [821]: New best model saved with Validation Loss: 550381.1875\n",
      "Epoch [822]: New best model saved with Validation Loss: 550358.3750\n",
      "Epoch [823]: New best model saved with Validation Loss: 550335.8750\n"
     ]
    },
    {
     "name": "stderr",
     "output_type": "stream",
     "text": [
      "Training epochs:  84%|████████▍ | 838/1000 [00:05<00:01, 118.64it/s]"
     ]
    },
    {
     "name": "stdout",
     "output_type": "stream",
     "text": [
      "Epoch [824]: New best model saved with Validation Loss: 550313.3125\n",
      "Epoch [825]: New best model saved with Validation Loss: 550291.3125\n",
      "Epoch [826]: New best model saved with Validation Loss: 550269.4375\n",
      "Epoch [827]: New best model saved with Validation Loss: 550247.7500\n",
      "Epoch [828]: New best model saved with Validation Loss: 550226.3750\n",
      "Epoch [829]: New best model saved with Validation Loss: 550205.0625\n",
      "Epoch [830/1000], Training Loss: 6.9797, Validation Loss: 550184.1875\n",
      "Epoch [830]: New best model saved with Validation Loss: 550184.1875\n",
      "Epoch [831]: New best model saved with Validation Loss: 550163.5000\n",
      "Epoch [832]: New best model saved with Validation Loss: 550142.8125\n",
      "Epoch [833]: New best model saved with Validation Loss: 550122.6875\n",
      "Epoch [834]: New best model saved with Validation Loss: 550102.4375\n",
      "Epoch [835]: New best model saved with Validation Loss: 550082.5625\n",
      "Epoch [836]: New best model saved with Validation Loss: 550063.0000\n",
      "Epoch [837]: New best model saved with Validation Loss: 550043.3125\n",
      "Epoch [838]: New best model saved with Validation Loss: 550024.1875\n",
      "Epoch [839]: New best model saved with Validation Loss: 550005.2500\n",
      "Epoch [840/1000], Training Loss: 5.5914, Validation Loss: 549986.2500\n",
      "Epoch [840]: New best model saved with Validation Loss: 549986.2500\n",
      "Epoch [841]: New best model saved with Validation Loss: 549967.6250\n",
      "Epoch [842]: New best model saved with Validation Loss: 549949.1250\n",
      "Epoch [843]: New best model saved with Validation Loss: 549930.8125\n",
      "Epoch [844]: New best model saved with Validation Loss: 549912.8750\n",
      "Epoch [845]: New best model saved with Validation Loss: 549895.0000\n",
      "Epoch [846]: New best model saved with Validation Loss: 549877.3125\n"
     ]
    },
    {
     "name": "stderr",
     "output_type": "stream",
     "text": [
      "Training epochs:  86%|████████▋ | 863/1000 [00:06<00:01, 116.18it/s]"
     ]
    },
    {
     "name": "stdout",
     "output_type": "stream",
     "text": [
      "Epoch [847]: New best model saved with Validation Loss: 549859.8125\n",
      "Epoch [848]: New best model saved with Validation Loss: 549842.5625\n",
      "Epoch [849]: New best model saved with Validation Loss: 549825.5000\n",
      "Epoch [850/1000], Training Loss: 4.4694, Validation Loss: 549808.5000\n",
      "Epoch [850]: New best model saved with Validation Loss: 549808.5000\n",
      "Epoch [851]: New best model saved with Validation Loss: 549791.8750\n",
      "Epoch [852]: New best model saved with Validation Loss: 549775.2500\n",
      "Epoch [853]: New best model saved with Validation Loss: 549758.9375\n",
      "Epoch [854]: New best model saved with Validation Loss: 549742.6875\n",
      "Epoch [855]: New best model saved with Validation Loss: 549726.7500\n",
      "Epoch [856]: New best model saved with Validation Loss: 549710.8125\n",
      "Epoch [857]: New best model saved with Validation Loss: 549695.1250\n",
      "Epoch [858]: New best model saved with Validation Loss: 549679.5625\n",
      "Epoch [859]: New best model saved with Validation Loss: 549664.3125\n",
      "Epoch [860/1000], Training Loss: 3.5638, Validation Loss: 549648.9375\n",
      "Epoch [860]: New best model saved with Validation Loss: 549648.9375\n",
      "Epoch [861]: New best model saved with Validation Loss: 549634.0625\n",
      "Epoch [862]: New best model saved with Validation Loss: 549619.0625\n",
      "Epoch [863]: New best model saved with Validation Loss: 549604.5000\n",
      "Epoch [864]: New best model saved with Validation Loss: 549589.8750\n",
      "Epoch [865]: New best model saved with Validation Loss: 549575.4375\n",
      "Epoch [866]: New best model saved with Validation Loss: 549561.3125\n",
      "Epoch [867]: New best model saved with Validation Loss: 549547.3125\n",
      "Epoch [868]: New best model saved with Validation Loss: 549533.3125\n",
      "Epoch [869]: New best model saved with Validation Loss: 549519.7500\n",
      "Epoch [870/1000], Training Loss: 2.8353, Validation Loss: 549505.9375\n",
      "Epoch [870]: New best model saved with Validation Loss: 549505.9375\n",
      "Epoch [871]: New best model saved with Validation Loss: 549492.5000\n",
      "Epoch [872]: New best model saved with Validation Loss: 549479.2500\n",
      "Epoch [873]: New best model saved with Validation Loss: 549466.1875\n"
     ]
    },
    {
     "name": "stderr",
     "output_type": "stream",
     "text": [
      "Training epochs:  89%|████████▊ | 887/1000 [00:06<00:00, 113.41it/s]"
     ]
    },
    {
     "name": "stdout",
     "output_type": "stream",
     "text": [
      "Epoch [874]: New best model saved with Validation Loss: 549453.0000\n",
      "Epoch [875]: New best model saved with Validation Loss: 549440.0625\n",
      "Epoch [876]: New best model saved with Validation Loss: 549427.4375\n",
      "Epoch [877]: New best model saved with Validation Loss: 549414.6875\n",
      "Epoch [878]: New best model saved with Validation Loss: 549402.4375\n",
      "Epoch [879]: New best model saved with Validation Loss: 549390.0000\n",
      "Epoch [880/1000], Training Loss: 2.2506, Validation Loss: 549377.8750\n",
      "Epoch [880]: New best model saved with Validation Loss: 549377.8750\n",
      "Epoch [881]: New best model saved with Validation Loss: 549365.7500\n",
      "Epoch [882]: New best model saved with Validation Loss: 549353.8125\n",
      "Epoch [883]: New best model saved with Validation Loss: 549342.0625\n",
      "Epoch [884]: New best model saved with Validation Loss: 549330.3125\n",
      "Epoch [885]: New best model saved with Validation Loss: 549318.8125\n",
      "Epoch [886]: New best model saved with Validation Loss: 549307.4375\n",
      "Epoch [887]: New best model saved with Validation Loss: 549296.1875\n",
      "Epoch [888]: New best model saved with Validation Loss: 549285.0625\n",
      "Epoch [889]: New best model saved with Validation Loss: 549274.0000\n",
      "Epoch [890/1000], Training Loss: 1.7824, Validation Loss: 549263.0625\n",
      "Epoch [890]: New best model saved with Validation Loss: 549263.0625\n",
      "Epoch [891]: New best model saved with Validation Loss: 549252.4375\n",
      "Epoch [892]: New best model saved with Validation Loss: 549241.6875\n",
      "Epoch [893]: New best model saved with Validation Loss: 549231.1250\n",
      "Epoch [894]: New best model saved with Validation Loss: 549220.6875\n",
      "Epoch [895]: New best model saved with Validation Loss: 549210.3750\n"
     ]
    },
    {
     "name": "stderr",
     "output_type": "stream",
     "text": [
      "Training epochs:  91%|█████████ | 912/1000 [00:06<00:00, 114.70it/s]"
     ]
    },
    {
     "name": "stdout",
     "output_type": "stream",
     "text": [
      "Epoch [896]: New best model saved with Validation Loss: 549200.0625\n",
      "Epoch [897]: New best model saved with Validation Loss: 549190.1875\n",
      "Epoch [898]: New best model saved with Validation Loss: 549180.1875\n",
      "Epoch [899]: New best model saved with Validation Loss: 549170.3125\n",
      "Epoch [900/1000], Training Loss: 1.4081, Validation Loss: 549160.5625\n",
      "Epoch [900]: New best model saved with Validation Loss: 549160.5625\n",
      "Epoch [901]: New best model saved with Validation Loss: 549150.8125\n",
      "Epoch [902]: New best model saved with Validation Loss: 549141.3125\n",
      "Epoch [903]: New best model saved with Validation Loss: 549131.8125\n",
      "Epoch [904]: New best model saved with Validation Loss: 549122.5625\n",
      "Epoch [905]: New best model saved with Validation Loss: 549113.3750\n",
      "Epoch [906]: New best model saved with Validation Loss: 549104.2500\n",
      "Epoch [907]: New best model saved with Validation Loss: 549095.0625\n",
      "Epoch [908]: New best model saved with Validation Loss: 549086.5000\n",
      "Epoch [909]: New best model saved with Validation Loss: 549077.6875\n",
      "Epoch [910/1000], Training Loss: 1.1100, Validation Loss: 549068.8750\n",
      "Epoch [910]: New best model saved with Validation Loss: 549068.8750\n",
      "Epoch [911]: New best model saved with Validation Loss: 549060.3750\n",
      "Epoch [912]: New best model saved with Validation Loss: 549051.6875\n",
      "Epoch [913]: New best model saved with Validation Loss: 549043.5000\n",
      "Epoch [914]: New best model saved with Validation Loss: 549035.0625\n",
      "Epoch [915]: New best model saved with Validation Loss: 549026.7500\n",
      "Epoch [916]: New best model saved with Validation Loss: 549018.8125\n",
      "Epoch [917]: New best model saved with Validation Loss: 549010.7500\n",
      "Epoch [918]: New best model saved with Validation Loss: 549002.7500\n",
      "Epoch [919]: New best model saved with Validation Loss: 548994.9375\n",
      "Epoch [920/1000], Training Loss: 0.8730, Validation Loss: 548987.0625\n",
      "Epoch [920]: New best model saved with Validation Loss: 548987.0625\n"
     ]
    },
    {
     "name": "stderr",
     "output_type": "stream",
     "text": [
      "Training epochs:  94%|█████████▍| 939/1000 [00:06<00:00, 119.43it/s]"
     ]
    },
    {
     "name": "stdout",
     "output_type": "stream",
     "text": [
      "Epoch [921]: New best model saved with Validation Loss: 548979.5000\n",
      "Epoch [922]: New best model saved with Validation Loss: 548971.8125\n",
      "Epoch [923]: New best model saved with Validation Loss: 548964.3125\n",
      "Epoch [924]: New best model saved with Validation Loss: 548957.0000\n",
      "Epoch [925]: New best model saved with Validation Loss: 548949.6875\n",
      "Epoch [926]: New best model saved with Validation Loss: 548942.3125\n",
      "Epoch [927]: New best model saved with Validation Loss: 548935.1875\n",
      "Epoch [928]: New best model saved with Validation Loss: 548928.1875\n",
      "Epoch [929]: New best model saved with Validation Loss: 548921.1250\n",
      "Epoch [930/1000], Training Loss: 0.6849, Validation Loss: 548914.3125\n",
      "Epoch [930]: New best model saved with Validation Loss: 548914.3125\n",
      "Epoch [931]: New best model saved with Validation Loss: 548907.2500\n",
      "Epoch [932]: New best model saved with Validation Loss: 548900.5625\n",
      "Epoch [933]: New best model saved with Validation Loss: 548894.0000\n",
      "Epoch [934]: New best model saved with Validation Loss: 548887.2500\n",
      "Epoch [935]: New best model saved with Validation Loss: 548880.6875\n",
      "Epoch [936]: New best model saved with Validation Loss: 548874.3125\n",
      "Epoch [937]: New best model saved with Validation Loss: 548867.9375\n",
      "Epoch [938]: New best model saved with Validation Loss: 548861.6875\n",
      "Epoch [939]: New best model saved with Validation Loss: 548855.4375\n",
      "Epoch [940/1000], Training Loss: 0.5361, Validation Loss: 548849.3125\n",
      "Epoch [940]: New best model saved with Validation Loss: 548849.3125\n",
      "Epoch [941]: New best model saved with Validation Loss: 548843.0000\n",
      "Epoch [942]: New best model saved with Validation Loss: 548837.0625\n",
      "Epoch [943]: New best model saved with Validation Loss: 548831.2500\n",
      "Epoch [944]: New best model saved with Validation Loss: 548825.1875\n"
     ]
    },
    {
     "name": "stderr",
     "output_type": "stream",
     "text": [
      "Training epochs:  97%|█████████▋| 966/1000 [00:07<00:00, 125.12it/s]"
     ]
    },
    {
     "name": "stdout",
     "output_type": "stream",
     "text": [
      "Epoch [945]: New best model saved with Validation Loss: 548819.4375\n",
      "Epoch [946]: New best model saved with Validation Loss: 548813.5000\n",
      "Epoch [947]: New best model saved with Validation Loss: 548808.0000\n",
      "Epoch [948]: New best model saved with Validation Loss: 548802.5000\n",
      "Epoch [949]: New best model saved with Validation Loss: 548796.9375\n",
      "Epoch [950/1000], Training Loss: 0.4187, Validation Loss: 548791.1875\n",
      "Epoch [950]: New best model saved with Validation Loss: 548791.1875\n",
      "Epoch [951]: New best model saved with Validation Loss: 548785.9375\n",
      "Epoch [952]: New best model saved with Validation Loss: 548780.6250\n",
      "Epoch [953]: New best model saved with Validation Loss: 548775.1875\n",
      "Epoch [954]: New best model saved with Validation Loss: 548770.0000\n",
      "Epoch [955]: New best model saved with Validation Loss: 548764.9375\n",
      "Epoch [956]: New best model saved with Validation Loss: 548759.7500\n",
      "Epoch [957]: New best model saved with Validation Loss: 548754.7500\n",
      "Epoch [958]: New best model saved with Validation Loss: 548749.7500\n",
      "Epoch [959]: New best model saved with Validation Loss: 548744.8125\n",
      "Epoch [960/1000], Training Loss: 0.3261, Validation Loss: 548739.8125\n",
      "Epoch [960]: New best model saved with Validation Loss: 548739.8125\n",
      "Epoch [961]: New best model saved with Validation Loss: 548735.1875\n",
      "Epoch [962]: New best model saved with Validation Loss: 548730.3750\n",
      "Epoch [963]: New best model saved with Validation Loss: 548725.5625\n",
      "Epoch [964]: New best model saved with Validation Loss: 548720.9375\n",
      "Epoch [965]: New best model saved with Validation Loss: 548716.5625\n",
      "Epoch [966]: New best model saved with Validation Loss: 548711.8125\n",
      "Epoch [967]: New best model saved with Validation Loss: 548707.4375\n",
      "Epoch [968]: New best model saved with Validation Loss: 548702.8125\n",
      "Epoch [969]: New best model saved with Validation Loss: 548698.5625\n",
      "Epoch [970/1000], Training Loss: 0.2535, Validation Loss: 548694.2500\n",
      "Epoch [970]: New best model saved with Validation Loss: 548694.2500\n",
      "Epoch [971]: New best model saved with Validation Loss: 548690.0000\n"
     ]
    },
    {
     "name": "stderr",
     "output_type": "stream",
     "text": [
      "Training epochs:  99%|█████████▉| 994/1000 [00:07<00:00, 125.22it/s]"
     ]
    },
    {
     "name": "stdout",
     "output_type": "stream",
     "text": [
      "Epoch [972]: New best model saved with Validation Loss: 548685.8125\n",
      "Epoch [973]: New best model saved with Validation Loss: 548681.5625\n",
      "Epoch [974]: New best model saved with Validation Loss: 548677.5000\n",
      "Epoch [975]: New best model saved with Validation Loss: 548673.1875\n",
      "Epoch [976]: New best model saved with Validation Loss: 548669.4375\n",
      "Epoch [977]: New best model saved with Validation Loss: 548665.5000\n",
      "Epoch [978]: New best model saved with Validation Loss: 548661.4375\n",
      "Epoch [979]: New best model saved with Validation Loss: 548657.6875\n",
      "Epoch [980/1000], Training Loss: 0.1966, Validation Loss: 548653.8750\n",
      "Epoch [980]: New best model saved with Validation Loss: 548653.8750\n",
      "Epoch [981]: New best model saved with Validation Loss: 548650.0000\n",
      "Epoch [982]: New best model saved with Validation Loss: 548646.1875\n",
      "Epoch [983]: New best model saved with Validation Loss: 548642.4375\n",
      "Epoch [984]: New best model saved with Validation Loss: 548638.6875\n",
      "Epoch [985]: New best model saved with Validation Loss: 548635.3125\n",
      "Epoch [986]: New best model saved with Validation Loss: 548631.6875\n",
      "Epoch [987]: New best model saved with Validation Loss: 548628.1875\n",
      "Epoch [988]: New best model saved with Validation Loss: 548624.6875\n",
      "Epoch [989]: New best model saved with Validation Loss: 548621.3750\n",
      "Epoch [990/1000], Training Loss: 0.1520, Validation Loss: 548617.8750\n",
      "Epoch [990]: New best model saved with Validation Loss: 548617.8750\n",
      "Epoch [991]: New best model saved with Validation Loss: 548614.5000\n",
      "Epoch [992]: New best model saved with Validation Loss: 548611.1250\n",
      "Epoch [993]: New best model saved with Validation Loss: 548608.0000\n",
      "Epoch [994]: New best model saved with Validation Loss: 548604.6875\n",
      "Epoch [995]: New best model saved with Validation Loss: 548601.5000\n",
      "Epoch [996]: New best model saved with Validation Loss: 548598.3125\n"
     ]
    },
    {
     "name": "stderr",
     "output_type": "stream",
     "text": [
      "Training epochs: 100%|██████████| 1000/1000 [00:07<00:00, 135.82it/s]"
     ]
    },
    {
     "name": "stdout",
     "output_type": "stream",
     "text": [
      "Epoch [997]: New best model saved with Validation Loss: 548595.1250\n",
      "Epoch [998]: New best model saved with Validation Loss: 548592.1875\n",
      "Epoch [999]: New best model saved with Validation Loss: 548589.0000\n",
      "Epoch [1000/1000], Training Loss: 0.1173, Validation Loss: 548586.2500\n",
      "Epoch [1000]: New best model saved with Validation Loss: 548586.2500\n"
     ]
    },
    {
     "name": "stderr",
     "output_type": "stream",
     "text": [
      "\n"
     ]
    }
   ],
   "source": [
    "import torch\n",
    "\n",
    "importlib.reload(python.model)\n",
    "from python.model import SimpleNN, train_model\n",
    "\n",
    "\n",
    "# Instantiate the model (input dimension based on x_train)\n",
    "model = SimpleNN(X_train_tensor.shape[1])\n",
    "\n",
    "# Define hyperparameters in a dictionary (adjust as needed)\n",
    "hyperparams = {\n",
    "    \"batch_size\": 32,\n",
    "    \"epochs\": 1000,\n",
    "    \"learning_rate\": 0.001,\n",
    "    \"print_every\": 10,\n",
    "    \"best_model_path\": \"best_model.pth\"\n",
    "}\n",
    "\n",
    "# Train the model using the training and validation datasets\n",
    "model, validation_losses = train_model(model, train_dataset, val_dataset, hyperparams)\n"
   ]
  },
  {
   "cell_type": "code",
   "execution_count": 51,
   "metadata": {},
   "outputs": [
    {
     "name": "stdout",
     "output_type": "stream",
     "text": [
      "Test Loss: 597989.9375\n"
     ]
    }
   ],
   "source": [
    "from python.model import evaluate_model\n",
    "import torch\n",
    "\n",
    "# Load the best model state (if not already loaded)\n",
    "model.load_state_dict(torch.load(hyperparams[\"best_model_path\"]))\n",
    "model.eval()\n",
    "\n",
    "# Evaluate the model on the test dataset\n",
    "test_loss = evaluate_model(model, test_dataset, hyperparams)\n",
    "print(f\"Test Loss: {test_loss:.4f}\")\n"
   ]
  },
  {
   "cell_type": "code",
   "execution_count": null,
   "metadata": {},
   "outputs": [],
   "source": []
  },
  {
   "cell_type": "code",
   "execution_count": null,
   "metadata": {},
   "outputs": [],
   "source": []
  },
  {
   "cell_type": "code",
   "execution_count": null,
   "metadata": {},
   "outputs": [],
   "source": []
  }
 ],
 "metadata": {
  "kernelspec": {
   "display_name": "cv1",
   "language": "python",
   "name": "python3"
  },
  "language_info": {
   "codemirror_mode": {
    "name": "ipython",
    "version": 3
   },
   "file_extension": ".py",
   "mimetype": "text/x-python",
   "name": "python",
   "nbconvert_exporter": "python",
   "pygments_lexer": "ipython3",
   "version": "3.12.4"
  }
 },
 "nbformat": 4,
 "nbformat_minor": 2
}
